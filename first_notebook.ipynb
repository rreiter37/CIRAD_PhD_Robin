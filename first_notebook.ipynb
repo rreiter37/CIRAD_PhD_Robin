{
 "cells": [
  {
   "cell_type": "markdown",
   "id": "e71dba53",
   "metadata": {},
   "source": [
    "## First Notebook"
   ]
  },
  {
   "cell_type": "markdown",
   "id": "e60ca7b5",
   "metadata": {},
   "source": [
    "### Importation of the libraries"
   ]
  },
  {
   "cell_type": "code",
   "execution_count": null,
   "id": "333abccb",
   "metadata": {},
   "outputs": [],
   "source": [
    "import time\n",
    "import os\n",
    "from pathlib import Path\n",
    "import numpy as np\n",
    "import pinard as pn\n",
    "import matplotlib.pyplot as plt\n",
    "import seaborn as sns\n",
    "import pandas as pd\n",
    "from IPython.display import display\n",
    "\n",
    "from pinard import utils\n",
    "from pinard import preprocessing as pp\n",
    "from pinard.model_selection import train_test_split_idx\n",
    "\n",
    "from sklearn.cross_decomposition import PLSRegression\n",
    "from sklearn.ensemble import StackingRegressor\n",
    "from sklearn.pipeline import Pipeline, FeatureUnion, make_pipeline\n",
    "from sklearn.preprocessing import MinMaxScaler\n",
    "from sklearn.compose import TransformedTargetRegressor\n",
    "from sklearn.decomposition import PCA\n",
    "from sklearn.ensemble import RandomForestRegressor\n",
    "from sklearn.model_selection import cross_validate, cross_val_predict\n",
    "from sklearn.linear_model import RidgeCV\n",
    "from xgboost import XGBRegressor\n",
    "from scipy.stats import ks_2samp\n",
    "from scipy.spatial.distance import pdist, squareform\n",
    "\n",
    "\n",
    "\n",
    "# import warnings filter\n",
    "from warnings import simplefilter\n",
    "# ignore all future warnings\n",
    "simplefilter(action='ignore', category=FutureWarning)"
   ]
  },
  {
   "cell_type": "markdown",
   "id": "314c7ad7",
   "metadata": {},
   "source": [
    "### Importation of the datasets"
   ]
  },
  {
   "cell_type": "code",
   "execution_count": 21,
   "id": "449239c7",
   "metadata": {},
   "outputs": [
    {
     "data": {
      "text/html": [
       "<div>\n",
       "<style scoped>\n",
       "    .dataframe tbody tr th:only-of-type {\n",
       "        vertical-align: middle;\n",
       "    }\n",
       "\n",
       "    .dataframe tbody tr th {\n",
       "        vertical-align: top;\n",
       "    }\n",
       "\n",
       "    .dataframe thead th {\n",
       "        text-align: right;\n",
       "    }\n",
       "</style>\n",
       "<table border=\"1\" class=\"dataframe\">\n",
       "  <thead>\n",
       "    <tr style=\"text-align: right;\">\n",
       "      <th></th>\n",
       "      <th>V1</th>\n",
       "    </tr>\n",
       "  </thead>\n",
       "  <tbody>\n",
       "    <tr>\n",
       "      <th>0</th>\n",
       "      <td>4.230000</td>\n",
       "    </tr>\n",
       "    <tr>\n",
       "      <th>1</th>\n",
       "      <td>6.020000</td>\n",
       "    </tr>\n",
       "    <tr>\n",
       "      <th>2</th>\n",
       "      <td>6.490000</td>\n",
       "    </tr>\n",
       "    <tr>\n",
       "      <th>3</th>\n",
       "      <td>8.920000</td>\n",
       "    </tr>\n",
       "    <tr>\n",
       "      <th>4</th>\n",
       "      <td>8.979999</td>\n",
       "    </tr>\n",
       "  </tbody>\n",
       "</table>\n",
       "</div>"
      ],
      "text/plain": [
       "         V1\n",
       "0  4.230000\n",
       "1  6.020000\n",
       "2  6.490000\n",
       "3  8.920000\n",
       "4  8.979999"
      ]
     },
     "metadata": {},
     "output_type": "display_data"
    }
   ],
   "source": [
    "mode = 'Regression' # 'Classification' or 'Regression'\n",
    " \n",
    "## Choose the source of data to be imported\n",
    "# 'BeerOriginalExtract' or 'Digest_0.8' or 'YamProtein' for regression //\n",
    "# 'CoffeeSpecies' or 'Malaria2024' or 'mDigest_custom3' or 'WhiskyConcentration' or 'YamMould' for classification\n",
    "data_source = 'BeerOriginalExtract'\n",
    "\n",
    "\n",
    "## Importation of the datasets with the adapted path\n",
    "\n",
    "file_name = Path(\"Data/%s/%s\"% (mode,data_source))\n",
    "full_path = str(file_name.resolve()).replace(\"\\\\\", \"/\")\n",
    "Xcal = pd.read_csv(f'{full_path}/Xcal.csv', sep=';')\n",
    "Xval = pd.read_csv(f'{full_path}/Xval.csv', sep=';')\n",
    "Ycal = pd.read_csv(f'{full_path}/Ycal.csv', sep=';')\n",
    "Yval = pd.read_csv(f'{full_path}/Yval.csv', sep=';')\n",
    "\n",
    "display(Ycal.head(5))"
   ]
  },
  {
   "cell_type": "markdown",
   "id": "3954ee89",
   "metadata": {},
   "source": [
    "### Fucntion to plot appropriate spectra"
   ]
  },
  {
   "cell_type": "code",
   "execution_count": 22,
   "id": "d1a6ebec",
   "metadata": {},
   "outputs": [],
   "source": [
    "def plot_spectra(X, names, title='Visualization of the spectra'):\n",
    "    if isinstance(X, pd.DataFrame):\n",
    "        X = [X.values]\n",
    "    elif isinstance(X, np.ndarray):\n",
    "            X = [X]\n",
    "\n",
    "    plt.figure(figsize=(10, 5))\n",
    "    colors = sns.color_palette(palette = \"Paired\")\n",
    "    for i, dataset in enumerate(X):\n",
    "         plt.plot(dataset.T, color=colors[i])\n",
    "         plt.plot([], [], color=colors[i], label=names[i])\n",
    "\n",
    "    plt.legend(loc='upper left', fontsize='small')\n",
    "    plt.title(title)\n",
    "    plt.xlabel('Wavelength')\n",
    "    plt.ylabel('Absorbance')\n",
    "    plt.xticks(np.arange(0, dataset.shape[1], dataset.shape[1]//10), rotation=45)\n",
    "    plt.show(block=False)"
   ]
  },
  {
   "cell_type": "markdown",
   "id": "9ab7e659",
   "metadata": {},
   "source": [
    "### Test of pipelines with Pinard"
   ]
  },
  {
   "cell_type": "code",
   "execution_count": null,
   "id": "ff609cb9",
   "metadata": {},
   "outputs": [
    {
     "name": "stderr",
     "output_type": "stream",
     "text": [
      "c:\\Users\\robin\\CIRAD\\VSCode\\new_project\\.venv\\Lib\\site-packages\\sklearn\\utils\\validation.py:2732: UserWarning: X has feature names, but SavitzkyGolay was fitted without feature names\n",
      "  warnings.warn(\n"
     ]
    }
   ],
   "source": [
    "# Simple pipeline declaration\n",
    "pipeline = Pipeline([\n",
    "    ('scaler', MinMaxScaler()),\n",
    "    ('preprocessing', pp.SavitzkyGolay()),\n",
    "    ('pls', PLSRegression(n_components=10, scale=False))\n",
    "    ])\n",
    "\n",
    "# Transform the data with the desired part of the pipeline\n",
    "Xcal_transformed = pipeline[1].fit_transform(Xcal)"
   ]
  },
  {
   "cell_type": "markdown",
   "id": "193c5ab6",
   "metadata": {},
   "source": [
    "### Visualize the spectra after preprocessing"
   ]
  },
  {
   "cell_type": "code",
   "execution_count": null,
   "id": "a5c4b301",
   "metadata": {},
   "outputs": [],
   "source": [
    "plot_spectra([Xcal, Xcal_transformed], \n",
    "             names = ['Before transformation', 'After transformation'], \n",
    "             title= 'Visualization of the spectra with or without preprocessing')\n",
    "plt.show()"
   ]
  },
  {
   "cell_type": "markdown",
   "id": "8ee10dd2",
   "metadata": {},
   "source": [
    "### Test on diverse preprocessing methods"
   ]
  },
  {
   "cell_type": "code",
   "execution_count": null,
   "id": "913bee1c",
   "metadata": {},
   "outputs": [],
   "source": [
    "# List of preprocessing methods to be used\n",
    "preprocessing_methods = [\n",
    "    pp.SavitzkyGolay(),\n",
    "    pp.SavitzkyGolay(deriv=1),\n",
    "    pp.SavitzkyGolay(deriv=2),\n",
    "    pp.SavitzkyGolay(deriv=3),\n",
    "    pp.SavitzkyGolay(deriv=4),\n",
    "    pp.SavitzkyGolay(deriv=5),\n",
    "    pp.SavitzkyGolay(deriv=6),\n",
    "    pp.Gaussian(order = 1, sigma = 2),\n",
    "    pp.Gaussian(order = 2, sigma = 1),\n",
    "    pp.Gaussian(order = 3, sigma = 1),\n",
    "    pp.Gaussian(order = 4, sigma = 1),\n",
    "    pp.Gaussian(order = 5, sigma = 1)\n",
    "    ]\n",
    "\n",
    "# List of transformed spectra\n",
    "transformed_spectra = []\n",
    "for method in preprocessing_methods:\n",
    "    # Apply the preprocessing method to the spectra\n",
    "    transformed_spectrum = method.fit_transform(Xcal.values)\n",
    "    \n",
    "    # Append the transformed spectrum to the list\n",
    "    transformed_spectra.append(transformed_spectrum)"
   ]
  },
  {
   "cell_type": "markdown",
   "id": "b329b077",
   "metadata": {},
   "source": [
    "### Dissimilarity with the Kolmogorov-Smirnov test"
   ]
  },
  {
   "cell_type": "code",
   "execution_count": null,
   "id": "51656023",
   "metadata": {},
   "outputs": [],
   "source": [
    "def ks_tests_apparies(X1, X2):\n",
    "    \"\"\"\n",
    "    Make a Kolmogorov-Smirnov test for each pair of variables in the spectral datasets X1 and X2, \n",
    "    each pair corresponding to a given wavelength.\n",
    "    \n",
    "    Parameters :\n",
    "        X1 (list of arrays): Set of spectra with preprocessing method 1.\n",
    "        X2 (list of arrays): Set of spectra with preprocessing method 2.\n",
    "        \n",
    "    Returns :\n",
    "        results (list of dicts): List of dictionaries containing the KS statistic and p-value for each wavelength.\n",
    "    \"\"\"\n",
    "    if len(X1) != len(X2):\n",
    "        raise ValueError(\"The two lists must have the same length.\")\n",
    "    \n",
    "    results = []\n",
    "    \n",
    "    for i, (x1_i, x2_i) in enumerate(zip(X1, X2)):\n",
    "        ks_stat, p_val = ks_2samp(x1_i, x2_i)\n",
    "        results.append({\n",
    "            \"paire\": i,\n",
    "            \"ks_stat\": ks_stat,\n",
    "            \"p_value\": p_val\n",
    "        })\n",
    "    \n",
    "    return results\n",
    "\n",
    "\n",
    "def dissim_KS(X1, X2):\n",
    "    \"\"\"\n",
    "    Compute the dissimilarity between two spectral datasets using the Kolmogorov-Smirnov test.\n",
    "    \n",
    "    Parameters:\n",
    "        X1 (list of arrays): Set of spectra with preprocessing method 1.\n",
    "        X2 (list of arrays): Set of spectra with preprocessing method 2.\n",
    "        \n",
    "    Returns:\n",
    "        dissimilarity (float): Dissimilarity value between the two spectral datasets.\n",
    "    \"\"\"\n",
    "    ks_results = ks_tests_apparies(X1, X2)\n",
    "    \n",
    "    # Compute the dissimilarity as the mean of the KS statistics\n",
    "    dissimilarity = np.mean([result[\"ks_stat\"] for result in ks_results])\n",
    "    \n",
    "    return dissimilarity\n"
   ]
  },
  {
   "cell_type": "markdown",
   "id": "d114615a",
   "metadata": {},
   "source": [
    "### Compute the KS dissimilarities for several preprocessing methods"
   ]
  },
  {
   "cell_type": "code",
   "execution_count": null,
   "id": "b40ef126",
   "metadata": {},
   "outputs": [],
   "source": [
    "def compare_preprocessings(preprocessing_list, Xcal):\n",
    "    \"\"\"\n",
    "    Computes pairwise distances between vectors in data_list using a custom distance function.\n",
    "    \n",
    "    Parameters:\n",
    "        data_list (list of arrays): A list where each element is a 1D array or vector.\n",
    "        distance_func (callable): A function that takes two vectors and returns a scalar distance.\n",
    "        \n",
    "    Returns:\n",
    "        distance_matrix (ndarray): A square matrix of pairwise distances.\n",
    "    \"\"\"\n",
    "    # Convert the list into a 2D NumPy array (each row is a vector)\n",
    "    matrix = np.array(preprocessing_list)\n",
    "\n",
    "    # Compute condensed distance vector using the custom function\n",
    "    condensed_distances = pdist(matrix, metric=dissim_KS)\n",
    "\n",
    "    # Convert the condensed form to a square matrix\n",
    "    distance_matrix = squareform(condensed_distances)\n",
    "\n",
    "    return distance_matrix\n",
    "\n"
   ]
  }
 ],
 "metadata": {
  "kernelspec": {
   "display_name": ".venv",
   "language": "python",
   "name": "python3"
  },
  "language_info": {
   "codemirror_mode": {
    "name": "ipython",
    "version": 3
   },
   "file_extension": ".py",
   "mimetype": "text/x-python",
   "name": "python",
   "nbconvert_exporter": "python",
   "pygments_lexer": "ipython3",
   "version": "3.11.4"
  }
 },
 "nbformat": 4,
 "nbformat_minor": 5
}
