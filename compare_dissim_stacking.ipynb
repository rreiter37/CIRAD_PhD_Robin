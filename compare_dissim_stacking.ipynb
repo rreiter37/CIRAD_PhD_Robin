{
 "cells": [
  {
   "cell_type": "markdown",
   "id": "632b512d",
   "metadata": {},
   "source": [
    "## Compare the functions of dissimilarity on basic stacking models"
   ]
  },
  {
   "cell_type": "markdown",
   "id": "8c72d1c8",
   "metadata": {},
   "source": [
    "### Libraries importation"
   ]
  },
  {
   "cell_type": "code",
   "execution_count": 1,
   "id": "ad464741",
   "metadata": {},
   "outputs": [],
   "source": [
    "import time\n",
    "import os\n",
    "import math\n",
    "import csv\n",
    "import importlib\n",
    "from pathlib import Path\n",
    "import numpy as np\n",
    "import pinard as pn\n",
    "import matplotlib.pyplot as plt\n",
    "import seaborn as sns\n",
    "import pandas as pd\n",
    "import networkx as nx\n",
    "\n",
    "from pinard import utils\n",
    "from pinard import preprocessing as pp\n",
    "\n",
    "from sklearn.cross_decomposition import PLSRegression\n",
    "from sklearn.ensemble import StackingRegressor\n",
    "from sklearn.pipeline import Pipeline, FeatureUnion, make_pipeline\n",
    "from sklearn.preprocessing import MinMaxScaler\n",
    "from sklearn.compose import TransformedTargetRegressor\n",
    "from sklearn.decomposition import PCA\n",
    "from sklearn.ensemble import RandomForestRegressor\n",
    "from sklearn.model_selection import cross_validate, cross_val_predict\n",
    "from sklearn.linear_model import RidgeCV, LinearRegression\n",
    "from xgboost import XGBRegressor\n",
    "from itertools import combinations\n",
    "from dissimilarity_functions import *\n",
    "\n",
    "\n",
    "# import warnings filter\n",
    "from warnings import simplefilter\n",
    "# ignore all future warnings\n",
    "simplefilter(action='ignore', category=FutureWarning)\n",
    "simplefilter(action='ignore', category=UserWarning)"
   ]
  },
  {
   "cell_type": "markdown",
   "id": "9984adc7",
   "metadata": {},
   "source": [
    "### Importation of the datasets"
   ]
  },
  {
   "cell_type": "code",
   "execution_count": null,
   "id": "17decfa9",
   "metadata": {},
   "outputs": [],
   "source": [
    "# Function to load a CSV file with automatic separator detection\n",
    "\n",
    "def load_csv_auto_sep(mode, data_source, type_data, verbose=True):\n",
    " \n",
    "    # Regression: 'BeerOriginalExtract' or 'Digest_0.8' or 'YamProtein' //\n",
    "    # Classification: 'CoffeeSpecies' or 'Malaria2024' or 'mDigest_custom3' or 'WhiskyConcentration' or 'YamMould'\n",
    "\n",
    "    ## Importation of the datasets with the adapted path\n",
    "    file_name = Path(\"Data/%s/%s\"% (mode,data_source))\n",
    "    full_path = str(file_name.resolve()).replace(\"\\\\\", \"/\")\n",
    "    path = full_path + \"/%s.csv\" % type_data\n",
    "\n",
    "    with open(path, 'r', newline='', encoding='utf-8') as f:\n",
    "        # Read a small portion of the file to detect the separator\n",
    "        excerpt = f.read(1024)\n",
    "        f.seek(0)  # return to the beginning of the file\n",
    "\n",
    "        # Detection of the dialect\n",
    "        dialect = csv.Sniffer().sniff(excerpt)\n",
    "        sep = dialect.delimiter\n",
    "\n",
    "        if verbose: print(\"Detected separator : %s\" % sep)\n",
    "        \n",
    "        # Load the file with pandas\n",
    "        df = pd.read_csv(f, delimiter=sep)\n",
    "\n",
    "        if len(df.columns) > 1:\n",
    "            # Drop the useless column if it exists\n",
    "            df = df.drop(columns=[df.columns[1]])\n",
    "        \n",
    "        return df"
   ]
  },
  {
   "cell_type": "code",
   "execution_count": 96,
   "id": "291d53b5",
   "metadata": {},
   "outputs": [
    {
     "name": "stdout",
     "output_type": "stream",
     "text": [
      "Detected separator : ;\n",
      "Detected separator : ;\n",
      "Detected separator : \n",
      "Detected separator : \n",
      "Number of spectra for calibration:  784\n",
      "Number of spectra for test:  248\n"
     ]
    },
    {
     "data": {
      "application/vnd.microsoft.datawrangler.viewer.v0+json": {
       "columns": [
        {
         "name": "index",
         "rawType": "int64",
         "type": "integer"
        },
        {
         "name": "V1",
         "rawType": "float64",
         "type": "float"
        },
        {
         "name": "V3",
         "rawType": "float64",
         "type": "float"
        },
        {
         "name": "V4",
         "rawType": "float64",
         "type": "float"
        },
        {
         "name": "V5",
         "rawType": "float64",
         "type": "float"
        },
        {
         "name": "V6",
         "rawType": "float64",
         "type": "float"
        },
        {
         "name": "V7",
         "rawType": "float64",
         "type": "float"
        },
        {
         "name": "V8",
         "rawType": "float64",
         "type": "float"
        },
        {
         "name": "V9",
         "rawType": "float64",
         "type": "float"
        },
        {
         "name": "V10",
         "rawType": "float64",
         "type": "float"
        },
        {
         "name": "V11",
         "rawType": "float64",
         "type": "float"
        },
        {
         "name": "V12",
         "rawType": "float64",
         "type": "float"
        },
        {
         "name": "V13",
         "rawType": "float64",
         "type": "float"
        },
        {
         "name": "V14",
         "rawType": "float64",
         "type": "float"
        },
        {
         "name": "V15",
         "rawType": "float64",
         "type": "float"
        },
        {
         "name": "V16",
         "rawType": "float64",
         "type": "float"
        },
        {
         "name": "V17",
         "rawType": "float64",
         "type": "float"
        },
        {
         "name": "V18",
         "rawType": "float64",
         "type": "float"
        },
        {
         "name": "V19",
         "rawType": "float64",
         "type": "float"
        },
        {
         "name": "V20",
         "rawType": "float64",
         "type": "float"
        },
        {
         "name": "V21",
         "rawType": "float64",
         "type": "float"
        },
        {
         "name": "V22",
         "rawType": "float64",
         "type": "float"
        },
        {
         "name": "V23",
         "rawType": "float64",
         "type": "float"
        },
        {
         "name": "V24",
         "rawType": "float64",
         "type": "float"
        },
        {
         "name": "V25",
         "rawType": "float64",
         "type": "float"
        },
        {
         "name": "V26",
         "rawType": "float64",
         "type": "float"
        },
        {
         "name": "V27",
         "rawType": "float64",
         "type": "float"
        },
        {
         "name": "V28",
         "rawType": "float64",
         "type": "float"
        },
        {
         "name": "V29",
         "rawType": "float64",
         "type": "float"
        },
        {
         "name": "V30",
         "rawType": "float64",
         "type": "float"
        },
        {
         "name": "V31",
         "rawType": "float64",
         "type": "float"
        },
        {
         "name": "V32",
         "rawType": "float64",
         "type": "float"
        },
        {
         "name": "V33",
         "rawType": "float64",
         "type": "float"
        },
        {
         "name": "V34",
         "rawType": "float64",
         "type": "float"
        },
        {
         "name": "V35",
         "rawType": "float64",
         "type": "float"
        },
        {
         "name": "V36",
         "rawType": "float64",
         "type": "float"
        },
        {
         "name": "V37",
         "rawType": "float64",
         "type": "float"
        },
        {
         "name": "V38",
         "rawType": "float64",
         "type": "float"
        },
        {
         "name": "V39",
         "rawType": "float64",
         "type": "float"
        },
        {
         "name": "V40",
         "rawType": "float64",
         "type": "float"
        },
        {
         "name": "V41",
         "rawType": "float64",
         "type": "float"
        },
        {
         "name": "V42",
         "rawType": "float64",
         "type": "float"
        },
        {
         "name": "V43",
         "rawType": "float64",
         "type": "float"
        },
        {
         "name": "V44",
         "rawType": "float64",
         "type": "float"
        },
        {
         "name": "V45",
         "rawType": "float64",
         "type": "float"
        },
        {
         "name": "V46",
         "rawType": "float64",
         "type": "float"
        },
        {
         "name": "V47",
         "rawType": "float64",
         "type": "float"
        },
        {
         "name": "V48",
         "rawType": "float64",
         "type": "float"
        },
        {
         "name": "V49",
         "rawType": "float64",
         "type": "float"
        },
        {
         "name": "V50",
         "rawType": "float64",
         "type": "float"
        },
        {
         "name": "V51",
         "rawType": "float64",
         "type": "float"
        },
        {
         "name": "V52",
         "rawType": "float64",
         "type": "float"
        },
        {
         "name": "V53",
         "rawType": "float64",
         "type": "float"
        },
        {
         "name": "V54",
         "rawType": "float64",
         "type": "float"
        },
        {
         "name": "V55",
         "rawType": "float64",
         "type": "float"
        },
        {
         "name": "V56",
         "rawType": "float64",
         "type": "float"
        },
        {
         "name": "V57",
         "rawType": "float64",
         "type": "float"
        },
        {
         "name": "V58",
         "rawType": "float64",
         "type": "float"
        },
        {
         "name": "V59",
         "rawType": "float64",
         "type": "float"
        },
        {
         "name": "V60",
         "rawType": "float64",
         "type": "float"
        },
        {
         "name": "V61",
         "rawType": "float64",
         "type": "float"
        },
        {
         "name": "V62",
         "rawType": "float64",
         "type": "float"
        },
        {
         "name": "V63",
         "rawType": "float64",
         "type": "float"
        },
        {
         "name": "V64",
         "rawType": "float64",
         "type": "float"
        },
        {
         "name": "V65",
         "rawType": "float64",
         "type": "float"
        },
        {
         "name": "V66",
         "rawType": "float64",
         "type": "float"
        },
        {
         "name": "V67",
         "rawType": "float64",
         "type": "float"
        },
        {
         "name": "V68",
         "rawType": "float64",
         "type": "float"
        },
        {
         "name": "V69",
         "rawType": "float64",
         "type": "float"
        },
        {
         "name": "V70",
         "rawType": "float64",
         "type": "float"
        },
        {
         "name": "V71",
         "rawType": "float64",
         "type": "float"
        },
        {
         "name": "V72",
         "rawType": "float64",
         "type": "float"
        },
        {
         "name": "V73",
         "rawType": "float64",
         "type": "float"
        },
        {
         "name": "V74",
         "rawType": "float64",
         "type": "float"
        },
        {
         "name": "V75",
         "rawType": "float64",
         "type": "float"
        },
        {
         "name": "V76",
         "rawType": "float64",
         "type": "float"
        },
        {
         "name": "V77",
         "rawType": "float64",
         "type": "float"
        },
        {
         "name": "V78",
         "rawType": "float64",
         "type": "float"
        },
        {
         "name": "V79",
         "rawType": "float64",
         "type": "float"
        },
        {
         "name": "V80",
         "rawType": "float64",
         "type": "float"
        },
        {
         "name": "V81",
         "rawType": "float64",
         "type": "float"
        },
        {
         "name": "V82",
         "rawType": "float64",
         "type": "float"
        },
        {
         "name": "V83",
         "rawType": "float64",
         "type": "float"
        },
        {
         "name": "V84",
         "rawType": "float64",
         "type": "float"
        },
        {
         "name": "V85",
         "rawType": "float64",
         "type": "float"
        },
        {
         "name": "V86",
         "rawType": "float64",
         "type": "float"
        },
        {
         "name": "V87",
         "rawType": "float64",
         "type": "float"
        },
        {
         "name": "V88",
         "rawType": "float64",
         "type": "float"
        },
        {
         "name": "V89",
         "rawType": "float64",
         "type": "float"
        },
        {
         "name": "V90",
         "rawType": "float64",
         "type": "float"
        },
        {
         "name": "V91",
         "rawType": "float64",
         "type": "float"
        },
        {
         "name": "V92",
         "rawType": "float64",
         "type": "float"
        },
        {
         "name": "V93",
         "rawType": "float64",
         "type": "float"
        },
        {
         "name": "V94",
         "rawType": "float64",
         "type": "float"
        },
        {
         "name": "V95",
         "rawType": "float64",
         "type": "float"
        },
        {
         "name": "V96",
         "rawType": "float64",
         "type": "float"
        },
        {
         "name": "V97",
         "rawType": "float64",
         "type": "float"
        },
        {
         "name": "V98",
         "rawType": "float64",
         "type": "float"
        },
        {
         "name": "V99",
         "rawType": "float64",
         "type": "float"
        },
        {
         "name": "V100",
         "rawType": "float64",
         "type": "float"
        },
        {
         "name": "V101",
         "rawType": "float64",
         "type": "float"
        },
        {
         "name": "V102",
         "rawType": "float64",
         "type": "float"
        },
        {
         "name": "V103",
         "rawType": "float64",
         "type": "float"
        },
        {
         "name": "V104",
         "rawType": "float64",
         "type": "float"
        },
        {
         "name": "V105",
         "rawType": "float64",
         "type": "float"
        },
        {
         "name": "V106",
         "rawType": "float64",
         "type": "float"
        },
        {
         "name": "V107",
         "rawType": "float64",
         "type": "float"
        },
        {
         "name": "V108",
         "rawType": "float64",
         "type": "float"
        },
        {
         "name": "V109",
         "rawType": "float64",
         "type": "float"
        },
        {
         "name": "V110",
         "rawType": "float64",
         "type": "float"
        },
        {
         "name": "V111",
         "rawType": "float64",
         "type": "float"
        },
        {
         "name": "V112",
         "rawType": "float64",
         "type": "float"
        },
        {
         "name": "V113",
         "rawType": "float64",
         "type": "float"
        },
        {
         "name": "V114",
         "rawType": "float64",
         "type": "float"
        },
        {
         "name": "V115",
         "rawType": "float64",
         "type": "float"
        },
        {
         "name": "V116",
         "rawType": "float64",
         "type": "float"
        },
        {
         "name": "V117",
         "rawType": "float64",
         "type": "float"
        },
        {
         "name": "V118",
         "rawType": "float64",
         "type": "float"
        },
        {
         "name": "V119",
         "rawType": "float64",
         "type": "float"
        },
        {
         "name": "V120",
         "rawType": "float64",
         "type": "float"
        },
        {
         "name": "V121",
         "rawType": "float64",
         "type": "float"
        },
        {
         "name": "V122",
         "rawType": "float64",
         "type": "float"
        },
        {
         "name": "V123",
         "rawType": "float64",
         "type": "float"
        },
        {
         "name": "V124",
         "rawType": "float64",
         "type": "float"
        },
        {
         "name": "V125",
         "rawType": "float64",
         "type": "float"
        },
        {
         "name": "V126",
         "rawType": "float64",
         "type": "float"
        },
        {
         "name": "V127",
         "rawType": "float64",
         "type": "float"
        },
        {
         "name": "V128",
         "rawType": "float64",
         "type": "float"
        },
        {
         "name": "V129",
         "rawType": "float64",
         "type": "float"
        },
        {
         "name": "V130",
         "rawType": "float64",
         "type": "float"
        },
        {
         "name": "V131",
         "rawType": "float64",
         "type": "float"
        },
        {
         "name": "V132",
         "rawType": "float64",
         "type": "float"
        },
        {
         "name": "V133",
         "rawType": "float64",
         "type": "float"
        },
        {
         "name": "V134",
         "rawType": "float64",
         "type": "float"
        },
        {
         "name": "V135",
         "rawType": "float64",
         "type": "float"
        },
        {
         "name": "V136",
         "rawType": "float64",
         "type": "float"
        },
        {
         "name": "V137",
         "rawType": "float64",
         "type": "float"
        },
        {
         "name": "V138",
         "rawType": "float64",
         "type": "float"
        },
        {
         "name": "V139",
         "rawType": "float64",
         "type": "float"
        },
        {
         "name": "V140",
         "rawType": "float64",
         "type": "float"
        },
        {
         "name": "V141",
         "rawType": "float64",
         "type": "float"
        },
        {
         "name": "V142",
         "rawType": "float64",
         "type": "float"
        },
        {
         "name": "V143",
         "rawType": "float64",
         "type": "float"
        },
        {
         "name": "V144",
         "rawType": "float64",
         "type": "float"
        },
        {
         "name": "V145",
         "rawType": "float64",
         "type": "float"
        },
        {
         "name": "V146",
         "rawType": "float64",
         "type": "float"
        },
        {
         "name": "V147",
         "rawType": "float64",
         "type": "float"
        },
        {
         "name": "V148",
         "rawType": "float64",
         "type": "float"
        },
        {
         "name": "V149",
         "rawType": "float64",
         "type": "float"
        },
        {
         "name": "V150",
         "rawType": "float64",
         "type": "float"
        },
        {
         "name": "V151",
         "rawType": "float64",
         "type": "float"
        },
        {
         "name": "V152",
         "rawType": "float64",
         "type": "float"
        },
        {
         "name": "V153",
         "rawType": "float64",
         "type": "float"
        },
        {
         "name": "V154",
         "rawType": "float64",
         "type": "float"
        },
        {
         "name": "V155",
         "rawType": "float64",
         "type": "float"
        },
        {
         "name": "V156",
         "rawType": "float64",
         "type": "float"
        },
        {
         "name": "V157",
         "rawType": "float64",
         "type": "float"
        },
        {
         "name": "V158",
         "rawType": "float64",
         "type": "float"
        },
        {
         "name": "V159",
         "rawType": "float64",
         "type": "float"
        },
        {
         "name": "V160",
         "rawType": "float64",
         "type": "float"
        },
        {
         "name": "V161",
         "rawType": "float64",
         "type": "float"
        },
        {
         "name": "V162",
         "rawType": "float64",
         "type": "float"
        },
        {
         "name": "V163",
         "rawType": "float64",
         "type": "float"
        },
        {
         "name": "V164",
         "rawType": "float64",
         "type": "float"
        },
        {
         "name": "V165",
         "rawType": "float64",
         "type": "float"
        },
        {
         "name": "V166",
         "rawType": "float64",
         "type": "float"
        },
        {
         "name": "V167",
         "rawType": "float64",
         "type": "float"
        },
        {
         "name": "V168",
         "rawType": "float64",
         "type": "float"
        },
        {
         "name": "V169",
         "rawType": "float64",
         "type": "float"
        },
        {
         "name": "V170",
         "rawType": "float64",
         "type": "float"
        },
        {
         "name": "V171",
         "rawType": "float64",
         "type": "float"
        },
        {
         "name": "V172",
         "rawType": "float64",
         "type": "float"
        },
        {
         "name": "V173",
         "rawType": "float64",
         "type": "float"
        },
        {
         "name": "V174",
         "rawType": "float64",
         "type": "float"
        },
        {
         "name": "V175",
         "rawType": "float64",
         "type": "float"
        },
        {
         "name": "V176",
         "rawType": "float64",
         "type": "float"
        },
        {
         "name": "V177",
         "rawType": "float64",
         "type": "float"
        },
        {
         "name": "V178",
         "rawType": "float64",
         "type": "float"
        },
        {
         "name": "V179",
         "rawType": "float64",
         "type": "float"
        },
        {
         "name": "V180",
         "rawType": "float64",
         "type": "float"
        },
        {
         "name": "V181",
         "rawType": "float64",
         "type": "float"
        },
        {
         "name": "V182",
         "rawType": "float64",
         "type": "float"
        },
        {
         "name": "V183",
         "rawType": "float64",
         "type": "float"
        },
        {
         "name": "V184",
         "rawType": "float64",
         "type": "float"
        },
        {
         "name": "V185",
         "rawType": "float64",
         "type": "float"
        },
        {
         "name": "V186",
         "rawType": "float64",
         "type": "float"
        },
        {
         "name": "V187",
         "rawType": "float64",
         "type": "float"
        },
        {
         "name": "V188",
         "rawType": "float64",
         "type": "float"
        },
        {
         "name": "V189",
         "rawType": "float64",
         "type": "float"
        },
        {
         "name": "V190",
         "rawType": "float64",
         "type": "float"
        },
        {
         "name": "V191",
         "rawType": "float64",
         "type": "float"
        },
        {
         "name": "V192",
         "rawType": "float64",
         "type": "float"
        },
        {
         "name": "V193",
         "rawType": "float64",
         "type": "float"
        },
        {
         "name": "V194",
         "rawType": "float64",
         "type": "float"
        },
        {
         "name": "V195",
         "rawType": "float64",
         "type": "float"
        },
        {
         "name": "V196",
         "rawType": "float64",
         "type": "float"
        },
        {
         "name": "V197",
         "rawType": "float64",
         "type": "float"
        },
        {
         "name": "V198",
         "rawType": "float64",
         "type": "float"
        },
        {
         "name": "V199",
         "rawType": "float64",
         "type": "float"
        },
        {
         "name": "V200",
         "rawType": "float64",
         "type": "float"
        },
        {
         "name": "V201",
         "rawType": "float64",
         "type": "float"
        },
        {
         "name": "V202",
         "rawType": "float64",
         "type": "float"
        },
        {
         "name": "V203",
         "rawType": "float64",
         "type": "float"
        },
        {
         "name": "V204",
         "rawType": "float64",
         "type": "float"
        },
        {
         "name": "V205",
         "rawType": "float64",
         "type": "float"
        },
        {
         "name": "V206",
         "rawType": "float64",
         "type": "float"
        },
        {
         "name": "V207",
         "rawType": "float64",
         "type": "float"
        },
        {
         "name": "V208",
         "rawType": "float64",
         "type": "float"
        },
        {
         "name": "V209",
         "rawType": "float64",
         "type": "float"
        },
        {
         "name": "V210",
         "rawType": "float64",
         "type": "float"
        },
        {
         "name": "V211",
         "rawType": "float64",
         "type": "float"
        },
        {
         "name": "V212",
         "rawType": "float64",
         "type": "float"
        },
        {
         "name": "V213",
         "rawType": "float64",
         "type": "float"
        },
        {
         "name": "V214",
         "rawType": "float64",
         "type": "float"
        },
        {
         "name": "V215",
         "rawType": "float64",
         "type": "float"
        },
        {
         "name": "V216",
         "rawType": "float64",
         "type": "float"
        },
        {
         "name": "V217",
         "rawType": "float64",
         "type": "float"
        },
        {
         "name": "V218",
         "rawType": "float64",
         "type": "float"
        },
        {
         "name": "V219",
         "rawType": "float64",
         "type": "float"
        },
        {
         "name": "V220",
         "rawType": "float64",
         "type": "float"
        },
        {
         "name": "V221",
         "rawType": "float64",
         "type": "float"
        },
        {
         "name": "V222",
         "rawType": "float64",
         "type": "float"
        },
        {
         "name": "V223",
         "rawType": "float64",
         "type": "float"
        },
        {
         "name": "V224",
         "rawType": "float64",
         "type": "float"
        },
        {
         "name": "V225",
         "rawType": "float64",
         "type": "float"
        },
        {
         "name": "V226",
         "rawType": "float64",
         "type": "float"
        },
        {
         "name": "V227",
         "rawType": "float64",
         "type": "float"
        },
        {
         "name": "V228",
         "rawType": "float64",
         "type": "float"
        },
        {
         "name": "V229",
         "rawType": "float64",
         "type": "float"
        },
        {
         "name": "V230",
         "rawType": "float64",
         "type": "float"
        },
        {
         "name": "V231",
         "rawType": "float64",
         "type": "float"
        },
        {
         "name": "V232",
         "rawType": "float64",
         "type": "float"
        },
        {
         "name": "V233",
         "rawType": "float64",
         "type": "float"
        },
        {
         "name": "V234",
         "rawType": "float64",
         "type": "float"
        },
        {
         "name": "V235",
         "rawType": "float64",
         "type": "float"
        },
        {
         "name": "V236",
         "rawType": "float64",
         "type": "float"
        },
        {
         "name": "V237",
         "rawType": "float64",
         "type": "float"
        },
        {
         "name": "V238",
         "rawType": "float64",
         "type": "float"
        },
        {
         "name": "V239",
         "rawType": "float64",
         "type": "float"
        },
        {
         "name": "V240",
         "rawType": "float64",
         "type": "float"
        },
        {
         "name": "V241",
         "rawType": "float64",
         "type": "float"
        },
        {
         "name": "V242",
         "rawType": "float64",
         "type": "float"
        },
        {
         "name": "V243",
         "rawType": "float64",
         "type": "float"
        },
        {
         "name": "V244",
         "rawType": "float64",
         "type": "float"
        },
        {
         "name": "V245",
         "rawType": "float64",
         "type": "float"
        },
        {
         "name": "V246",
         "rawType": "float64",
         "type": "float"
        },
        {
         "name": "V247",
         "rawType": "float64",
         "type": "float"
        },
        {
         "name": "V248",
         "rawType": "float64",
         "type": "float"
        },
        {
         "name": "V249",
         "rawType": "float64",
         "type": "float"
        },
        {
         "name": "V250",
         "rawType": "float64",
         "type": "float"
        },
        {
         "name": "V251",
         "rawType": "float64",
         "type": "float"
        },
        {
         "name": "V252",
         "rawType": "float64",
         "type": "float"
        },
        {
         "name": "V253",
         "rawType": "float64",
         "type": "float"
        },
        {
         "name": "V254",
         "rawType": "float64",
         "type": "float"
        },
        {
         "name": "V255",
         "rawType": "float64",
         "type": "float"
        },
        {
         "name": "V256",
         "rawType": "float64",
         "type": "float"
        },
        {
         "name": "V257",
         "rawType": "float64",
         "type": "float"
        },
        {
         "name": "V258",
         "rawType": "float64",
         "type": "float"
        },
        {
         "name": "V259",
         "rawType": "float64",
         "type": "float"
        },
        {
         "name": "V260",
         "rawType": "float64",
         "type": "float"
        },
        {
         "name": "V261",
         "rawType": "float64",
         "type": "float"
        },
        {
         "name": "V262",
         "rawType": "float64",
         "type": "float"
        },
        {
         "name": "V263",
         "rawType": "float64",
         "type": "float"
        },
        {
         "name": "V264",
         "rawType": "float64",
         "type": "float"
        },
        {
         "name": "V265",
         "rawType": "float64",
         "type": "float"
        },
        {
         "name": "V266",
         "rawType": "float64",
         "type": "float"
        },
        {
         "name": "V267",
         "rawType": "float64",
         "type": "float"
        },
        {
         "name": "V268",
         "rawType": "float64",
         "type": "float"
        },
        {
         "name": "V269",
         "rawType": "float64",
         "type": "float"
        },
        {
         "name": "V270",
         "rawType": "float64",
         "type": "float"
        },
        {
         "name": "V271",
         "rawType": "float64",
         "type": "float"
        },
        {
         "name": "V272",
         "rawType": "float64",
         "type": "float"
        },
        {
         "name": "V273",
         "rawType": "float64",
         "type": "float"
        },
        {
         "name": "V274",
         "rawType": "float64",
         "type": "float"
        },
        {
         "name": "V275",
         "rawType": "float64",
         "type": "float"
        },
        {
         "name": "V276",
         "rawType": "float64",
         "type": "float"
        },
        {
         "name": "V277",
         "rawType": "float64",
         "type": "float"
        },
        {
         "name": "V278",
         "rawType": "float64",
         "type": "float"
        },
        {
         "name": "V279",
         "rawType": "float64",
         "type": "float"
        },
        {
         "name": "V280",
         "rawType": "float64",
         "type": "float"
        },
        {
         "name": "V281",
         "rawType": "float64",
         "type": "float"
        },
        {
         "name": "V282",
         "rawType": "float64",
         "type": "float"
        },
        {
         "name": "V283",
         "rawType": "float64",
         "type": "float"
        },
        {
         "name": "V284",
         "rawType": "float64",
         "type": "float"
        },
        {
         "name": "V285",
         "rawType": "float64",
         "type": "float"
        },
        {
         "name": "V286",
         "rawType": "float64",
         "type": "float"
        },
        {
         "name": "V287",
         "rawType": "float64",
         "type": "float"
        },
        {
         "name": "V288",
         "rawType": "float64",
         "type": "float"
        },
        {
         "name": "V289",
         "rawType": "float64",
         "type": "float"
        },
        {
         "name": "V290",
         "rawType": "float64",
         "type": "float"
        },
        {
         "name": "V291",
         "rawType": "float64",
         "type": "float"
        },
        {
         "name": "V292",
         "rawType": "float64",
         "type": "float"
        },
        {
         "name": "V293",
         "rawType": "float64",
         "type": "float"
        },
        {
         "name": "V294",
         "rawType": "float64",
         "type": "float"
        },
        {
         "name": "V295",
         "rawType": "float64",
         "type": "float"
        },
        {
         "name": "V296",
         "rawType": "float64",
         "type": "float"
        },
        {
         "name": "V297",
         "rawType": "float64",
         "type": "float"
        },
        {
         "name": "V298",
         "rawType": "float64",
         "type": "float"
        },
        {
         "name": "V299",
         "rawType": "float64",
         "type": "float"
        },
        {
         "name": "V300",
         "rawType": "float64",
         "type": "float"
        },
        {
         "name": "V301",
         "rawType": "float64",
         "type": "float"
        },
        {
         "name": "V302",
         "rawType": "float64",
         "type": "float"
        },
        {
         "name": "V303",
         "rawType": "float64",
         "type": "float"
        },
        {
         "name": "V304",
         "rawType": "float64",
         "type": "float"
        },
        {
         "name": "V305",
         "rawType": "float64",
         "type": "float"
        },
        {
         "name": "V306",
         "rawType": "float64",
         "type": "float"
        },
        {
         "name": "V307",
         "rawType": "float64",
         "type": "float"
        },
        {
         "name": "V308",
         "rawType": "float64",
         "type": "float"
        },
        {
         "name": "V309",
         "rawType": "float64",
         "type": "float"
        },
        {
         "name": "V310",
         "rawType": "float64",
         "type": "float"
        },
        {
         "name": "V311",
         "rawType": "float64",
         "type": "float"
        },
        {
         "name": "V312",
         "rawType": "float64",
         "type": "float"
        },
        {
         "name": "V313",
         "rawType": "float64",
         "type": "float"
        },
        {
         "name": "V314",
         "rawType": "float64",
         "type": "float"
        },
        {
         "name": "V315",
         "rawType": "float64",
         "type": "float"
        },
        {
         "name": "V316",
         "rawType": "float64",
         "type": "float"
        },
        {
         "name": "V317",
         "rawType": "float64",
         "type": "float"
        },
        {
         "name": "V318",
         "rawType": "float64",
         "type": "float"
        },
        {
         "name": "V319",
         "rawType": "float64",
         "type": "float"
        },
        {
         "name": "V320",
         "rawType": "float64",
         "type": "float"
        },
        {
         "name": "V321",
         "rawType": "float64",
         "type": "float"
        },
        {
         "name": "V322",
         "rawType": "float64",
         "type": "float"
        },
        {
         "name": "V323",
         "rawType": "float64",
         "type": "float"
        },
        {
         "name": "V324",
         "rawType": "float64",
         "type": "float"
        },
        {
         "name": "V325",
         "rawType": "float64",
         "type": "float"
        },
        {
         "name": "V326",
         "rawType": "float64",
         "type": "float"
        },
        {
         "name": "V327",
         "rawType": "float64",
         "type": "float"
        },
        {
         "name": "V328",
         "rawType": "float64",
         "type": "float"
        },
        {
         "name": "V329",
         "rawType": "float64",
         "type": "float"
        },
        {
         "name": "V330",
         "rawType": "float64",
         "type": "float"
        },
        {
         "name": "V331",
         "rawType": "float64",
         "type": "float"
        },
        {
         "name": "V332",
         "rawType": "float64",
         "type": "float"
        },
        {
         "name": "V333",
         "rawType": "float64",
         "type": "float"
        },
        {
         "name": "V334",
         "rawType": "float64",
         "type": "float"
        },
        {
         "name": "V335",
         "rawType": "float64",
         "type": "float"
        },
        {
         "name": "V336",
         "rawType": "float64",
         "type": "float"
        },
        {
         "name": "V337",
         "rawType": "float64",
         "type": "float"
        },
        {
         "name": "V338",
         "rawType": "float64",
         "type": "float"
        },
        {
         "name": "V339",
         "rawType": "float64",
         "type": "float"
        },
        {
         "name": "V340",
         "rawType": "float64",
         "type": "float"
        },
        {
         "name": "V341",
         "rawType": "float64",
         "type": "float"
        },
        {
         "name": "V342",
         "rawType": "float64",
         "type": "float"
        },
        {
         "name": "V343",
         "rawType": "float64",
         "type": "float"
        },
        {
         "name": "V344",
         "rawType": "float64",
         "type": "float"
        },
        {
         "name": "V345",
         "rawType": "float64",
         "type": "float"
        },
        {
         "name": "V346",
         "rawType": "float64",
         "type": "float"
        },
        {
         "name": "V347",
         "rawType": "float64",
         "type": "float"
        },
        {
         "name": "V348",
         "rawType": "float64",
         "type": "float"
        },
        {
         "name": "V349",
         "rawType": "float64",
         "type": "float"
        },
        {
         "name": "V350",
         "rawType": "float64",
         "type": "float"
        },
        {
         "name": "V351",
         "rawType": "float64",
         "type": "float"
        },
        {
         "name": "V352",
         "rawType": "float64",
         "type": "float"
        },
        {
         "name": "V353",
         "rawType": "float64",
         "type": "float"
        },
        {
         "name": "V354",
         "rawType": "float64",
         "type": "float"
        },
        {
         "name": "V355",
         "rawType": "float64",
         "type": "float"
        },
        {
         "name": "V356",
         "rawType": "float64",
         "type": "float"
        },
        {
         "name": "V357",
         "rawType": "float64",
         "type": "float"
        },
        {
         "name": "V358",
         "rawType": "float64",
         "type": "float"
        },
        {
         "name": "V359",
         "rawType": "float64",
         "type": "float"
        },
        {
         "name": "V360",
         "rawType": "float64",
         "type": "float"
        },
        {
         "name": "V361",
         "rawType": "float64",
         "type": "float"
        },
        {
         "name": "V362",
         "rawType": "float64",
         "type": "float"
        },
        {
         "name": "V363",
         "rawType": "float64",
         "type": "float"
        },
        {
         "name": "V364",
         "rawType": "float64",
         "type": "float"
        },
        {
         "name": "V365",
         "rawType": "float64",
         "type": "float"
        },
        {
         "name": "V366",
         "rawType": "float64",
         "type": "float"
        },
        {
         "name": "V367",
         "rawType": "float64",
         "type": "float"
        },
        {
         "name": "V368",
         "rawType": "float64",
         "type": "float"
        },
        {
         "name": "V369",
         "rawType": "float64",
         "type": "float"
        },
        {
         "name": "V370",
         "rawType": "float64",
         "type": "float"
        },
        {
         "name": "V371",
         "rawType": "float64",
         "type": "float"
        },
        {
         "name": "V372",
         "rawType": "float64",
         "type": "float"
        },
        {
         "name": "V373",
         "rawType": "float64",
         "type": "float"
        },
        {
         "name": "V374",
         "rawType": "float64",
         "type": "float"
        },
        {
         "name": "V375",
         "rawType": "float64",
         "type": "float"
        },
        {
         "name": "V376",
         "rawType": "float64",
         "type": "float"
        },
        {
         "name": "V377",
         "rawType": "float64",
         "type": "float"
        },
        {
         "name": "V378",
         "rawType": "float64",
         "type": "float"
        },
        {
         "name": "V379",
         "rawType": "float64",
         "type": "float"
        },
        {
         "name": "V380",
         "rawType": "float64",
         "type": "float"
        },
        {
         "name": "V381",
         "rawType": "float64",
         "type": "float"
        },
        {
         "name": "V382",
         "rawType": "float64",
         "type": "float"
        },
        {
         "name": "V383",
         "rawType": "float64",
         "type": "float"
        },
        {
         "name": "V384",
         "rawType": "float64",
         "type": "float"
        },
        {
         "name": "V385",
         "rawType": "float64",
         "type": "float"
        },
        {
         "name": "V386",
         "rawType": "float64",
         "type": "float"
        },
        {
         "name": "V387",
         "rawType": "float64",
         "type": "float"
        },
        {
         "name": "V388",
         "rawType": "float64",
         "type": "float"
        },
        {
         "name": "V389",
         "rawType": "float64",
         "type": "float"
        },
        {
         "name": "V390",
         "rawType": "float64",
         "type": "float"
        },
        {
         "name": "V391",
         "rawType": "float64",
         "type": "float"
        },
        {
         "name": "V392",
         "rawType": "float64",
         "type": "float"
        },
        {
         "name": "V393",
         "rawType": "float64",
         "type": "float"
        },
        {
         "name": "V394",
         "rawType": "float64",
         "type": "float"
        },
        {
         "name": "V395",
         "rawType": "float64",
         "type": "float"
        },
        {
         "name": "V396",
         "rawType": "float64",
         "type": "float"
        },
        {
         "name": "V397",
         "rawType": "float64",
         "type": "float"
        },
        {
         "name": "V398",
         "rawType": "float64",
         "type": "float"
        },
        {
         "name": "V399",
         "rawType": "float64",
         "type": "float"
        },
        {
         "name": "V400",
         "rawType": "float64",
         "type": "float"
        },
        {
         "name": "V401",
         "rawType": "float64",
         "type": "float"
        },
        {
         "name": "V402",
         "rawType": "float64",
         "type": "float"
        },
        {
         "name": "V403",
         "rawType": "float64",
         "type": "float"
        },
        {
         "name": "V404",
         "rawType": "float64",
         "type": "float"
        },
        {
         "name": "V405",
         "rawType": "float64",
         "type": "float"
        },
        {
         "name": "V406",
         "rawType": "float64",
         "type": "float"
        },
        {
         "name": "V407",
         "rawType": "float64",
         "type": "float"
        },
        {
         "name": "V408",
         "rawType": "float64",
         "type": "float"
        },
        {
         "name": "V409",
         "rawType": "float64",
         "type": "float"
        },
        {
         "name": "V410",
         "rawType": "float64",
         "type": "float"
        },
        {
         "name": "V411",
         "rawType": "float64",
         "type": "float"
        },
        {
         "name": "V412",
         "rawType": "float64",
         "type": "float"
        },
        {
         "name": "V413",
         "rawType": "float64",
         "type": "float"
        },
        {
         "name": "V414",
         "rawType": "float64",
         "type": "float"
        },
        {
         "name": "V415",
         "rawType": "float64",
         "type": "float"
        },
        {
         "name": "V416",
         "rawType": "float64",
         "type": "float"
        },
        {
         "name": "V417",
         "rawType": "float64",
         "type": "float"
        },
        {
         "name": "V418",
         "rawType": "float64",
         "type": "float"
        },
        {
         "name": "V419",
         "rawType": "float64",
         "type": "float"
        },
        {
         "name": "V420",
         "rawType": "float64",
         "type": "float"
        },
        {
         "name": "V421",
         "rawType": "float64",
         "type": "float"
        },
        {
         "name": "V422",
         "rawType": "float64",
         "type": "float"
        },
        {
         "name": "V423",
         "rawType": "float64",
         "type": "float"
        },
        {
         "name": "V424",
         "rawType": "float64",
         "type": "float"
        },
        {
         "name": "V425",
         "rawType": "float64",
         "type": "float"
        },
        {
         "name": "V426",
         "rawType": "float64",
         "type": "float"
        },
        {
         "name": "V427",
         "rawType": "float64",
         "type": "float"
        },
        {
         "name": "V428",
         "rawType": "float64",
         "type": "float"
        },
        {
         "name": "V429",
         "rawType": "float64",
         "type": "float"
        },
        {
         "name": "V430",
         "rawType": "float64",
         "type": "float"
        },
        {
         "name": "V431",
         "rawType": "float64",
         "type": "float"
        },
        {
         "name": "V432",
         "rawType": "float64",
         "type": "float"
        },
        {
         "name": "V433",
         "rawType": "float64",
         "type": "float"
        },
        {
         "name": "V434",
         "rawType": "float64",
         "type": "float"
        },
        {
         "name": "V435",
         "rawType": "float64",
         "type": "float"
        },
        {
         "name": "V436",
         "rawType": "float64",
         "type": "float"
        },
        {
         "name": "V437",
         "rawType": "float64",
         "type": "float"
        },
        {
         "name": "V438",
         "rawType": "float64",
         "type": "float"
        },
        {
         "name": "V439",
         "rawType": "float64",
         "type": "float"
        },
        {
         "name": "V440",
         "rawType": "float64",
         "type": "float"
        },
        {
         "name": "V441",
         "rawType": "float64",
         "type": "float"
        },
        {
         "name": "V442",
         "rawType": "float64",
         "type": "float"
        },
        {
         "name": "V443",
         "rawType": "float64",
         "type": "float"
        },
        {
         "name": "V444",
         "rawType": "float64",
         "type": "float"
        },
        {
         "name": "V445",
         "rawType": "float64",
         "type": "float"
        },
        {
         "name": "V446",
         "rawType": "float64",
         "type": "float"
        },
        {
         "name": "V447",
         "rawType": "float64",
         "type": "float"
        },
        {
         "name": "V448",
         "rawType": "float64",
         "type": "float"
        },
        {
         "name": "V449",
         "rawType": "float64",
         "type": "float"
        },
        {
         "name": "V450",
         "rawType": "float64",
         "type": "float"
        },
        {
         "name": "V451",
         "rawType": "float64",
         "type": "float"
        },
        {
         "name": "V452",
         "rawType": "float64",
         "type": "float"
        },
        {
         "name": "V453",
         "rawType": "float64",
         "type": "float"
        },
        {
         "name": "V454",
         "rawType": "float64",
         "type": "float"
        },
        {
         "name": "V455",
         "rawType": "float64",
         "type": "float"
        },
        {
         "name": "V456",
         "rawType": "float64",
         "type": "float"
        },
        {
         "name": "V457",
         "rawType": "float64",
         "type": "float"
        },
        {
         "name": "V458",
         "rawType": "float64",
         "type": "float"
        },
        {
         "name": "V459",
         "rawType": "float64",
         "type": "float"
        },
        {
         "name": "V460",
         "rawType": "float64",
         "type": "float"
        },
        {
         "name": "V461",
         "rawType": "float64",
         "type": "float"
        },
        {
         "name": "V462",
         "rawType": "float64",
         "type": "float"
        },
        {
         "name": "V463",
         "rawType": "float64",
         "type": "float"
        },
        {
         "name": "V464",
         "rawType": "float64",
         "type": "float"
        },
        {
         "name": "V465",
         "rawType": "float64",
         "type": "float"
        },
        {
         "name": "V466",
         "rawType": "float64",
         "type": "float"
        },
        {
         "name": "V467",
         "rawType": "float64",
         "type": "float"
        },
        {
         "name": "V468",
         "rawType": "float64",
         "type": "float"
        },
        {
         "name": "V469",
         "rawType": "float64",
         "type": "float"
        },
        {
         "name": "V470",
         "rawType": "float64",
         "type": "float"
        },
        {
         "name": "V471",
         "rawType": "float64",
         "type": "float"
        },
        {
         "name": "V472",
         "rawType": "float64",
         "type": "float"
        },
        {
         "name": "V473",
         "rawType": "float64",
         "type": "float"
        },
        {
         "name": "V474",
         "rawType": "float64",
         "type": "float"
        },
        {
         "name": "V475",
         "rawType": "float64",
         "type": "float"
        },
        {
         "name": "V476",
         "rawType": "float64",
         "type": "float"
        },
        {
         "name": "V477",
         "rawType": "float64",
         "type": "float"
        },
        {
         "name": "V478",
         "rawType": "float64",
         "type": "float"
        },
        {
         "name": "V479",
         "rawType": "float64",
         "type": "float"
        },
        {
         "name": "V480",
         "rawType": "float64",
         "type": "float"
        },
        {
         "name": "V481",
         "rawType": "float64",
         "type": "float"
        },
        {
         "name": "V482",
         "rawType": "float64",
         "type": "float"
        },
        {
         "name": "V483",
         "rawType": "float64",
         "type": "float"
        },
        {
         "name": "V484",
         "rawType": "float64",
         "type": "float"
        },
        {
         "name": "V485",
         "rawType": "float64",
         "type": "float"
        },
        {
         "name": "V486",
         "rawType": "float64",
         "type": "float"
        },
        {
         "name": "V487",
         "rawType": "float64",
         "type": "float"
        },
        {
         "name": "V488",
         "rawType": "float64",
         "type": "float"
        },
        {
         "name": "V489",
         "rawType": "float64",
         "type": "float"
        },
        {
         "name": "V490",
         "rawType": "float64",
         "type": "float"
        },
        {
         "name": "V491",
         "rawType": "float64",
         "type": "float"
        },
        {
         "name": "V492",
         "rawType": "float64",
         "type": "float"
        },
        {
         "name": "V493",
         "rawType": "float64",
         "type": "float"
        },
        {
         "name": "V494",
         "rawType": "float64",
         "type": "float"
        },
        {
         "name": "V495",
         "rawType": "float64",
         "type": "float"
        },
        {
         "name": "V496",
         "rawType": "float64",
         "type": "float"
        },
        {
         "name": "V497",
         "rawType": "float64",
         "type": "float"
        },
        {
         "name": "V498",
         "rawType": "float64",
         "type": "float"
        },
        {
         "name": "V499",
         "rawType": "float64",
         "type": "float"
        },
        {
         "name": "V500",
         "rawType": "float64",
         "type": "float"
        },
        {
         "name": "V501",
         "rawType": "float64",
         "type": "float"
        },
        {
         "name": "V502",
         "rawType": "float64",
         "type": "float"
        },
        {
         "name": "V503",
         "rawType": "float64",
         "type": "float"
        },
        {
         "name": "V504",
         "rawType": "float64",
         "type": "float"
        },
        {
         "name": "V505",
         "rawType": "float64",
         "type": "float"
        },
        {
         "name": "V506",
         "rawType": "float64",
         "type": "float"
        },
        {
         "name": "V507",
         "rawType": "float64",
         "type": "float"
        },
        {
         "name": "V508",
         "rawType": "float64",
         "type": "float"
        },
        {
         "name": "V509",
         "rawType": "float64",
         "type": "float"
        },
        {
         "name": "V510",
         "rawType": "float64",
         "type": "float"
        },
        {
         "name": "V511",
         "rawType": "float64",
         "type": "float"
        },
        {
         "name": "V512",
         "rawType": "float64",
         "type": "float"
        },
        {
         "name": "V513",
         "rawType": "float64",
         "type": "float"
        },
        {
         "name": "V514",
         "rawType": "float64",
         "type": "float"
        },
        {
         "name": "V515",
         "rawType": "float64",
         "type": "float"
        },
        {
         "name": "V516",
         "rawType": "float64",
         "type": "float"
        },
        {
         "name": "V517",
         "rawType": "float64",
         "type": "float"
        },
        {
         "name": "V518",
         "rawType": "float64",
         "type": "float"
        },
        {
         "name": "V519",
         "rawType": "float64",
         "type": "float"
        },
        {
         "name": "V520",
         "rawType": "float64",
         "type": "float"
        },
        {
         "name": "V521",
         "rawType": "float64",
         "type": "float"
        },
        {
         "name": "V522",
         "rawType": "float64",
         "type": "float"
        },
        {
         "name": "V523",
         "rawType": "float64",
         "type": "float"
        },
        {
         "name": "V524",
         "rawType": "float64",
         "type": "float"
        },
        {
         "name": "V525",
         "rawType": "float64",
         "type": "float"
        },
        {
         "name": "V526",
         "rawType": "float64",
         "type": "float"
        },
        {
         "name": "V527",
         "rawType": "float64",
         "type": "float"
        },
        {
         "name": "V528",
         "rawType": "float64",
         "type": "float"
        },
        {
         "name": "V529",
         "rawType": "float64",
         "type": "float"
        },
        {
         "name": "V530",
         "rawType": "float64",
         "type": "float"
        },
        {
         "name": "V531",
         "rawType": "float64",
         "type": "float"
        },
        {
         "name": "V532",
         "rawType": "float64",
         "type": "float"
        },
        {
         "name": "V533",
         "rawType": "float64",
         "type": "float"
        },
        {
         "name": "V534",
         "rawType": "float64",
         "type": "float"
        },
        {
         "name": "V535",
         "rawType": "float64",
         "type": "float"
        },
        {
         "name": "V536",
         "rawType": "float64",
         "type": "float"
        },
        {
         "name": "V537",
         "rawType": "float64",
         "type": "float"
        },
        {
         "name": "V538",
         "rawType": "float64",
         "type": "float"
        },
        {
         "name": "V539",
         "rawType": "float64",
         "type": "float"
        },
        {
         "name": "V540",
         "rawType": "float64",
         "type": "float"
        },
        {
         "name": "V541",
         "rawType": "float64",
         "type": "float"
        },
        {
         "name": "V542",
         "rawType": "float64",
         "type": "float"
        },
        {
         "name": "V543",
         "rawType": "float64",
         "type": "float"
        },
        {
         "name": "V544",
         "rawType": "float64",
         "type": "float"
        },
        {
         "name": "V545",
         "rawType": "float64",
         "type": "float"
        },
        {
         "name": "V546",
         "rawType": "float64",
         "type": "float"
        },
        {
         "name": "V547",
         "rawType": "float64",
         "type": "float"
        },
        {
         "name": "V548",
         "rawType": "float64",
         "type": "float"
        },
        {
         "name": "V549",
         "rawType": "float64",
         "type": "float"
        },
        {
         "name": "V550",
         "rawType": "float64",
         "type": "float"
        },
        {
         "name": "V551",
         "rawType": "float64",
         "type": "float"
        },
        {
         "name": "V552",
         "rawType": "float64",
         "type": "float"
        },
        {
         "name": "V553",
         "rawType": "float64",
         "type": "float"
        },
        {
         "name": "V554",
         "rawType": "float64",
         "type": "float"
        },
        {
         "name": "V555",
         "rawType": "float64",
         "type": "float"
        },
        {
         "name": "V556",
         "rawType": "float64",
         "type": "float"
        },
        {
         "name": "V557",
         "rawType": "float64",
         "type": "float"
        },
        {
         "name": "V558",
         "rawType": "float64",
         "type": "float"
        },
        {
         "name": "V559",
         "rawType": "float64",
         "type": "float"
        },
        {
         "name": "V560",
         "rawType": "float64",
         "type": "float"
        },
        {
         "name": "V561",
         "rawType": "float64",
         "type": "float"
        },
        {
         "name": "V562",
         "rawType": "float64",
         "type": "float"
        },
        {
         "name": "V563",
         "rawType": "float64",
         "type": "float"
        },
        {
         "name": "V564",
         "rawType": "float64",
         "type": "float"
        },
        {
         "name": "V565",
         "rawType": "float64",
         "type": "float"
        },
        {
         "name": "V566",
         "rawType": "float64",
         "type": "float"
        },
        {
         "name": "V567",
         "rawType": "float64",
         "type": "float"
        },
        {
         "name": "V568",
         "rawType": "float64",
         "type": "float"
        },
        {
         "name": "V569",
         "rawType": "float64",
         "type": "float"
        },
        {
         "name": "V570",
         "rawType": "float64",
         "type": "float"
        },
        {
         "name": "V571",
         "rawType": "float64",
         "type": "float"
        },
        {
         "name": "V572",
         "rawType": "float64",
         "type": "float"
        },
        {
         "name": "V573",
         "rawType": "float64",
         "type": "float"
        },
        {
         "name": "V574",
         "rawType": "float64",
         "type": "float"
        },
        {
         "name": "V575",
         "rawType": "float64",
         "type": "float"
        },
        {
         "name": "V576",
         "rawType": "float64",
         "type": "float"
        },
        {
         "name": "V577",
         "rawType": "float64",
         "type": "float"
        },
        {
         "name": "V578",
         "rawType": "float64",
         "type": "float"
        },
        {
         "name": "V579",
         "rawType": "float64",
         "type": "float"
        },
        {
         "name": "V580",
         "rawType": "float64",
         "type": "float"
        },
        {
         "name": "V581",
         "rawType": "float64",
         "type": "float"
        },
        {
         "name": "V582",
         "rawType": "float64",
         "type": "float"
        },
        {
         "name": "V583",
         "rawType": "float64",
         "type": "float"
        },
        {
         "name": "V584",
         "rawType": "float64",
         "type": "float"
        },
        {
         "name": "V585",
         "rawType": "float64",
         "type": "float"
        },
        {
         "name": "V586",
         "rawType": "float64",
         "type": "float"
        },
        {
         "name": "V587",
         "rawType": "float64",
         "type": "float"
        },
        {
         "name": "V588",
         "rawType": "float64",
         "type": "float"
        },
        {
         "name": "V589",
         "rawType": "float64",
         "type": "float"
        },
        {
         "name": "V590",
         "rawType": "float64",
         "type": "float"
        },
        {
         "name": "V591",
         "rawType": "float64",
         "type": "float"
        },
        {
         "name": "V592",
         "rawType": "float64",
         "type": "float"
        },
        {
         "name": "V593",
         "rawType": "float64",
         "type": "float"
        },
        {
         "name": "V594",
         "rawType": "float64",
         "type": "float"
        },
        {
         "name": "V595",
         "rawType": "float64",
         "type": "float"
        },
        {
         "name": "V596",
         "rawType": "float64",
         "type": "float"
        },
        {
         "name": "V597",
         "rawType": "float64",
         "type": "float"
        },
        {
         "name": "V598",
         "rawType": "float64",
         "type": "float"
        },
        {
         "name": "V599",
         "rawType": "float64",
         "type": "float"
        },
        {
         "name": "V600",
         "rawType": "float64",
         "type": "float"
        },
        {
         "name": "V601",
         "rawType": "float64",
         "type": "float"
        },
        {
         "name": "V602",
         "rawType": "float64",
         "type": "float"
        },
        {
         "name": "V603",
         "rawType": "float64",
         "type": "float"
        },
        {
         "name": "V604",
         "rawType": "float64",
         "type": "float"
        },
        {
         "name": "V605",
         "rawType": "float64",
         "type": "float"
        },
        {
         "name": "V606",
         "rawType": "float64",
         "type": "float"
        },
        {
         "name": "V607",
         "rawType": "float64",
         "type": "float"
        },
        {
         "name": "V608",
         "rawType": "float64",
         "type": "float"
        },
        {
         "name": "V609",
         "rawType": "float64",
         "type": "float"
        },
        {
         "name": "V610",
         "rawType": "float64",
         "type": "float"
        },
        {
         "name": "V611",
         "rawType": "float64",
         "type": "float"
        },
        {
         "name": "V612",
         "rawType": "float64",
         "type": "float"
        },
        {
         "name": "V613",
         "rawType": "float64",
         "type": "float"
        },
        {
         "name": "V614",
         "rawType": "float64",
         "type": "float"
        },
        {
         "name": "V615",
         "rawType": "float64",
         "type": "float"
        },
        {
         "name": "V616",
         "rawType": "float64",
         "type": "float"
        },
        {
         "name": "V617",
         "rawType": "float64",
         "type": "float"
        },
        {
         "name": "V618",
         "rawType": "float64",
         "type": "float"
        },
        {
         "name": "V619",
         "rawType": "float64",
         "type": "float"
        },
        {
         "name": "V620",
         "rawType": "float64",
         "type": "float"
        },
        {
         "name": "V621",
         "rawType": "float64",
         "type": "float"
        },
        {
         "name": "V622",
         "rawType": "float64",
         "type": "float"
        },
        {
         "name": "V623",
         "rawType": "float64",
         "type": "float"
        },
        {
         "name": "V624",
         "rawType": "float64",
         "type": "float"
        },
        {
         "name": "V625",
         "rawType": "float64",
         "type": "float"
        },
        {
         "name": "V626",
         "rawType": "float64",
         "type": "float"
        },
        {
         "name": "V627",
         "rawType": "float64",
         "type": "float"
        },
        {
         "name": "V628",
         "rawType": "float64",
         "type": "float"
        },
        {
         "name": "V629",
         "rawType": "float64",
         "type": "float"
        },
        {
         "name": "V630",
         "rawType": "float64",
         "type": "float"
        },
        {
         "name": "V631",
         "rawType": "float64",
         "type": "float"
        },
        {
         "name": "V632",
         "rawType": "float64",
         "type": "float"
        },
        {
         "name": "V633",
         "rawType": "float64",
         "type": "float"
        },
        {
         "name": "V634",
         "rawType": "float64",
         "type": "float"
        },
        {
         "name": "V635",
         "rawType": "float64",
         "type": "float"
        },
        {
         "name": "V636",
         "rawType": "float64",
         "type": "float"
        },
        {
         "name": "V637",
         "rawType": "float64",
         "type": "float"
        },
        {
         "name": "V638",
         "rawType": "float64",
         "type": "float"
        },
        {
         "name": "V639",
         "rawType": "float64",
         "type": "float"
        },
        {
         "name": "V640",
         "rawType": "float64",
         "type": "float"
        },
        {
         "name": "V641",
         "rawType": "float64",
         "type": "float"
        },
        {
         "name": "V642",
         "rawType": "float64",
         "type": "float"
        },
        {
         "name": "V643",
         "rawType": "float64",
         "type": "float"
        },
        {
         "name": "V644",
         "rawType": "float64",
         "type": "float"
        },
        {
         "name": "V645",
         "rawType": "float64",
         "type": "float"
        },
        {
         "name": "V646",
         "rawType": "float64",
         "type": "float"
        },
        {
         "name": "V647",
         "rawType": "float64",
         "type": "float"
        },
        {
         "name": "V648",
         "rawType": "float64",
         "type": "float"
        },
        {
         "name": "V649",
         "rawType": "float64",
         "type": "float"
        },
        {
         "name": "V650",
         "rawType": "float64",
         "type": "float"
        },
        {
         "name": "V651",
         "rawType": "float64",
         "type": "float"
        },
        {
         "name": "V652",
         "rawType": "float64",
         "type": "float"
        },
        {
         "name": "V653",
         "rawType": "float64",
         "type": "float"
        },
        {
         "name": "V654",
         "rawType": "float64",
         "type": "float"
        },
        {
         "name": "V655",
         "rawType": "float64",
         "type": "float"
        },
        {
         "name": "V656",
         "rawType": "float64",
         "type": "float"
        },
        {
         "name": "V657",
         "rawType": "float64",
         "type": "float"
        },
        {
         "name": "V658",
         "rawType": "float64",
         "type": "float"
        },
        {
         "name": "V659",
         "rawType": "float64",
         "type": "float"
        },
        {
         "name": "V660",
         "rawType": "float64",
         "type": "float"
        },
        {
         "name": "V661",
         "rawType": "float64",
         "type": "float"
        },
        {
         "name": "V662",
         "rawType": "float64",
         "type": "float"
        },
        {
         "name": "V663",
         "rawType": "float64",
         "type": "float"
        },
        {
         "name": "V664",
         "rawType": "float64",
         "type": "float"
        },
        {
         "name": "V665",
         "rawType": "float64",
         "type": "float"
        },
        {
         "name": "V666",
         "rawType": "float64",
         "type": "float"
        },
        {
         "name": "V667",
         "rawType": "float64",
         "type": "float"
        },
        {
         "name": "V668",
         "rawType": "float64",
         "type": "float"
        },
        {
         "name": "V669",
         "rawType": "float64",
         "type": "float"
        },
        {
         "name": "V670",
         "rawType": "float64",
         "type": "float"
        },
        {
         "name": "V671",
         "rawType": "float64",
         "type": "float"
        },
        {
         "name": "V672",
         "rawType": "float64",
         "type": "float"
        },
        {
         "name": "V673",
         "rawType": "float64",
         "type": "float"
        },
        {
         "name": "V674",
         "rawType": "float64",
         "type": "float"
        },
        {
         "name": "V675",
         "rawType": "float64",
         "type": "float"
        },
        {
         "name": "V676",
         "rawType": "float64",
         "type": "float"
        },
        {
         "name": "V677",
         "rawType": "float64",
         "type": "float"
        },
        {
         "name": "V678",
         "rawType": "float64",
         "type": "float"
        },
        {
         "name": "V679",
         "rawType": "float64",
         "type": "float"
        },
        {
         "name": "V680",
         "rawType": "float64",
         "type": "float"
        },
        {
         "name": "V681",
         "rawType": "float64",
         "type": "float"
        },
        {
         "name": "V682",
         "rawType": "float64",
         "type": "float"
        },
        {
         "name": "V683",
         "rawType": "float64",
         "type": "float"
        },
        {
         "name": "V684",
         "rawType": "float64",
         "type": "float"
        },
        {
         "name": "V685",
         "rawType": "float64",
         "type": "float"
        },
        {
         "name": "V686",
         "rawType": "float64",
         "type": "float"
        },
        {
         "name": "V687",
         "rawType": "float64",
         "type": "float"
        },
        {
         "name": "V688",
         "rawType": "float64",
         "type": "float"
        },
        {
         "name": "V689",
         "rawType": "float64",
         "type": "float"
        },
        {
         "name": "V690",
         "rawType": "float64",
         "type": "float"
        },
        {
         "name": "V691",
         "rawType": "float64",
         "type": "float"
        },
        {
         "name": "V692",
         "rawType": "float64",
         "type": "float"
        },
        {
         "name": "V693",
         "rawType": "float64",
         "type": "float"
        },
        {
         "name": "V694",
         "rawType": "float64",
         "type": "float"
        },
        {
         "name": "V695",
         "rawType": "float64",
         "type": "float"
        },
        {
         "name": "V696",
         "rawType": "float64",
         "type": "float"
        },
        {
         "name": "V697",
         "rawType": "float64",
         "type": "float"
        },
        {
         "name": "V698",
         "rawType": "float64",
         "type": "float"
        },
        {
         "name": "V699",
         "rawType": "float64",
         "type": "float"
        },
        {
         "name": "V700",
         "rawType": "float64",
         "type": "float"
        },
        {
         "name": "V701",
         "rawType": "float64",
         "type": "float"
        },
        {
         "name": "V702",
         "rawType": "float64",
         "type": "float"
        },
        {
         "name": "V703",
         "rawType": "float64",
         "type": "float"
        },
        {
         "name": "V704",
         "rawType": "float64",
         "type": "float"
        },
        {
         "name": "V705",
         "rawType": "float64",
         "type": "float"
        },
        {
         "name": "V706",
         "rawType": "float64",
         "type": "float"
        },
        {
         "name": "V707",
         "rawType": "float64",
         "type": "float"
        },
        {
         "name": "V708",
         "rawType": "float64",
         "type": "float"
        },
        {
         "name": "V709",
         "rawType": "float64",
         "type": "float"
        },
        {
         "name": "V710",
         "rawType": "float64",
         "type": "float"
        },
        {
         "name": "V711",
         "rawType": "float64",
         "type": "float"
        },
        {
         "name": "V712",
         "rawType": "float64",
         "type": "float"
        },
        {
         "name": "V713",
         "rawType": "float64",
         "type": "float"
        },
        {
         "name": "V714",
         "rawType": "float64",
         "type": "float"
        },
        {
         "name": "V715",
         "rawType": "float64",
         "type": "float"
        },
        {
         "name": "V716",
         "rawType": "float64",
         "type": "float"
        },
        {
         "name": "V717",
         "rawType": "float64",
         "type": "float"
        },
        {
         "name": "V718",
         "rawType": "float64",
         "type": "float"
        },
        {
         "name": "V719",
         "rawType": "float64",
         "type": "float"
        },
        {
         "name": "V720",
         "rawType": "float64",
         "type": "float"
        },
        {
         "name": "V721",
         "rawType": "float64",
         "type": "float"
        },
        {
         "name": "V722",
         "rawType": "float64",
         "type": "float"
        },
        {
         "name": "V723",
         "rawType": "float64",
         "type": "float"
        },
        {
         "name": "V724",
         "rawType": "float64",
         "type": "float"
        },
        {
         "name": "V725",
         "rawType": "float64",
         "type": "float"
        },
        {
         "name": "V726",
         "rawType": "float64",
         "type": "float"
        },
        {
         "name": "V727",
         "rawType": "float64",
         "type": "float"
        },
        {
         "name": "V728",
         "rawType": "float64",
         "type": "float"
        },
        {
         "name": "V729",
         "rawType": "float64",
         "type": "float"
        },
        {
         "name": "V730",
         "rawType": "float64",
         "type": "float"
        },
        {
         "name": "V731",
         "rawType": "float64",
         "type": "float"
        },
        {
         "name": "V732",
         "rawType": "float64",
         "type": "float"
        },
        {
         "name": "V733",
         "rawType": "float64",
         "type": "float"
        },
        {
         "name": "V734",
         "rawType": "float64",
         "type": "float"
        },
        {
         "name": "V735",
         "rawType": "float64",
         "type": "float"
        },
        {
         "name": "V736",
         "rawType": "float64",
         "type": "float"
        },
        {
         "name": "V737",
         "rawType": "float64",
         "type": "float"
        },
        {
         "name": "V738",
         "rawType": "float64",
         "type": "float"
        },
        {
         "name": "V739",
         "rawType": "float64",
         "type": "float"
        },
        {
         "name": "V740",
         "rawType": "float64",
         "type": "float"
        },
        {
         "name": "V741",
         "rawType": "float64",
         "type": "float"
        },
        {
         "name": "V742",
         "rawType": "float64",
         "type": "float"
        },
        {
         "name": "V743",
         "rawType": "float64",
         "type": "float"
        },
        {
         "name": "V744",
         "rawType": "float64",
         "type": "float"
        },
        {
         "name": "V745",
         "rawType": "float64",
         "type": "float"
        },
        {
         "name": "V746",
         "rawType": "float64",
         "type": "float"
        },
        {
         "name": "V747",
         "rawType": "float64",
         "type": "float"
        },
        {
         "name": "V748",
         "rawType": "float64",
         "type": "float"
        },
        {
         "name": "V749",
         "rawType": "float64",
         "type": "float"
        },
        {
         "name": "V750",
         "rawType": "float64",
         "type": "float"
        },
        {
         "name": "V751",
         "rawType": "float64",
         "type": "float"
        },
        {
         "name": "V752",
         "rawType": "float64",
         "type": "float"
        },
        {
         "name": "V753",
         "rawType": "float64",
         "type": "float"
        },
        {
         "name": "V754",
         "rawType": "float64",
         "type": "float"
        },
        {
         "name": "V755",
         "rawType": "float64",
         "type": "float"
        },
        {
         "name": "V756",
         "rawType": "float64",
         "type": "float"
        },
        {
         "name": "V757",
         "rawType": "float64",
         "type": "float"
        },
        {
         "name": "V758",
         "rawType": "float64",
         "type": "float"
        },
        {
         "name": "V759",
         "rawType": "float64",
         "type": "float"
        },
        {
         "name": "V760",
         "rawType": "float64",
         "type": "float"
        },
        {
         "name": "V761",
         "rawType": "float64",
         "type": "float"
        },
        {
         "name": "V762",
         "rawType": "float64",
         "type": "float"
        },
        {
         "name": "V763",
         "rawType": "float64",
         "type": "float"
        },
        {
         "name": "V764",
         "rawType": "float64",
         "type": "float"
        },
        {
         "name": "V765",
         "rawType": "float64",
         "type": "float"
        },
        {
         "name": "V766",
         "rawType": "float64",
         "type": "float"
        },
        {
         "name": "V767",
         "rawType": "float64",
         "type": "float"
        },
        {
         "name": "V768",
         "rawType": "float64",
         "type": "float"
        },
        {
         "name": "V769",
         "rawType": "float64",
         "type": "float"
        },
        {
         "name": "V770",
         "rawType": "float64",
         "type": "float"
        },
        {
         "name": "V771",
         "rawType": "float64",
         "type": "float"
        },
        {
         "name": "V772",
         "rawType": "float64",
         "type": "float"
        },
        {
         "name": "V773",
         "rawType": "float64",
         "type": "float"
        },
        {
         "name": "V774",
         "rawType": "float64",
         "type": "float"
        },
        {
         "name": "V775",
         "rawType": "float64",
         "type": "float"
        },
        {
         "name": "V776",
         "rawType": "float64",
         "type": "float"
        },
        {
         "name": "V777",
         "rawType": "float64",
         "type": "float"
        },
        {
         "name": "V778",
         "rawType": "float64",
         "type": "float"
        },
        {
         "name": "V779",
         "rawType": "float64",
         "type": "float"
        },
        {
         "name": "V780",
         "rawType": "float64",
         "type": "float"
        },
        {
         "name": "V781",
         "rawType": "float64",
         "type": "float"
        },
        {
         "name": "V782",
         "rawType": "float64",
         "type": "float"
        },
        {
         "name": "V783",
         "rawType": "float64",
         "type": "float"
        },
        {
         "name": "V784",
         "rawType": "float64",
         "type": "float"
        },
        {
         "name": "V785",
         "rawType": "float64",
         "type": "float"
        },
        {
         "name": "V786",
         "rawType": "float64",
         "type": "float"
        },
        {
         "name": "V787",
         "rawType": "float64",
         "type": "float"
        },
        {
         "name": "V788",
         "rawType": "float64",
         "type": "float"
        },
        {
         "name": "V789",
         "rawType": "float64",
         "type": "float"
        },
        {
         "name": "V790",
         "rawType": "float64",
         "type": "float"
        },
        {
         "name": "V791",
         "rawType": "float64",
         "type": "float"
        },
        {
         "name": "V792",
         "rawType": "float64",
         "type": "float"
        },
        {
         "name": "V793",
         "rawType": "float64",
         "type": "float"
        },
        {
         "name": "V794",
         "rawType": "float64",
         "type": "float"
        },
        {
         "name": "V795",
         "rawType": "float64",
         "type": "float"
        },
        {
         "name": "V796",
         "rawType": "float64",
         "type": "float"
        },
        {
         "name": "V797",
         "rawType": "float64",
         "type": "float"
        },
        {
         "name": "V798",
         "rawType": "float64",
         "type": "float"
        },
        {
         "name": "V799",
         "rawType": "float64",
         "type": "float"
        },
        {
         "name": "V800",
         "rawType": "float64",
         "type": "float"
        },
        {
         "name": "V801",
         "rawType": "float64",
         "type": "float"
        },
        {
         "name": "V802",
         "rawType": "float64",
         "type": "float"
        },
        {
         "name": "V803",
         "rawType": "float64",
         "type": "float"
        },
        {
         "name": "V804",
         "rawType": "float64",
         "type": "float"
        },
        {
         "name": "V805",
         "rawType": "float64",
         "type": "float"
        },
        {
         "name": "V806",
         "rawType": "float64",
         "type": "float"
        },
        {
         "name": "V807",
         "rawType": "float64",
         "type": "float"
        },
        {
         "name": "V808",
         "rawType": "float64",
         "type": "float"
        },
        {
         "name": "V809",
         "rawType": "float64",
         "type": "float"
        },
        {
         "name": "V810",
         "rawType": "float64",
         "type": "float"
        },
        {
         "name": "V811",
         "rawType": "float64",
         "type": "float"
        },
        {
         "name": "V812",
         "rawType": "float64",
         "type": "float"
        },
        {
         "name": "V813",
         "rawType": "float64",
         "type": "float"
        },
        {
         "name": "V814",
         "rawType": "float64",
         "type": "float"
        },
        {
         "name": "V815",
         "rawType": "float64",
         "type": "float"
        },
        {
         "name": "V816",
         "rawType": "float64",
         "type": "float"
        },
        {
         "name": "V817",
         "rawType": "float64",
         "type": "float"
        },
        {
         "name": "V818",
         "rawType": "float64",
         "type": "float"
        },
        {
         "name": "V819",
         "rawType": "float64",
         "type": "float"
        },
        {
         "name": "V820",
         "rawType": "float64",
         "type": "float"
        },
        {
         "name": "V821",
         "rawType": "float64",
         "type": "float"
        },
        {
         "name": "V822",
         "rawType": "float64",
         "type": "float"
        },
        {
         "name": "V823",
         "rawType": "float64",
         "type": "float"
        },
        {
         "name": "V824",
         "rawType": "float64",
         "type": "float"
        },
        {
         "name": "V825",
         "rawType": "float64",
         "type": "float"
        },
        {
         "name": "V826",
         "rawType": "float64",
         "type": "float"
        },
        {
         "name": "V827",
         "rawType": "float64",
         "type": "float"
        },
        {
         "name": "V828",
         "rawType": "float64",
         "type": "float"
        },
        {
         "name": "V829",
         "rawType": "float64",
         "type": "float"
        },
        {
         "name": "V830",
         "rawType": "float64",
         "type": "float"
        },
        {
         "name": "V831",
         "rawType": "float64",
         "type": "float"
        },
        {
         "name": "V832",
         "rawType": "float64",
         "type": "float"
        },
        {
         "name": "V833",
         "rawType": "float64",
         "type": "float"
        },
        {
         "name": "V834",
         "rawType": "float64",
         "type": "float"
        },
        {
         "name": "V835",
         "rawType": "float64",
         "type": "float"
        },
        {
         "name": "V836",
         "rawType": "float64",
         "type": "float"
        },
        {
         "name": "V837",
         "rawType": "float64",
         "type": "float"
        },
        {
         "name": "V838",
         "rawType": "float64",
         "type": "float"
        },
        {
         "name": "V839",
         "rawType": "float64",
         "type": "float"
        },
        {
         "name": "V840",
         "rawType": "float64",
         "type": "float"
        },
        {
         "name": "V841",
         "rawType": "float64",
         "type": "float"
        },
        {
         "name": "V842",
         "rawType": "float64",
         "type": "float"
        },
        {
         "name": "V843",
         "rawType": "float64",
         "type": "float"
        },
        {
         "name": "V844",
         "rawType": "float64",
         "type": "float"
        },
        {
         "name": "V845",
         "rawType": "float64",
         "type": "float"
        },
        {
         "name": "V846",
         "rawType": "float64",
         "type": "float"
        },
        {
         "name": "V847",
         "rawType": "float64",
         "type": "float"
        },
        {
         "name": "V848",
         "rawType": "float64",
         "type": "float"
        },
        {
         "name": "V849",
         "rawType": "float64",
         "type": "float"
        },
        {
         "name": "V850",
         "rawType": "float64",
         "type": "float"
        },
        {
         "name": "V851",
         "rawType": "float64",
         "type": "float"
        },
        {
         "name": "V852",
         "rawType": "float64",
         "type": "float"
        },
        {
         "name": "V853",
         "rawType": "float64",
         "type": "float"
        },
        {
         "name": "V854",
         "rawType": "float64",
         "type": "float"
        },
        {
         "name": "V855",
         "rawType": "float64",
         "type": "float"
        },
        {
         "name": "V856",
         "rawType": "float64",
         "type": "float"
        },
        {
         "name": "V857",
         "rawType": "float64",
         "type": "float"
        },
        {
         "name": "V858",
         "rawType": "float64",
         "type": "float"
        },
        {
         "name": "V859",
         "rawType": "float64",
         "type": "float"
        },
        {
         "name": "V860",
         "rawType": "float64",
         "type": "float"
        },
        {
         "name": "V861",
         "rawType": "float64",
         "type": "float"
        },
        {
         "name": "V862",
         "rawType": "float64",
         "type": "float"
        },
        {
         "name": "V863",
         "rawType": "float64",
         "type": "float"
        },
        {
         "name": "V864",
         "rawType": "float64",
         "type": "float"
        },
        {
         "name": "V865",
         "rawType": "float64",
         "type": "float"
        },
        {
         "name": "V866",
         "rawType": "float64",
         "type": "float"
        },
        {
         "name": "V867",
         "rawType": "float64",
         "type": "float"
        },
        {
         "name": "V868",
         "rawType": "float64",
         "type": "float"
        },
        {
         "name": "V869",
         "rawType": "float64",
         "type": "float"
        },
        {
         "name": "V870",
         "rawType": "float64",
         "type": "float"
        },
        {
         "name": "V871",
         "rawType": "float64",
         "type": "float"
        },
        {
         "name": "V872",
         "rawType": "float64",
         "type": "float"
        },
        {
         "name": "V873",
         "rawType": "float64",
         "type": "float"
        },
        {
         "name": "V874",
         "rawType": "float64",
         "type": "float"
        },
        {
         "name": "V875",
         "rawType": "float64",
         "type": "float"
        },
        {
         "name": "V876",
         "rawType": "float64",
         "type": "float"
        },
        {
         "name": "V877",
         "rawType": "float64",
         "type": "float"
        },
        {
         "name": "V878",
         "rawType": "float64",
         "type": "float"
        },
        {
         "name": "V879",
         "rawType": "float64",
         "type": "float"
        },
        {
         "name": "V880",
         "rawType": "float64",
         "type": "float"
        },
        {
         "name": "V881",
         "rawType": "float64",
         "type": "float"
        },
        {
         "name": "V882",
         "rawType": "float64",
         "type": "float"
        },
        {
         "name": "V883",
         "rawType": "float64",
         "type": "float"
        },
        {
         "name": "V884",
         "rawType": "float64",
         "type": "float"
        },
        {
         "name": "V885",
         "rawType": "float64",
         "type": "float"
        },
        {
         "name": "V886",
         "rawType": "float64",
         "type": "float"
        },
        {
         "name": "V887",
         "rawType": "float64",
         "type": "float"
        },
        {
         "name": "V888",
         "rawType": "float64",
         "type": "float"
        },
        {
         "name": "V889",
         "rawType": "float64",
         "type": "float"
        },
        {
         "name": "V890",
         "rawType": "float64",
         "type": "float"
        },
        {
         "name": "V891",
         "rawType": "float64",
         "type": "float"
        },
        {
         "name": "V892",
         "rawType": "float64",
         "type": "float"
        },
        {
         "name": "V893",
         "rawType": "float64",
         "type": "float"
        },
        {
         "name": "V894",
         "rawType": "float64",
         "type": "float"
        },
        {
         "name": "V895",
         "rawType": "float64",
         "type": "float"
        },
        {
         "name": "V896",
         "rawType": "float64",
         "type": "float"
        },
        {
         "name": "V897",
         "rawType": "float64",
         "type": "float"
        },
        {
         "name": "V898",
         "rawType": "float64",
         "type": "float"
        },
        {
         "name": "V899",
         "rawType": "float64",
         "type": "float"
        },
        {
         "name": "V900",
         "rawType": "float64",
         "type": "float"
        },
        {
         "name": "V901",
         "rawType": "float64",
         "type": "float"
        },
        {
         "name": "V902",
         "rawType": "float64",
         "type": "float"
        },
        {
         "name": "V903",
         "rawType": "float64",
         "type": "float"
        },
        {
         "name": "V904",
         "rawType": "float64",
         "type": "float"
        },
        {
         "name": "V905",
         "rawType": "float64",
         "type": "float"
        },
        {
         "name": "V906",
         "rawType": "float64",
         "type": "float"
        },
        {
         "name": "V907",
         "rawType": "float64",
         "type": "float"
        },
        {
         "name": "V908",
         "rawType": "float64",
         "type": "float"
        },
        {
         "name": "V909",
         "rawType": "float64",
         "type": "float"
        },
        {
         "name": "V910",
         "rawType": "float64",
         "type": "float"
        },
        {
         "name": "V911",
         "rawType": "float64",
         "type": "float"
        },
        {
         "name": "V912",
         "rawType": "float64",
         "type": "float"
        },
        {
         "name": "V913",
         "rawType": "float64",
         "type": "float"
        },
        {
         "name": "V914",
         "rawType": "float64",
         "type": "float"
        },
        {
         "name": "V915",
         "rawType": "float64",
         "type": "float"
        },
        {
         "name": "V916",
         "rawType": "float64",
         "type": "float"
        },
        {
         "name": "V917",
         "rawType": "float64",
         "type": "float"
        },
        {
         "name": "V918",
         "rawType": "float64",
         "type": "float"
        },
        {
         "name": "V919",
         "rawType": "float64",
         "type": "float"
        },
        {
         "name": "V920",
         "rawType": "float64",
         "type": "float"
        },
        {
         "name": "V921",
         "rawType": "float64",
         "type": "float"
        },
        {
         "name": "V922",
         "rawType": "float64",
         "type": "float"
        },
        {
         "name": "V923",
         "rawType": "float64",
         "type": "float"
        },
        {
         "name": "V924",
         "rawType": "float64",
         "type": "float"
        },
        {
         "name": "V925",
         "rawType": "float64",
         "type": "float"
        },
        {
         "name": "V926",
         "rawType": "float64",
         "type": "float"
        },
        {
         "name": "V927",
         "rawType": "float64",
         "type": "float"
        },
        {
         "name": "V928",
         "rawType": "float64",
         "type": "float"
        },
        {
         "name": "V929",
         "rawType": "float64",
         "type": "float"
        },
        {
         "name": "V930",
         "rawType": "float64",
         "type": "float"
        },
        {
         "name": "V931",
         "rawType": "float64",
         "type": "float"
        },
        {
         "name": "V932",
         "rawType": "float64",
         "type": "float"
        },
        {
         "name": "V933",
         "rawType": "float64",
         "type": "float"
        },
        {
         "name": "V934",
         "rawType": "float64",
         "type": "float"
        },
        {
         "name": "V935",
         "rawType": "float64",
         "type": "float"
        },
        {
         "name": "V936",
         "rawType": "float64",
         "type": "float"
        },
        {
         "name": "V937",
         "rawType": "float64",
         "type": "float"
        },
        {
         "name": "V938",
         "rawType": "float64",
         "type": "float"
        },
        {
         "name": "V939",
         "rawType": "float64",
         "type": "float"
        },
        {
         "name": "V940",
         "rawType": "float64",
         "type": "float"
        },
        {
         "name": "V941",
         "rawType": "float64",
         "type": "float"
        },
        {
         "name": "V942",
         "rawType": "float64",
         "type": "float"
        },
        {
         "name": "V943",
         "rawType": "float64",
         "type": "float"
        },
        {
         "name": "V944",
         "rawType": "float64",
         "type": "float"
        },
        {
         "name": "V945",
         "rawType": "float64",
         "type": "float"
        },
        {
         "name": "V946",
         "rawType": "float64",
         "type": "float"
        },
        {
         "name": "V947",
         "rawType": "float64",
         "type": "float"
        },
        {
         "name": "V948",
         "rawType": "float64",
         "type": "float"
        },
        {
         "name": "V949",
         "rawType": "float64",
         "type": "float"
        },
        {
         "name": "V950",
         "rawType": "float64",
         "type": "float"
        },
        {
         "name": "V951",
         "rawType": "float64",
         "type": "float"
        },
        {
         "name": "V952",
         "rawType": "float64",
         "type": "float"
        },
        {
         "name": "V953",
         "rawType": "float64",
         "type": "float"
        },
        {
         "name": "V954",
         "rawType": "float64",
         "type": "float"
        },
        {
         "name": "V955",
         "rawType": "float64",
         "type": "float"
        },
        {
         "name": "V956",
         "rawType": "float64",
         "type": "float"
        },
        {
         "name": "V957",
         "rawType": "float64",
         "type": "float"
        },
        {
         "name": "V958",
         "rawType": "float64",
         "type": "float"
        },
        {
         "name": "V959",
         "rawType": "float64",
         "type": "float"
        },
        {
         "name": "V960",
         "rawType": "float64",
         "type": "float"
        },
        {
         "name": "V961",
         "rawType": "float64",
         "type": "float"
        },
        {
         "name": "V962",
         "rawType": "float64",
         "type": "float"
        },
        {
         "name": "V963",
         "rawType": "float64",
         "type": "float"
        },
        {
         "name": "V964",
         "rawType": "float64",
         "type": "float"
        },
        {
         "name": "V965",
         "rawType": "float64",
         "type": "float"
        },
        {
         "name": "V966",
         "rawType": "float64",
         "type": "float"
        },
        {
         "name": "V967",
         "rawType": "float64",
         "type": "float"
        },
        {
         "name": "V968",
         "rawType": "float64",
         "type": "float"
        },
        {
         "name": "V969",
         "rawType": "float64",
         "type": "float"
        },
        {
         "name": "V970",
         "rawType": "float64",
         "type": "float"
        },
        {
         "name": "V971",
         "rawType": "float64",
         "type": "float"
        },
        {
         "name": "V972",
         "rawType": "float64",
         "type": "float"
        },
        {
         "name": "V973",
         "rawType": "float64",
         "type": "float"
        },
        {
         "name": "V974",
         "rawType": "float64",
         "type": "float"
        },
        {
         "name": "V975",
         "rawType": "float64",
         "type": "float"
        },
        {
         "name": "V976",
         "rawType": "float64",
         "type": "float"
        },
        {
         "name": "V977",
         "rawType": "float64",
         "type": "float"
        },
        {
         "name": "V978",
         "rawType": "float64",
         "type": "float"
        },
        {
         "name": "V979",
         "rawType": "float64",
         "type": "float"
        },
        {
         "name": "V980",
         "rawType": "float64",
         "type": "float"
        },
        {
         "name": "V981",
         "rawType": "float64",
         "type": "float"
        },
        {
         "name": "V982",
         "rawType": "float64",
         "type": "float"
        },
        {
         "name": "V983",
         "rawType": "float64",
         "type": "float"
        },
        {
         "name": "V984",
         "rawType": "float64",
         "type": "float"
        },
        {
         "name": "V985",
         "rawType": "float64",
         "type": "float"
        },
        {
         "name": "V986",
         "rawType": "float64",
         "type": "float"
        },
        {
         "name": "V987",
         "rawType": "float64",
         "type": "float"
        },
        {
         "name": "V988",
         "rawType": "float64",
         "type": "float"
        },
        {
         "name": "V989",
         "rawType": "float64",
         "type": "float"
        },
        {
         "name": "V990",
         "rawType": "float64",
         "type": "float"
        },
        {
         "name": "V991",
         "rawType": "float64",
         "type": "float"
        },
        {
         "name": "V992",
         "rawType": "float64",
         "type": "float"
        },
        {
         "name": "V993",
         "rawType": "float64",
         "type": "float"
        },
        {
         "name": "V994",
         "rawType": "float64",
         "type": "float"
        },
        {
         "name": "V995",
         "rawType": "float64",
         "type": "float"
        },
        {
         "name": "V996",
         "rawType": "float64",
         "type": "float"
        },
        {
         "name": "V997",
         "rawType": "float64",
         "type": "float"
        },
        {
         "name": "V998",
         "rawType": "float64",
         "type": "float"
        },
        {
         "name": "V999",
         "rawType": "float64",
         "type": "float"
        },
        {
         "name": "V1000",
         "rawType": "float64",
         "type": "float"
        },
        {
         "name": "V1001",
         "rawType": "float64",
         "type": "float"
        },
        {
         "name": "V1002",
         "rawType": "float64",
         "type": "float"
        },
        {
         "name": "V1003",
         "rawType": "float64",
         "type": "float"
        },
        {
         "name": "V1004",
         "rawType": "float64",
         "type": "float"
        },
        {
         "name": "V1005",
         "rawType": "float64",
         "type": "float"
        },
        {
         "name": "V1006",
         "rawType": "float64",
         "type": "float"
        },
        {
         "name": "V1007",
         "rawType": "float64",
         "type": "float"
        },
        {
         "name": "V1008",
         "rawType": "float64",
         "type": "float"
        },
        {
         "name": "V1009",
         "rawType": "float64",
         "type": "float"
        },
        {
         "name": "V1010",
         "rawType": "float64",
         "type": "float"
        },
        {
         "name": "V1011",
         "rawType": "float64",
         "type": "float"
        },
        {
         "name": "V1012",
         "rawType": "float64",
         "type": "float"
        },
        {
         "name": "V1013",
         "rawType": "float64",
         "type": "float"
        },
        {
         "name": "V1014",
         "rawType": "float64",
         "type": "float"
        },
        {
         "name": "V1015",
         "rawType": "float64",
         "type": "float"
        },
        {
         "name": "V1016",
         "rawType": "float64",
         "type": "float"
        },
        {
         "name": "V1017",
         "rawType": "float64",
         "type": "float"
        },
        {
         "name": "V1018",
         "rawType": "float64",
         "type": "float"
        },
        {
         "name": "V1019",
         "rawType": "float64",
         "type": "float"
        },
        {
         "name": "V1020",
         "rawType": "float64",
         "type": "float"
        },
        {
         "name": "V1021",
         "rawType": "float64",
         "type": "float"
        },
        {
         "name": "V1022",
         "rawType": "float64",
         "type": "float"
        },
        {
         "name": "V1023",
         "rawType": "float64",
         "type": "float"
        },
        {
         "name": "V1024",
         "rawType": "float64",
         "type": "float"
        },
        {
         "name": "V1025",
         "rawType": "float64",
         "type": "float"
        },
        {
         "name": "V1026",
         "rawType": "float64",
         "type": "float"
        },
        {
         "name": "V1027",
         "rawType": "float64",
         "type": "float"
        },
        {
         "name": "V1028",
         "rawType": "float64",
         "type": "float"
        },
        {
         "name": "V1029",
         "rawType": "float64",
         "type": "float"
        },
        {
         "name": "V1030",
         "rawType": "float64",
         "type": "float"
        },
        {
         "name": "V1031",
         "rawType": "float64",
         "type": "float"
        },
        {
         "name": "V1032",
         "rawType": "float64",
         "type": "float"
        },
        {
         "name": "V1033",
         "rawType": "float64",
         "type": "float"
        },
        {
         "name": "V1034",
         "rawType": "float64",
         "type": "float"
        },
        {
         "name": "V1035",
         "rawType": "float64",
         "type": "float"
        },
        {
         "name": "V1036",
         "rawType": "float64",
         "type": "float"
        },
        {
         "name": "V1037",
         "rawType": "float64",
         "type": "float"
        },
        {
         "name": "V1038",
         "rawType": "float64",
         "type": "float"
        },
        {
         "name": "V1039",
         "rawType": "float64",
         "type": "float"
        },
        {
         "name": "V1040",
         "rawType": "float64",
         "type": "float"
        },
        {
         "name": "V1041",
         "rawType": "float64",
         "type": "float"
        },
        {
         "name": "V1042",
         "rawType": "float64",
         "type": "float"
        },
        {
         "name": "V1043",
         "rawType": "float64",
         "type": "float"
        },
        {
         "name": "V1044",
         "rawType": "float64",
         "type": "float"
        },
        {
         "name": "V1045",
         "rawType": "float64",
         "type": "float"
        },
        {
         "name": "V1046",
         "rawType": "float64",
         "type": "float"
        },
        {
         "name": "V1047",
         "rawType": "float64",
         "type": "float"
        },
        {
         "name": "V1048",
         "rawType": "float64",
         "type": "float"
        },
        {
         "name": "V1049",
         "rawType": "float64",
         "type": "float"
        },
        {
         "name": "V1050",
         "rawType": "float64",
         "type": "float"
        }
       ],
       "conversionMethod": "pd.DataFrame",
       "ref": "6c05eb71-d0ed-4cb2-a4a1-0a89c2e15165",
       "rows": [
        [
         "0",
         "0.1630475",
         "0.1736006",
         "0.1780546",
         "0.1816728",
         "0.1846741",
         "0.1872795",
         "0.1894036",
         "0.1909711",
         "0.1922249",
         "0.1932104",
         "0.1938196",
         "0.194084",
         "0.1941213",
         "0.1939455",
         "0.193377",
         "0.1926389",
         "0.1920193",
         "0.1913457",
         "0.1903694",
         "0.1892347",
         "0.1882541",
         "0.1873852",
         "0.1863474",
         "0.1850646",
         "0.1837258",
         "0.1826288",
         "0.1817792",
         "0.1809257",
         "0.1799426",
         "0.1789444",
         "0.1780909",
         "0.1774127",
         "0.1768277",
         "0.1761843",
         "0.1752716",
         "0.1741863",
         "0.1731888",
         "0.1723661",
         "0.1716067",
         "0.1708443",
         "0.1699601",
         "0.1688765",
         "0.16778",
         "0.1668014",
         "0.1658655",
         "0.1648571",
         "0.1636713",
         "0.1623876",
         "0.1612546",
         "0.16024",
         "0.1590167",
         "0.1575853",
         "0.1562183",
         "0.1548942",
         "0.1535175",
         "0.1521051",
         "0.150585",
         "0.14889",
         "0.1471663",
         "0.1455622",
         "0.1439604",
         "0.1422493",
         "0.1406073",
         "0.1392048",
         "0.1379333",
         "0.1365945",
         "0.1349028",
         "0.1328828",
         "0.131078",
         "0.129824",
         "0.12876",
         "0.127495",
         "0.1261987",
         "0.125075",
         "0.1239834",
         "0.1228053",
         "0.1216465",
         "0.1206777",
         "0.1198764",
         "0.1190307",
         "0.1180536",
         "0.1170469",
         "0.1159928",
         "0.1149092",
         "0.1139704",
         "0.1132297",
         "0.1124735",
         "0.1116299",
         "0.1107952",
         "0.1099408",
         "0.1089707",
         "0.1080244",
         "0.1072008",
         "0.1063984",
         "0.1055526",
         "0.1047174",
         "0.103904",
         "0.103055",
         "0.102219",
         "0.1014012",
         "0.100546",
         "0.099658",
         "0.0987761",
         "0.0979022",
         "0.0969938",
         "0.0960994",
         "0.0952244",
         "0.0943452",
         "0.0934975",
         "0.0927166",
         "0.0919794",
         "0.091246",
         "0.0905238",
         "0.0898116",
         "0.0891006",
         "0.0884021",
         "0.0877092",
         "0.0870349",
         "0.0863804",
         "0.0857337",
         "0.0850901",
         "0.0844637",
         "0.0838562",
         "0.0832344",
         "0.0826203",
         "0.0820334",
         "0.0814332",
         "0.0808",
         "0.080169",
         "0.079564",
         "0.078945",
         "0.0783135",
         "0.0776907",
         "0.0770695",
         "0.0764488",
         "0.0758242",
         "0.0752047",
         "0.0746223",
         "0.0740848",
         "0.0735112",
         "0.0728394",
         "0.0721582",
         "0.0715342",
         "0.070931",
         "0.0703208",
         "0.069725",
         "0.0691404",
         "0.0685473",
         "0.0679716",
         "0.0674185",
         "0.0668578",
         "0.0662819",
         "0.0657183",
         "0.0651731",
         "0.0646364",
         "0.0641172",
         "0.0636094",
         "0.0630994",
         "0.0625809",
         "0.0620611",
         "0.0615515",
         "0.0610583",
         "0.0605787",
         "0.0601007",
         "0.0596248",
         "0.0591503",
         "0.0586904",
         "0.058259",
         "0.0578424",
         "0.0574189",
         "0.0569774",
         "0.0565258",
         "0.0560715",
         "0.0556311",
         "0.0551961",
         "0.054737",
         "0.0542608",
         "0.053782",
         "0.0532993",
         "0.0528045",
         "0.0523071",
         "0.0518099",
         "0.0513054",
         "0.0507969",
         "0.0502885",
         "0.0497823",
         "0.0492753",
         "0.0487659",
         "0.0482492",
         "0.0477238",
         "0.0471957",
         "0.0466677",
         "0.0461389",
         "0.0456071",
         "0.0450793",
         "0.0445568",
         "0.0440424",
         "0.0435482",
         "0.0430827",
         "0.0426352",
         "0.0421979",
         "0.041772",
         "0.0413523",
         "0.0409287",
         "0.0405108",
         "0.0401143",
         "0.039729",
         "0.0393368",
         "0.038939",
         "0.0385449",
         "0.0381576",
         "0.0377766",
         "0.0374017",
         "0.0370323",
         "0.0366699",
         "0.0363152",
         "0.0359704",
         "0.0356318",
         "0.0352956",
         "0.0349628",
         "0.0346365",
         "0.0343166",
         "0.0340057",
         "0.0337095",
         "0.0334248",
         "0.0331525",
         "0.0328943",
         "0.0326528",
         "0.0324272",
         "0.0322206",
         "0.0320357",
         "0.0318739",
         "0.031741",
         "0.0316289",
         "0.0315417",
         "0.0314831",
         "0.0314539",
         "0.031436",
         "0.0314346",
         "0.0314799",
         "0.0315744",
         "0.0316972",
         "0.0318387",
         "0.0320237",
         "0.0322445",
         "0.0324967",
         "0.0327776",
         "0.0330883",
         "0.0334212",
         "0.0337649",
         "0.0341121",
         "0.0344548",
         "0.0347778",
         "0.0350721",
         "0.0353397",
         "0.0355764",
         "0.0357439",
         "0.0358345",
         "0.0358641",
         "0.035836",
         "0.0357596",
         "0.0356436",
         "0.0354879",
         "0.0352727",
         "0.0350426",
         "0.0348332",
         "0.0346394",
         "0.0344524",
         "0.0342904",
         "0.034174",
         "0.0341074",
         "0.0340837",
         "0.0341169",
         "0.0342109",
         "0.0343968",
         "0.0346659",
         "0.0350443",
         "0.0355254",
         "0.036128",
         "0.03685",
         "0.0376946",
         "0.038667",
         "0.0397539",
         "0.0409461",
         "0.0421973",
         "0.0434839",
         "0.0447633",
         "0.0459867",
         "0.047123",
         "0.0481252",
         "0.0489879",
         "0.0496967",
         "0.0502541",
         "0.0506684",
         "0.0509484",
         "0.0511234",
         "0.0512021",
         "0.051216",
         "0.0511589",
         "0.0510457",
         "0.0508753",
         "0.0506653",
         "0.050412",
         "0.0501233",
         "0.0498048",
         "0.0494591",
         "0.0490859",
         "0.0486927",
         "0.048287",
         "0.0478675",
         "0.0474369",
         "0.0470062",
         "0.0465756",
         "0.0461419",
         "0.045709",
         "0.0453011",
         "0.0449103",
         "0.0445193",
         "0.0441218",
         "0.0437257",
         "0.0433306",
         "0.0429473",
         "0.0425885",
         "0.0422465",
         "0.0419163",
         "0.0415972",
         "0.041289",
         "0.0409704",
         "0.0406317",
         "0.040284",
         "0.0399562",
         "0.0396328",
         "0.0393034",
         "0.0389724",
         "0.0386522",
         "0.0383411",
         "0.038051",
         "0.0377759",
         "0.0374988",
         "0.0372107",
         "0.0369261",
         "0.0366633",
         "0.0364181",
         "0.0361901",
         "0.0359914",
         "0.0358207",
         "0.0356473",
         "0.0354685",
         "0.0352986",
         "0.0374146",
         "0.0372937",
         "0.0371885",
         "0.0370988",
         "0.0370298",
         "0.0369972",
         "0.0369891",
         "0.0370157",
         "0.037087",
         "0.0372226",
         "0.0374284",
         "0.0377274",
         "0.0381268",
         "0.0386475",
         "0.0393089",
         "0.0401219",
         "0.0411002",
         "0.0422349",
         "0.0435428",
         "0.0449962",
         "0.0465955",
         "0.0483035",
         "0.0501343",
         "0.0520497",
         "0.0540491",
         "0.0561032",
         "0.0582081",
         "0.0603421",
         "0.0624876",
         "0.0646229",
         "0.0667307",
         "0.0688024",
         "0.0708293",
         "0.0728134",
         "0.074762",
         "0.0766909",
         "0.0786112",
         "0.0805253",
         "0.0824378",
         "0.0843447",
         "0.0862304",
         "0.0880789",
         "0.0898802",
         "0.0915988",
         "0.0932174",
         "0.0946931",
         "0.0960364",
         "0.097203",
         "0.0982046",
         "0.0989868",
         "0.099593",
         "0.099984",
         "0.1002009",
         "0.1002115",
         "0.1000501",
         "0.0996965",
         "0.0991883",
         "0.0985233",
         "0.0977464",
         "0.0968675",
         "0.0959167",
         "0.0949169",
         "0.0938895",
         "0.0928448",
         "0.0918043",
         "0.0907864",
         "0.0898038",
         "0.0888791",
         "0.0880209",
         "0.0872345",
         "0.0865286",
         "0.0859142",
         "0.0853824",
         "0.084921",
         "0.0845298",
         "0.0842086",
         "0.0839425",
         "0.0837142",
         "0.0835182",
         "0.083347",
         "0.0831897",
         "0.0830331",
         "0.0828702",
         "0.0826989",
         "0.0825149",
         "0.0823089",
         "0.082075",
         "0.0818143",
         "0.0815276",
         "0.0812204",
         "0.0809007",
         "0.0805718",
         "0.0802376",
         "0.0799118",
         "0.0796046",
         "0.0793166",
         "0.0790529",
         "0.0788241",
         "0.0786363",
         "0.0784967",
         "0.0784161",
         "0.0783934",
         "0.0784189",
         "0.0785034",
         "0.0786637",
         "0.0789059",
         "0.0792304",
         "0.0796518",
         "0.0801692",
         "0.0807947",
         "0.0815311",
         "0.0823892",
         "0.0833615",
         "0.0844672",
         "0.0856991",
         "0.087072",
         "0.0885661",
         "0.0901986",
         "0.0919573",
         "0.0938473",
         "0.0958387",
         "0.0979442",
         "0.1001358",
         "0.1024062",
         "0.1047328",
         "0.1070944",
         "0.109465",
         "0.1118127",
         "0.1141303",
         "0.1163805",
         "0.1185538",
         "0.1206198",
         "0.1225805",
         "0.1244226",
         "0.1261587",
         "0.1277926",
         "0.1293492",
         "0.130857",
         "0.1323399",
         "0.1338384",
         "0.1354322",
         "0.1371803",
         "0.139136",
         "0.1413061",
         "0.1437642",
         "0.1465042",
         "0.1496174",
         "0.1530835",
         "0.1569903",
         "0.1612854",
         "0.1660516",
         "0.1712658",
         "0.1770064",
         "0.1832468",
         "0.1899918",
         "0.1972083",
         "0.2048626",
         "0.2128596",
         "0.2211086",
         "0.2295373",
         "0.2380487",
         "0.2464622",
         "0.2546912",
         "0.2625516",
         "0.2700338",
         "0.2769233",
         "0.2832714",
         "0.2889397",
         "0.293964",
         "0.2983128",
         "0.3020322",
         "0.3051606",
         "0.3077571",
         "0.3099154",
         "0.311659",
         "0.313092",
         "0.3142101",
         "0.3151203",
         "0.3158328",
         "0.3163952",
         "0.3168009",
         "0.3170734",
         "0.3172137",
         "0.3172215",
         "0.3170955",
         "0.3168255",
         "0.3164259",
         "0.3158905",
         "0.3152562",
         "0.3145123",
         "0.3136893",
         "0.3127896",
         "0.3118281",
         "0.3108118",
         "0.3097486",
         "0.3086485",
         "0.3075219",
         "0.3063734",
         "0.3052038",
         "0.3039998",
         "0.3027862",
         "0.3015982",
         "0.3004291",
         "0.2992554",
         "0.2980994",
         "0.2969778",
         "0.2958884",
         "0.2948727",
         "0.2938991",
         "0.2929559",
         "0.2920698",
         "0.2912709",
         "0.2905514",
         "0.28991",
         "0.2893628",
         "0.2888964",
         "0.2885186",
         "0.2882176",
         "0.2880062",
         "0.2878691",
         "0.2877944",
         "0.2877604",
         "0.2877401",
         "0.2877415",
         "0.2877827",
         "0.2878603",
         "0.2879423",
         "0.2880139",
         "0.2880715",
         "0.2881182",
         "0.2881518",
         "0.2881575",
         "0.2881101",
         "0.2880065",
         "0.2878371",
         "0.287603",
         "0.2873092",
         "0.2869363",
         "0.2864861",
         "0.2859413",
         "0.2853176",
         "0.2846127",
         "0.2838067",
         "0.2829087",
         "0.2819238",
         "0.2808558",
         "0.2796788",
         "0.2784094",
         "0.2770571",
         "0.2756286",
         "0.274139",
         "0.2725852",
         "0.2709914",
         "0.2693595",
         "0.2677043",
         "0.2660396",
         "0.26437",
         "0.2627003",
         "0.2610296",
         "0.2593769",
         "0.2577505",
         "0.2561335",
         "0.2545325",
         "0.2529715",
         "0.2514412",
         "0.2499363",
         "0.2484654",
         "0.2470241",
         "0.2456096",
         "0.2442265",
         "0.2428854",
         "0.2415843",
         "0.2403226",
         "0.239113",
         "0.23796",
         "0.2368834",
         "0.2358822",
         "0.2349542",
         "0.2341182",
         "0.2333687",
         "0.2327237",
         "0.2321856",
         "0.2317554",
         "0.2314649",
         "0.2313118",
         "0.2313264",
         "0.2315256",
         "0.2319319",
         "0.2326222",
         "0.23357",
         "0.2348018",
         "0.2363308",
         "0.2381255",
         "0.2401762",
         "0.2423999",
         "0.2447357",
         "0.2470776",
         "0.2493272",
         "0.2513697",
         "0.2531572",
         "0.2546356",
         "0.2557628",
         "0.2566065",
         "0.257183",
         "0.2575541",
         "0.2577738",
         "0.2578798",
         "0.2579487",
         "0.258039",
         "0.2581933",
         "0.2584263",
         "0.2587703",
         "0.2592245",
         "0.2597783",
         "0.2604312",
         "0.2611703",
         "0.2619971",
         "0.2628948",
         "0.2638208",
         "0.2647438",
         "0.2656713",
         "0.2665905",
         "0.2674491",
         "0.268231",
         "0.2689257",
         "0.2695243",
         "0.2700253",
         "0.2704297",
         "0.2707839",
         "0.2711139",
         "0.2714421",
         "0.271789",
         "0.2721561",
         "0.2725465",
         "0.2729525",
         "0.2733481",
         "0.2736961",
         "0.2739639",
         "0.2740986",
         "0.2740676",
         "0.2738466",
         "0.2733958",
         "0.272747",
         "0.2719093",
         "0.2708878",
         "0.2697422",
         "0.2685011",
         "0.267195",
         "0.265864",
         "0.2645259",
         "0.2631937",
         "0.261885",
         "0.2606182",
         "0.2594144",
         "0.2582789",
         "0.2572134",
         "0.2562242",
         "0.2553076",
         "0.254441",
         "0.2536165",
         "0.2528237",
         "0.2519829",
         "0.2510527",
         "0.2500466",
         "0.2489418",
         "0.2477425",
         "0.2464702",
         "0.2451299",
         "0.2437414",
         "0.2423372",
         "0.2409717",
         "0.2396796",
         "0.2384865",
         "0.2374375",
         "0.2365321",
         "0.2357803",
         "0.2352262",
         "0.2348713",
         "0.2347231",
         "0.2347977",
         "0.2350726",
         "0.2355508",
         "0.2362755",
         "0.2372629",
         "0.2385362",
         "0.2401514",
         "0.2421062",
         "0.2443983",
         "0.2470656",
         "0.2501467",
         "0.2537364",
         "0.2579634",
         "0.2629156",
         "0.2686855",
         "0.2753868",
         "0.2830583",
         "0.291636",
         "0.3011174",
         "0.3114719",
         "0.3225821",
         "0.3343519",
         "0.3464848",
         "0.3586462",
         "0.3705651",
         "0.3819552",
         "0.3927147",
         "0.4027819",
         "0.4120567",
         "0.4204902",
         "0.4281303",
         "0.4349365",
         "0.4407513",
         "0.4456357",
         "0.449563",
         "0.4524672",
         "0.4544488",
         "0.4555106",
         "0.4556554",
         "0.454949",
         "0.453513",
         "0.4514385",
         "0.4487771",
         "0.445695",
         "0.4422856",
         "0.438635",
         "0.434828",
         "0.4309219",
         "0.4269914",
         "0.4230984",
         "0.4192679",
         "0.4155192",
         "0.4118866",
         "0.4083821",
         "0.4049713",
         "0.4016519",
         "0.3984324",
         "0.3952741",
         "0.3921556",
         "0.3890857",
         "0.3860763",
         "0.3831291",
         "0.3802626",
         "0.3774897",
         "0.3748457",
         "0.3723708",
         "0.3700871",
         "0.368035",
         "0.3662417",
         "0.3647642",
         "0.3636306",
         "0.3628846",
         "0.3625293",
         "0.3625797",
         "0.3630739",
         "0.364046",
         "0.3654481",
         "0.3672658",
         "0.3695373",
         "0.3722929",
         "0.375469",
         "0.3790457",
         "0.3830101",
         "0.3873416",
         "0.3919795",
         "0.3968679",
         "0.4019924",
         "0.4072886",
         "0.4127072",
         "0.4182079",
         "0.4237428",
         "0.4293187",
         "0.4348907",
         "0.4404038",
         "0.4458224",
         "0.4511228",
         "0.4563253",
         "0.4614018",
         "0.4663192",
         "0.4710549",
         "0.4756424",
         "0.4800511",
         "0.4842718",
         "0.4883425",
         "0.4922574",
         "0.495995",
         "0.4995528",
         "0.5029241",
         "0.506121",
         "0.5091653",
         "0.5120092",
         "0.5146531",
         "0.5171133",
         "0.5193716",
         "0.5214291",
         "0.5232989",
         "0.524961",
         "0.5263695",
         "0.5275999",
         "0.5286328",
         "0.5294179",
         "0.529982",
         "0.5303235",
         "0.5304523",
         "0.5303589",
         "0.5300323",
         "0.5294803",
         "0.5287395",
         "0.527823",
         "0.5267074",
         "0.5254103",
         "0.5239588",
         "0.5223534",
         "0.5206127",
         "0.5187695",
         "0.5168161",
         "0.5147582",
         "0.5126304",
         "0.5104227",
         "0.5081328",
         "0.5057761",
         "0.5033961",
         "0.5009916",
         "0.49851",
         "0.4959678",
         "0.4934314",
         "0.4909214",
         "0.4884178",
         "0.4859387",
         "0.4834872",
         "0.4810395",
         "0.478577",
         "0.4761157",
         "0.4736721",
         "0.4712372",
         "0.4688186",
         "0.4664117",
         "0.4640146",
         "0.4616537",
         "0.4593278",
         "0.457021",
         "0.454761",
         "0.4525246",
         "0.4503052",
         "0.4481068",
         "0.4458889",
         "0.4437017",
         "0.4415591",
         "0.4394239",
         "0.4373378",
         "0.435328",
         "0.4333662",
         "0.431446",
         "0.4295826",
         "0.4277813",
         "0.4260383",
         "0.4243876",
         "0.4228232",
         "0.4213528",
         "0.4200486",
         "0.4189156",
         "0.4179618",
         "0.4172152",
         "0.4166997",
         "0.4164679",
         "0.4165608",
         "0.416988",
         "0.4178318",
         "0.4191192",
         "0.4208742",
         "0.4231313",
         "0.4259367",
         "0.4292845",
         "0.4331642",
         "0.4376197",
         "0.442609",
         "0.4480669",
         "0.4538603",
         "0.4599783",
         "0.4663987",
         "0.4729399",
         "0.479501",
         "0.4860323",
         "0.4925008",
         "0.4988945",
         "0.5052185",
         "0.5114582",
         "0.5176278",
         "0.5237095",
         "0.5296136",
         "0.5351181",
         "0.5400041",
         "0.5440854",
         "0.5471454",
         "0.5491105",
         "0.550081",
         "0.55034",
         "0.5501606",
         "0.5498343",
         "0.5496867",
         "0.5499673",
         "0.5507495",
         "0.5520406",
         "0.5537887",
         "0.5558499",
         "0.5580488",
         "0.5602039",
         "0.5621975",
         "0.5638678",
         "0.5650923",
         "0.5659135",
         "0.5663184",
         "0.5663007",
         "0.5658901",
         "0.5651509",
         "0.5641343",
         "0.5628861",
         "0.5614974",
         "0.5600275",
         "0.5585369",
         "0.557092",
         "0.5556946",
         "0.5543168",
         "0.5530154",
         "0.5518018",
         "0.5506449",
         "0.549529",
         "0.5484989",
         "0.5475934",
         "0.5468132",
         "0.5461543",
         "0.5455323",
         "0.5450025",
         "0.5445963",
         "0.5442351",
         "0.5438838",
         "0.5435414",
         "0.543224",
         "0.5429036",
         "0.5425364",
         "0.5421373",
         "0.5417262",
         "0.5412893",
         "0.5409891",
         "0.5409203",
         "0.5410659",
         "0.5415031",
         "0.5423273",
         "0.5435773",
         "0.545215",
         "0.5472685",
         "0.5497563",
         "0.5526367",
         "0.5558649",
         "0.5594107",
         "0.5632478",
         "0.5673233",
         "0.5715922",
         "0.5760162",
         "0.5805737",
         "0.5853338",
         "0.5901977",
         "0.5951149",
         "0.6001573",
         "0.6052889",
         "0.6104695",
         "0.6157637",
         "0.6211311",
         "0.6265509",
         "0.6320022",
         "0.6375056",
         "0.6429773",
         "0.648276",
         "0.6535515",
         "0.6588113",
         "0.6638651",
         "0.6688849",
         "0.6738073",
         "0.6785054",
         "0.6831148",
         "0.6876928",
         "0.6921568",
         "0.6965131",
         "0.7008532",
         "0.7050972",
         "0.7091996",
         "0.713056",
         "0.7167478",
         "0.7202529",
         "0.7234284",
         "0.7261719",
         "0.7285631",
         "0.7306644",
         "0.7323731",
         "0.7336084",
         "0.734403",
         "0.7349217",
         "0.7351545",
         "0.7350946",
         "0.7347357",
         "0.7341652"
        ],
        [
         "1",
         "0.1593696",
         "0.169495",
         "0.1739988",
         "0.1774367",
         "0.1800281",
         "0.1825329",
         "0.1848816",
         "0.1864673",
         "0.1875145",
         "0.1883301",
         "0.1888391",
         "0.1890313",
         "0.1890844",
         "0.1890004",
         "0.1886269",
         "0.1880651",
         "0.1874619",
         "0.1868142",
         "0.186016",
         "0.1849239",
         "0.1837443",
         "0.1826845",
         "0.1815935",
         "0.1803607",
         "0.1792503",
         "0.1783758",
         "0.177459",
         "0.1763679",
         "0.1753344",
         "0.1744896",
         "0.173748",
         "0.1730892",
         "0.172442",
         "0.1716756",
         "0.170765",
         "0.1698849",
         "0.1691002",
         "0.1682557",
         "0.1672271",
         "0.1661177",
         "0.1651237",
         "0.1642045",
         "0.1632078",
         "0.1621952",
         "0.161292",
         "0.1603664",
         "0.1592747",
         "0.1581068",
         "0.1569809",
         "0.1558899",
         "0.1546942",
         "0.1532367",
         "0.1517435",
         "0.1504918",
         "0.1492499",
         "0.1476863",
         "0.146048",
         "0.1446397",
         "0.1431936",
         "0.1415313",
         "0.1398748",
         "0.1382239",
         "0.1364089",
         "0.1346018",
         "0.1330714",
         "0.1317452",
         "0.1303561",
         "0.1288427",
         "0.1274094",
         "0.1261722",
         "0.1249823",
         "0.1236505",
         "0.1222872",
         "0.1211669",
         "0.1202627",
         "0.119278",
         "0.1180624",
         "0.1168821",
         "0.1159666",
         "0.115151",
         "0.1143062",
         "0.1134753",
         "0.1125211",
         "0.111315",
         "0.1101348",
         "0.1093536",
         "0.1087665",
         "0.1079856",
         "0.1069916",
         "0.1060772",
         "0.1053263",
         "0.1045519",
         "0.1036979",
         "0.1028589",
         "0.1020303",
         "0.1011923",
         "0.1003893",
         "0.0995767",
         "0.0987267",
         "0.0978562",
         "0.0969906",
         "0.0961479",
         "0.09534",
         "0.0945333",
         "0.0936399",
         "0.0927139",
         "0.0918112",
         "0.0909472",
         "0.0901311",
         "0.0893571",
         "0.0886054",
         "0.0878728",
         "0.0871691",
         "0.0864706",
         "0.0857673",
         "0.0850785",
         "0.084377",
         "0.0836927",
         "0.0830649",
         "0.0824644",
         "0.0818548",
         "0.0812565",
         "0.0806835",
         "0.0800867",
         "0.0794774",
         "0.0788958",
         "0.0783358",
         "0.0777673",
         "0.0771869",
         "0.0766135",
         "0.0760345",
         "0.075464",
         "0.074916",
         "0.0743623",
         "0.0737913",
         "0.0732186",
         "0.072671",
         "0.0721715",
         "0.0717152",
         "0.0712242",
         "0.0706367",
         "0.0700272",
         "0.0694619",
         "0.068932",
         "0.0684117",
         "0.0678854",
         "0.0673465",
         "0.0668065",
         "0.0662832",
         "0.0657622",
         "0.0652352",
         "0.0646998",
         "0.0641605",
         "0.0636268",
         "0.0631058",
         "0.0625971",
         "0.0620821",
         "0.0615592",
         "0.061026",
         "0.0604868",
         "0.0599564",
         "0.0594419",
         "0.0589371",
         "0.0584349",
         "0.0579394",
         "0.0574396",
         "0.0569444",
         "0.0564772",
         "0.0560281",
         "0.0555758",
         "0.0551134",
         "0.0546436",
         "0.0541624",
         "0.0536866",
         "0.0532227",
         "0.0527491",
         "0.0522567",
         "0.0517485",
         "0.0512386",
         "0.0507272",
         "0.0502106",
         "0.0496909",
         "0.0491732",
         "0.0486545",
         "0.0481276",
         "0.0476019",
         "0.0470824",
         "0.0465632",
         "0.0460372",
         "0.0455011",
         "0.0449565",
         "0.0444068",
         "0.0438577",
         "0.0433054",
         "0.0427574",
         "0.0422208",
         "0.0416943",
         "0.0411841",
         "0.0407044",
         "0.0402474",
         "0.0397971",
         "0.039354",
         "0.0389229",
         "0.0385018",
         "0.0380908",
         "0.0376826",
         "0.0372668",
         "0.0368452",
         "0.0364291",
         "0.0360228",
         "0.0356235",
         "0.0352272",
         "0.0348359",
         "0.0344586",
         "0.0340949",
         "0.0337352",
         "0.0333811",
         "0.0330337",
         "0.0326873",
         "0.0323447",
         "0.0320166",
         "0.0317015",
         "0.0313932",
         "0.0310946",
         "0.0308067",
         "0.0305309",
         "0.0302692",
         "0.0300265",
         "0.0298005",
         "0.0295944",
         "0.0294129",
         "0.029255",
         "0.0291239",
         "0.0290148",
         "0.0289343",
         "0.0288816",
         "0.028855",
         "0.0288425",
         "0.0288513",
         "0.028901",
         "0.0289933",
         "0.0291203",
         "0.0292712",
         "0.0294577",
         "0.0296762",
         "0.0299301",
         "0.0302153",
         "0.0305325",
         "0.0308731",
         "0.031223",
         "0.0315741",
         "0.0319193",
         "0.0322434",
         "0.0325387",
         "0.0328093",
         "0.0330502",
         "0.0332214",
         "0.0333134",
         "0.0333426",
         "0.0333145",
         "0.0332381",
         "0.0331217",
         "0.0329652",
         "0.0327471",
         "0.0325129",
         "0.0323003",
         "0.0321048",
         "0.0319181",
         "0.0317558",
         "0.0316352",
         "0.0315629",
         "0.0315372",
         "0.0315714",
         "0.031665",
         "0.031849",
         "0.0321175",
         "0.0324972",
         "0.0329804",
         "0.0335864",
         "0.0343158",
         "0.035171",
         "0.0361554",
         "0.0372579",
         "0.0384714",
         "0.0397443",
         "0.041048",
         "0.0423407",
         "0.0435714",
         "0.0447101",
         "0.045713",
         "0.0465752",
         "0.0472821",
         "0.0478368",
         "0.0482462",
         "0.0485183",
         "0.0486877",
         "0.0487656",
         "0.0487775",
         "0.0487133",
         "0.0485925",
         "0.0484176",
         "0.0482057",
         "0.0479528",
         "0.0476636",
         "0.0473421",
         "0.0469951",
         "0.0466239",
         "0.046232",
         "0.0458293",
         "0.0454183",
         "0.0449928",
         "0.0445564",
         "0.0441211",
         "0.0436937",
         "0.0432688",
         "0.0428642",
         "0.0424768",
         "0.0420897",
         "0.0416957",
         "0.0413064",
         "0.0409143",
         "0.0405209",
         "0.040151",
         "0.0398104",
         "0.0394883",
         "0.0391764",
         "0.0388754",
         "0.0385656",
         "0.0382363",
         "0.0378922",
         "0.0375606",
         "0.0372392",
         "0.0369223",
         "0.0365984",
         "0.0362734",
         "0.0359585",
         "0.0356719",
         "0.0353981",
         "0.0351188",
         "0.0348363",
         "0.0345576",
         "0.0342885",
         "0.0340348",
         "0.0338053",
         "0.0336035",
         "0.0334266",
         "0.0332513",
         "0.0330813",
         "0.0329241",
         "0.0358111",
         "0.0356842",
         "0.0355742",
         "0.0354788",
         "0.0354028",
         "0.0353621",
         "0.0353478",
         "0.035373",
         "0.0354463",
         "0.0355807",
         "0.0357772",
         "0.0360646",
         "0.0364592",
         "0.0369776",
         "0.0376349",
         "0.0384471",
         "0.0394275",
         "0.0405586",
         "0.0418542",
         "0.0432927",
         "0.0448771",
         "0.0465694",
         "0.0483807",
         "0.0502737",
         "0.0522531",
         "0.0542878",
         "0.056365",
         "0.0584672",
         "0.0605903",
         "0.0627121",
         "0.0648054",
         "0.0668574",
         "0.0688623",
         "0.0708276",
         "0.0727618",
         "0.0746776",
         "0.0765867",
         "0.078494",
         "0.0804026",
         "0.082309",
         "0.0841963",
         "0.0860418",
         "0.0878337",
         "0.0895427",
         "0.0911595",
         "0.0926429",
         "0.093992",
         "0.0951576",
         "0.0961626",
         "0.0969592",
         "0.0975813",
         "0.0979851",
         "0.0982108",
         "0.0982257",
         "0.0980697",
         "0.0977295",
         "0.097243",
         "0.0966005",
         "0.0958373",
         "0.0949685",
         "0.0940321",
         "0.0930439",
         "0.0920232",
         "0.0909862",
         "0.0899546",
         "0.0889456",
         "0.0879687",
         "0.087043",
         "0.0861843",
         "0.0854048",
         "0.0847064",
         "0.0840943",
         "0.0835628",
         "0.0831048",
         "0.0827193",
         "0.0824018",
         "0.0821383",
         "0.0819134",
         "0.0817162",
         "0.0815403",
         "0.0813836",
         "0.0812311",
         "0.0810679",
         "0.0808937",
         "0.0807079",
         "0.0805032",
         "0.080273",
         "0.080014",
         "0.0797284",
         "0.0794252",
         "0.0791042",
         "0.0787687",
         "0.0784327",
         "0.0781075",
         "0.0777968",
         "0.077506",
         "0.0772397",
         "0.0770041",
         "0.0768079",
         "0.0766609",
         "0.0765694",
         "0.0765331",
         "0.0765486",
         "0.0766255",
         "0.0767773",
         "0.0770128",
         "0.0773294",
         "0.0777351",
         "0.078235",
         "0.0788456",
         "0.0795622",
         "0.0803953",
         "0.0813483",
         "0.0824409",
         "0.0836582",
         "0.0850138",
         "0.0864896",
         "0.0881016",
         "0.0898422",
         "0.091724",
         "0.0937112",
         "0.0958116",
         "0.0979978",
         "0.1002626",
         "0.1025861",
         "0.1049473",
         "0.1073161",
         "0.1096644",
         "0.1119859",
         "0.1142332",
         "0.116395",
         "0.1184471",
         "0.1203926",
         "0.1222139",
         "0.1239277",
         "0.1255435",
         "0.12708",
         "0.1285586",
         "0.1300152",
         "0.1314946",
         "0.1330607",
         "0.134771",
         "0.136687",
         "0.1388125",
         "0.1412198",
         "0.1439102",
         "0.1469704",
         "0.1503702",
         "0.1542016",
         "0.158425",
         "0.1631194",
         "0.1682509",
         "0.1739041",
         "0.1800692",
         "0.1867545",
         "0.193915",
         "0.2015156",
         "0.2094764",
         "0.2177029",
         "0.2260981",
         "0.2345718",
         "0.2429662",
         "0.2511778",
         "0.2590091",
         "0.2664651",
         "0.2733242",
         "0.2796237",
         "0.2852291",
         "0.2901853",
         "0.2944665",
         "0.2981276",
         "0.3012028",
         "0.3037413",
         "0.3058373",
         "0.3075165",
         "0.3088889",
         "0.3099643",
         "0.3108434",
         "0.3115223",
         "0.3120507",
         "0.3124298",
         "0.3126799",
         "0.312799",
         "0.3127866",
         "0.3126432",
         "0.3123677",
         "0.3119727",
         "0.3114409",
         "0.3108062",
         "0.310068",
         "0.3092607",
         "0.3083783",
         "0.3074281",
         "0.3064252",
         "0.3053834",
         "0.3043017",
         "0.3031863",
         "0.3020523",
         "0.3009066",
         "0.2997259",
         "0.298523",
         "0.2973363",
         "0.296176",
         "0.2950221",
         "0.2938802",
         "0.2927651",
         "0.2916845",
         "0.2906763",
         "0.2897131",
         "0.2887957",
         "0.2879381",
         "0.2871553",
         "0.286446",
         "0.2858172",
         "0.2852853",
         "0.2848385",
         "0.2844846",
         "0.2842019",
         "0.2840007",
         "0.2838737",
         "0.2838103",
         "0.2837878",
         "0.2837811",
         "0.2837981",
         "0.2838549",
         "0.2839477",
         "0.284043",
         "0.28413",
         "0.2842105",
         "0.2842782",
         "0.2843168",
         "0.2843225",
         "0.2842826",
         "0.2841944",
         "0.2840431",
         "0.2838235",
         "0.2835478",
         "0.283197",
         "0.2827629",
         "0.2822362",
         "0.2816278",
         "0.2809268",
         "0.280143",
         "0.2792827",
         "0.278307",
         "0.2772338",
         "0.2760701",
         "0.274827",
         "0.2734984",
         "0.272083",
         "0.2706005",
         "0.2690596",
         "0.2674853",
         "0.2658707",
         "0.2642304",
         "0.2625889",
         "0.2609469",
         "0.2592989",
         "0.2576502",
         "0.2560185",
         "0.2544084",
         "0.2528189",
         "0.25125",
         "0.2497053",
         "0.2481852",
         "0.2466972",
         "0.2452503",
         "0.2438354",
         "0.2424364",
         "0.241061",
         "0.2397328",
         "0.2384509",
         "0.237205",
         "0.236007",
         "0.2348725",
         "0.2338207",
         "0.2328329",
         "0.2319031",
         "0.2310649",
         "0.2303196",
         "0.2296796",
         "0.2291496",
         "0.22873",
         "0.2284366",
         "0.2282738",
         "0.2282928",
         "0.2285154",
         "0.2289463",
         "0.2296365",
         "0.2305798",
         "0.2318336",
         "0.2333841",
         "0.2351777",
         "0.2372257",
         "0.2394461",
         "0.24178",
         "0.2441397",
         "0.246409",
         "0.2484536",
         "0.2502364",
         "0.2517121",
         "0.2528539",
         "0.2537211",
         "0.2543069",
         "0.2546758",
         "0.2548982",
         "0.2550219",
         "0.2551131",
         "0.2552138",
         "0.2553655",
         "0.2555977",
         "0.2559449",
         "0.2564012",
         "0.2569634",
         "0.2576277",
         "0.2583649",
         "0.2591808",
         "0.2600701",
         "0.2610003",
         "0.2619442",
         "0.2628676",
         "0.2637455",
         "0.2645781",
         "0.2653677",
         "0.2660757",
         "0.2666643",
         "0.2671406",
         "0.26753",
         "0.2678865",
         "0.2682267",
         "0.2685573",
         "0.268889",
         "0.2692274",
         "0.2695945",
         "0.2699939",
         "0.2703976",
         "0.2707563",
         "0.2710245",
         "0.2711413",
         "0.2710949",
         "0.270883",
         "0.2704599",
         "0.2698306",
         "0.2689931",
         "0.2679603",
         "0.2668157",
         "0.265599",
         "0.2643252",
         "0.2630146",
         "0.2616782",
         "0.2603436",
         "0.2590447",
         "0.2578035",
         "0.2566289",
         "0.2555145",
         "0.254453",
         "0.2534539",
         "0.2525244",
         "0.251663",
         "0.2508622",
         "0.2500875",
         "0.2492509",
         "0.248322",
         "0.2473148",
         "0.2462259",
         "0.245061",
         "0.2438115",
         "0.2424682",
         "0.2410695",
         "0.2396605",
         "0.2383111",
         "0.237045",
         "0.2358633",
         "0.2348019",
         "0.233878",
         "0.2331095",
         "0.232546",
         "0.2321876",
         "0.232028",
         "0.2320724",
         "0.2323109",
         "0.2327539",
         "0.233441",
         "0.2343844",
         "0.2356085",
         "0.2371619",
         "0.239033",
         "0.2412169",
         "0.2437648",
         "0.2467318",
         "0.2502014",
         "0.2542943",
         "0.2590879",
         "0.2646581",
         "0.2711357",
         "0.2785904",
         "0.2869534",
         "0.2962086",
         "0.3063115",
         "0.3171283",
         "0.328557",
         "0.3403412",
         "0.3521654",
         "0.3637368",
         "0.3747829",
         "0.3852074",
         "0.394922",
         "0.4038462",
         "0.4119562",
         "0.4193013",
         "0.4258583",
         "0.431453",
         "0.4361188",
         "0.4398404",
         "0.4425592",
         "0.4443917",
         "0.445365",
         "0.4454738",
         "0.4447472",
         "0.443298",
         "0.4412263",
         "0.4385791",
         "0.4355402",
         "0.4322193",
         "0.428684",
         "0.4250023",
         "0.4212164",
         "0.4173878",
         "0.4135972",
         "0.4098881",
         "0.4062921",
         "0.4028396",
         "0.3995001",
         "0.3962311",
         "0.3930378",
         "0.3899222",
         "0.3868769",
         "0.3839018",
         "0.3809907",
         "0.3781479",
         "0.3753504",
         "0.3725903",
         "0.3699121",
         "0.3673868",
         "0.3650435",
         "0.3628995",
         "0.3610083",
         "0.3593846",
         "0.3580403",
         "0.3570023",
         "0.356376",
         "0.3561694",
         "0.3563787",
         "0.3570381",
         "0.3581621",
         "0.3597019",
         "0.3616585",
         "0.36405",
         "0.3669044",
         "0.3702135",
         "0.3739598",
         "0.3780751",
         "0.382517",
         "0.3872457",
         "0.3922023",
         "0.3973748",
         "0.4027261",
         "0.4082047",
         "0.4137891",
         "0.4194214",
         "0.4250203",
         "0.4305732",
         "0.436092",
         "0.4415344",
         "0.4468475",
         "0.4520602",
         "0.4571576",
         "0.4620953",
         "0.4668135",
         "0.4713436",
         "0.4757143",
         "0.4799322",
         "0.4839806",
         "0.487869",
         "0.4915917",
         "0.4951409",
         "0.4985161",
         "0.5016649",
         "0.5046141",
         "0.5074093",
         "0.5100586",
         "0.5125228",
         "0.5147923",
         "0.5168453",
         "0.5186564",
         "0.5202647",
         "0.5216641",
         "0.5228494",
         "0.5238489",
         "0.5246803",
         "0.5253011",
         "0.5256494",
         "0.5257466",
         "0.5256098",
         "0.5252588",
         "0.524715",
         "0.52399",
         "0.523095",
         "0.5220321",
         "0.5207841",
         "0.519336",
         "0.5177072",
         "0.5159445",
         "0.5141064",
         "0.5121876",
         "0.5101825",
         "0.5081135",
         "0.5059676",
         "0.5037216",
         "0.5013769",
         "0.4989912",
         "0.4965733",
         "0.4941265",
         "0.4916712",
         "0.4892193",
         "0.4867912",
         "0.4843509",
         "0.48187",
         "0.4793861",
         "0.4769286",
         "0.4745004",
         "0.4721111",
         "0.469743",
         "0.4673757",
         "0.4650209",
         "0.4626594",
         "0.4602946",
         "0.4579519",
         "0.4556306",
         "0.4533469",
         "0.4511326",
         "0.4489479",
         "0.4467675",
         "0.4446058",
         "0.4424302",
         "0.4402529",
         "0.4381073",
         "0.4359838",
         "0.4339084",
         "0.4319102",
         "0.4299765",
         "0.428103",
         "0.4262767",
         "0.4244785",
         "0.4227153",
         "0.4210365",
         "0.4194783",
         "0.4180335",
         "0.4167559",
         "0.4156917",
         "0.4148023",
         "0.414109",
         "0.4136293",
         "0.4133745",
         "0.4134168",
         "0.4138126",
         "0.4146672",
         "0.4159726",
         "0.417738",
         "0.4200208",
         "0.4228256",
         "0.426149",
         "0.4299948",
         "0.4343727",
         "0.4392967",
         "0.4447251",
         "0.4505085",
         "0.4565949",
         "0.4629731",
         "0.4695038",
         "0.4760431",
         "0.4825115",
         "0.4888788",
         "0.4951808",
         "0.5013977",
         "0.5075357",
         "0.513706",
         "0.5198199",
         "0.525698",
         "0.5311507",
         "0.5359847",
         "0.5399855",
         "0.5429785",
         "0.5449623",
         "0.5459672",
         "0.5462283",
         "0.5460593",
         "0.5457511",
         "0.5456358",
         "0.5459315",
         "0.5466827",
         "0.5478826",
         "0.5495223",
         "0.5515021",
         "0.5536532",
         "0.555774",
         "0.5577254",
         "0.5594335",
         "0.560691",
         "0.5615063",
         "0.5618916",
         "0.5618219",
         "0.5613962",
         "0.5606248",
         "0.5595616",
         "0.5583484",
         "0.5570332",
         "0.5556493",
         "0.5542269",
         "0.5527479",
         "0.551295",
         "0.5498918",
         "0.5485653",
         "0.5473652",
         "0.546236",
         "0.5451609",
         "0.5441882",
         "0.5432887",
         "0.5424942",
         "0.5418267",
         "0.5411932",
         "0.5406621",
         "0.5401828",
         "0.5397173",
         "0.5393521",
         "0.5390568",
         "0.538772",
         "0.538473",
         "0.5381042",
         "0.5376519",
         "0.5372047",
         "0.5367529",
         "0.5364159",
         "0.5363035",
         "0.5364136",
         "0.5368341",
         "0.537639",
         "0.5388604",
         "0.5404739",
         "0.5424922",
         "0.5449141",
         "0.5477",
         "0.5508376",
         "0.554328",
         "0.5580878",
         "0.5620385",
         "0.5662323",
         "0.5706694",
         "0.5752142",
         "0.5798497",
         "0.5846444",
         "0.5895363",
         "0.5944231",
         "0.599369",
         "0.6044101",
         "0.6096143",
         "0.6149101",
         "0.6202561",
         "0.6256776",
         "0.6311191",
         "0.6365218",
         "0.6417609",
         "0.6469033",
         "0.6520268",
         "0.6570109",
         "0.6618667",
         "0.6666125",
         "0.6712624",
         "0.675868",
         "0.6803781",
         "0.6847096",
         "0.6889982",
         "0.6932268",
         "0.6973107",
         "0.7011841",
         "0.7049654",
         "0.7085312",
         "0.711861",
         "0.7149975",
         "0.7177067",
         "0.7200908",
         "0.7221937",
         "0.7238111",
         "0.7250378",
         "0.7258653",
         "0.726412",
         "0.7265301",
         "0.7263889",
         "0.7260109",
         "0.7254159"
        ],
        [
         "2",
         "0.1630475",
         "0.1736006",
         "0.1780546",
         "0.1816728",
         "0.1846741",
         "0.1872795",
         "0.1894036",
         "0.1909711",
         "0.1922249",
         "0.1932104",
         "0.1938196",
         "0.194084",
         "0.1941213",
         "0.1939455",
         "0.193377",
         "0.1926389",
         "0.1920193",
         "0.1913457",
         "0.1903694",
         "0.1892347",
         "0.1882541",
         "0.1873852",
         "0.1863474",
         "0.1850646",
         "0.1837258",
         "0.1826288",
         "0.1817792",
         "0.1809257",
         "0.1799426",
         "0.1789444",
         "0.1780909",
         "0.1774127",
         "0.1768277",
         "0.1761843",
         "0.1752716",
         "0.1741863",
         "0.1731888",
         "0.1723661",
         "0.1716067",
         "0.1708443",
         "0.1699601",
         "0.1688765",
         "0.16778",
         "0.1668014",
         "0.1658655",
         "0.1648571",
         "0.1636713",
         "0.1623876",
         "0.1612546",
         "0.16024",
         "0.1590167",
         "0.1575853",
         "0.1562183",
         "0.1548942",
         "0.1535175",
         "0.1521051",
         "0.150585",
         "0.14889",
         "0.1471663",
         "0.1455622",
         "0.1439604",
         "0.1422493",
         "0.1406073",
         "0.1392048",
         "0.1379333",
         "0.1365945",
         "0.1349028",
         "0.1328828",
         "0.131078",
         "0.129824",
         "0.12876",
         "0.127495",
         "0.1261987",
         "0.125075",
         "0.1239834",
         "0.1228053",
         "0.1216465",
         "0.1206777",
         "0.1198764",
         "0.1190307",
         "0.1180536",
         "0.1170469",
         "0.1159928",
         "0.1149092",
         "0.1139704",
         "0.1132297",
         "0.1124735",
         "0.1116299",
         "0.1107952",
         "0.1099408",
         "0.1089707",
         "0.1080244",
         "0.1072008",
         "0.1063984",
         "0.1055526",
         "0.1047174",
         "0.103904",
         "0.103055",
         "0.102219",
         "0.1014012",
         "0.100546",
         "0.099658",
         "0.0987761",
         "0.0979022",
         "0.0969938",
         "0.0960994",
         "0.0952244",
         "0.0943452",
         "0.0934975",
         "0.0927166",
         "0.0919794",
         "0.091246",
         "0.0905238",
         "0.0898116",
         "0.0891006",
         "0.0884021",
         "0.0877092",
         "0.0870349",
         "0.0863804",
         "0.0857337",
         "0.0850901",
         "0.0844637",
         "0.0838562",
         "0.0832344",
         "0.0826203",
         "0.0820334",
         "0.0814332",
         "0.0808",
         "0.080169",
         "0.079564",
         "0.078945",
         "0.0783135",
         "0.0776907",
         "0.0770695",
         "0.0764488",
         "0.0758242",
         "0.0752047",
         "0.0746223",
         "0.0740848",
         "0.0735112",
         "0.0728394",
         "0.0721582",
         "0.0715342",
         "0.070931",
         "0.0703208",
         "0.069725",
         "0.0691404",
         "0.0685473",
         "0.0679716",
         "0.0674185",
         "0.0668578",
         "0.0662819",
         "0.0657183",
         "0.0651731",
         "0.0646364",
         "0.0641172",
         "0.0636094",
         "0.0630994",
         "0.0625809",
         "0.0620611",
         "0.0615515",
         "0.0610583",
         "0.0605787",
         "0.0601007",
         "0.0596248",
         "0.0591503",
         "0.0586904",
         "0.058259",
         "0.0578424",
         "0.0574189",
         "0.0569774",
         "0.0565258",
         "0.0560715",
         "0.0556311",
         "0.0551961",
         "0.054737",
         "0.0542608",
         "0.053782",
         "0.0532993",
         "0.0528045",
         "0.0523071",
         "0.0518099",
         "0.0513054",
         "0.0507969",
         "0.0502885",
         "0.0497823",
         "0.0492753",
         "0.0487659",
         "0.0482492",
         "0.0477238",
         "0.0471957",
         "0.0466677",
         "0.0461389",
         "0.0456071",
         "0.0450793",
         "0.0445568",
         "0.0440424",
         "0.0435482",
         "0.0430827",
         "0.0426352",
         "0.0421979",
         "0.041772",
         "0.0413523",
         "0.0409287",
         "0.0405108",
         "0.0401143",
         "0.039729",
         "0.0393368",
         "0.038939",
         "0.0385449",
         "0.0381576",
         "0.0377766",
         "0.0374017",
         "0.0370323",
         "0.0366699",
         "0.0363152",
         "0.0359704",
         "0.0356318",
         "0.0352956",
         "0.0349628",
         "0.0346365",
         "0.0343166",
         "0.0340057",
         "0.0337095",
         "0.0334248",
         "0.0331525",
         "0.0328943",
         "0.0326528",
         "0.0324272",
         "0.0322206",
         "0.0320357",
         "0.0318739",
         "0.031741",
         "0.0316289",
         "0.0315417",
         "0.0314831",
         "0.0314539",
         "0.031436",
         "0.0314346",
         "0.0314799",
         "0.0315744",
         "0.0316972",
         "0.0318387",
         "0.0320237",
         "0.0322445",
         "0.0324967",
         "0.0327776",
         "0.0330883",
         "0.0334212",
         "0.0337649",
         "0.0341121",
         "0.0344548",
         "0.0347778",
         "0.0350721",
         "0.0353397",
         "0.0355764",
         "0.0357439",
         "0.0358345",
         "0.0358641",
         "0.035836",
         "0.0357596",
         "0.0356436",
         "0.0354879",
         "0.0352727",
         "0.0350426",
         "0.0348332",
         "0.0346394",
         "0.0344524",
         "0.0342904",
         "0.034174",
         "0.0341074",
         "0.0340837",
         "0.0341169",
         "0.0342109",
         "0.0343968",
         "0.0346659",
         "0.0350443",
         "0.0355254",
         "0.036128",
         "0.03685",
         "0.0376946",
         "0.038667",
         "0.0397539",
         "0.0409461",
         "0.0421973",
         "0.0434839",
         "0.0447633",
         "0.0459867",
         "0.047123",
         "0.0481252",
         "0.0489879",
         "0.0496967",
         "0.0502541",
         "0.0506684",
         "0.0509484",
         "0.0511234",
         "0.0512021",
         "0.051216",
         "0.0511589",
         "0.0510457",
         "0.0508753",
         "0.0506653",
         "0.050412",
         "0.0501233",
         "0.0498048",
         "0.0494591",
         "0.0490859",
         "0.0486927",
         "0.048287",
         "0.0478675",
         "0.0474369",
         "0.0470062",
         "0.0465756",
         "0.0461419",
         "0.045709",
         "0.0453011",
         "0.0449103",
         "0.0445193",
         "0.0441218",
         "0.0437257",
         "0.0433306",
         "0.0429473",
         "0.0425885",
         "0.0422465",
         "0.0419163",
         "0.0415972",
         "0.041289",
         "0.0409704",
         "0.0406317",
         "0.040284",
         "0.0399562",
         "0.0396328",
         "0.0393034",
         "0.0389724",
         "0.0386522",
         "0.0383411",
         "0.038051",
         "0.0377759",
         "0.0374988",
         "0.0372107",
         "0.0369261",
         "0.0366633",
         "0.0364181",
         "0.0361901",
         "0.0359914",
         "0.0358207",
         "0.0356473",
         "0.0354685",
         "0.0352986",
         "0.0374146",
         "0.0372937",
         "0.0371885",
         "0.0370988",
         "0.0370298",
         "0.0369972",
         "0.0369891",
         "0.0370157",
         "0.037087",
         "0.0372226",
         "0.0374284",
         "0.0377274",
         "0.0381268",
         "0.0386475",
         "0.0393089",
         "0.0401219",
         "0.0411002",
         "0.0422349",
         "0.0435428",
         "0.0449962",
         "0.0465955",
         "0.0483035",
         "0.0501343",
         "0.0520497",
         "0.0540491",
         "0.0561032",
         "0.0582081",
         "0.0603421",
         "0.0624876",
         "0.0646229",
         "0.0667307",
         "0.0688024",
         "0.0708293",
         "0.0728134",
         "0.074762",
         "0.0766909",
         "0.0786112",
         "0.0805253",
         "0.0824378",
         "0.0843447",
         "0.0862304",
         "0.0880789",
         "0.0898802",
         "0.0915988",
         "0.0932174",
         "0.0946931",
         "0.0960364",
         "0.097203",
         "0.0982046",
         "0.0989868",
         "0.099593",
         "0.099984",
         "0.1002009",
         "0.1002115",
         "0.1000501",
         "0.0996965",
         "0.0991883",
         "0.0985233",
         "0.0977464",
         "0.0968675",
         "0.0959167",
         "0.0949169",
         "0.0938895",
         "0.0928448",
         "0.0918043",
         "0.0907864",
         "0.0898038",
         "0.0888791",
         "0.0880209",
         "0.0872345",
         "0.0865286",
         "0.0859142",
         "0.0853824",
         "0.084921",
         "0.0845298",
         "0.0842086",
         "0.0839425",
         "0.0837142",
         "0.0835182",
         "0.083347",
         "0.0831897",
         "0.0830331",
         "0.0828702",
         "0.0826989",
         "0.0825149",
         "0.0823089",
         "0.082075",
         "0.0818143",
         "0.0815276",
         "0.0812204",
         "0.0809007",
         "0.0805718",
         "0.0802376",
         "0.0799118",
         "0.0796046",
         "0.0793166",
         "0.0790529",
         "0.0788241",
         "0.0786363",
         "0.0784967",
         "0.0784161",
         "0.0783934",
         "0.0784189",
         "0.0785034",
         "0.0786637",
         "0.0789059",
         "0.0792304",
         "0.0796518",
         "0.0801692",
         "0.0807947",
         "0.0815311",
         "0.0823892",
         "0.0833615",
         "0.0844672",
         "0.0856991",
         "0.087072",
         "0.0885661",
         "0.0901986",
         "0.0919573",
         "0.0938473",
         "0.0958387",
         "0.0979442",
         "0.1001358",
         "0.1024062",
         "0.1047328",
         "0.1070944",
         "0.109465",
         "0.1118127",
         "0.1141303",
         "0.1163805",
         "0.1185538",
         "0.1206198",
         "0.1225805",
         "0.1244226",
         "0.1261587",
         "0.1277926",
         "0.1293492",
         "0.130857",
         "0.1323399",
         "0.1338384",
         "0.1354322",
         "0.1371803",
         "0.139136",
         "0.1413061",
         "0.1437642",
         "0.1465042",
         "0.1496174",
         "0.1530835",
         "0.1569903",
         "0.1612854",
         "0.1660516",
         "0.1712658",
         "0.1770064",
         "0.1832468",
         "0.1899918",
         "0.1972083",
         "0.2048626",
         "0.2128596",
         "0.2211086",
         "0.2295373",
         "0.2380487",
         "0.2464622",
         "0.2546912",
         "0.2625516",
         "0.2700338",
         "0.2769233",
         "0.2832714",
         "0.2889397",
         "0.293964",
         "0.2983128",
         "0.3020322",
         "0.3051606",
         "0.3077571",
         "0.3099154",
         "0.311659",
         "0.313092",
         "0.3142101",
         "0.3151203",
         "0.3158328",
         "0.3163952",
         "0.3168009",
         "0.3170734",
         "0.3172137",
         "0.3172215",
         "0.3170955",
         "0.3168255",
         "0.3164259",
         "0.3158905",
         "0.3152562",
         "0.3145123",
         "0.3136893",
         "0.3127896",
         "0.3118281",
         "0.3108118",
         "0.3097486",
         "0.3086485",
         "0.3075219",
         "0.3063734",
         "0.3052038",
         "0.3039998",
         "0.3027862",
         "0.3015982",
         "0.3004291",
         "0.2992554",
         "0.2980994",
         "0.2969778",
         "0.2958884",
         "0.2948727",
         "0.2938991",
         "0.2929559",
         "0.2920698",
         "0.2912709",
         "0.2905514",
         "0.28991",
         "0.2893628",
         "0.2888964",
         "0.2885186",
         "0.2882176",
         "0.2880062",
         "0.2878691",
         "0.2877944",
         "0.2877604",
         "0.2877401",
         "0.2877415",
         "0.2877827",
         "0.2878603",
         "0.2879423",
         "0.2880139",
         "0.2880715",
         "0.2881182",
         "0.2881518",
         "0.2881575",
         "0.2881101",
         "0.2880065",
         "0.2878371",
         "0.287603",
         "0.2873092",
         "0.2869363",
         "0.2864861",
         "0.2859413",
         "0.2853176",
         "0.2846127",
         "0.2838067",
         "0.2829087",
         "0.2819238",
         "0.2808558",
         "0.2796788",
         "0.2784094",
         "0.2770571",
         "0.2756286",
         "0.274139",
         "0.2725852",
         "0.2709914",
         "0.2693595",
         "0.2677043",
         "0.2660396",
         "0.26437",
         "0.2627003",
         "0.2610296",
         "0.2593769",
         "0.2577505",
         "0.2561335",
         "0.2545325",
         "0.2529715",
         "0.2514412",
         "0.2499363",
         "0.2484654",
         "0.2470241",
         "0.2456096",
         "0.2442265",
         "0.2428854",
         "0.2415843",
         "0.2403226",
         "0.239113",
         "0.23796",
         "0.2368834",
         "0.2358822",
         "0.2349542",
         "0.2341182",
         "0.2333687",
         "0.2327237",
         "0.2321856",
         "0.2317554",
         "0.2314649",
         "0.2313118",
         "0.2313264",
         "0.2315256",
         "0.2319319",
         "0.2326222",
         "0.23357",
         "0.2348018",
         "0.2363308",
         "0.2381255",
         "0.2401762",
         "0.2423999",
         "0.2447357",
         "0.2470776",
         "0.2493272",
         "0.2513697",
         "0.2531572",
         "0.2546356",
         "0.2557628",
         "0.2566065",
         "0.257183",
         "0.2575541",
         "0.2577738",
         "0.2578798",
         "0.2579487",
         "0.258039",
         "0.2581933",
         "0.2584263",
         "0.2587703",
         "0.2592245",
         "0.2597783",
         "0.2604312",
         "0.2611703",
         "0.2619971",
         "0.2628948",
         "0.2638208",
         "0.2647438",
         "0.2656713",
         "0.2665905",
         "0.2674491",
         "0.268231",
         "0.2689257",
         "0.2695243",
         "0.2700253",
         "0.2704297",
         "0.2707839",
         "0.2711139",
         "0.2714421",
         "0.271789",
         "0.2721561",
         "0.2725465",
         "0.2729525",
         "0.2733481",
         "0.2736961",
         "0.2739639",
         "0.2740986",
         "0.2740676",
         "0.2738466",
         "0.2733958",
         "0.272747",
         "0.2719093",
         "0.2708878",
         "0.2697422",
         "0.2685011",
         "0.267195",
         "0.265864",
         "0.2645259",
         "0.2631937",
         "0.261885",
         "0.2606182",
         "0.2594144",
         "0.2582789",
         "0.2572134",
         "0.2562242",
         "0.2553076",
         "0.254441",
         "0.2536165",
         "0.2528237",
         "0.2519829",
         "0.2510527",
         "0.2500466",
         "0.2489418",
         "0.2477425",
         "0.2464702",
         "0.2451299",
         "0.2437414",
         "0.2423372",
         "0.2409717",
         "0.2396796",
         "0.2384865",
         "0.2374375",
         "0.2365321",
         "0.2357803",
         "0.2352262",
         "0.2348713",
         "0.2347231",
         "0.2347977",
         "0.2350726",
         "0.2355508",
         "0.2362755",
         "0.2372629",
         "0.2385362",
         "0.2401514",
         "0.2421062",
         "0.2443983",
         "0.2470656",
         "0.2501467",
         "0.2537364",
         "0.2579634",
         "0.2629156",
         "0.2686855",
         "0.2753868",
         "0.2830583",
         "0.291636",
         "0.3011174",
         "0.3114719",
         "0.3225821",
         "0.3343519",
         "0.3464848",
         "0.3586462",
         "0.3705651",
         "0.3819552",
         "0.3927147",
         "0.4027819",
         "0.4120567",
         "0.4204902",
         "0.4281303",
         "0.4349365",
         "0.4407513",
         "0.4456357",
         "0.449563",
         "0.4524672",
         "0.4544488",
         "0.4555106",
         "0.4556554",
         "0.454949",
         "0.453513",
         "0.4514385",
         "0.4487771",
         "0.445695",
         "0.4422856",
         "0.438635",
         "0.434828",
         "0.4309219",
         "0.4269914",
         "0.4230984",
         "0.4192679",
         "0.4155192",
         "0.4118866",
         "0.4083821",
         "0.4049713",
         "0.4016519",
         "0.3984324",
         "0.3952741",
         "0.3921556",
         "0.3890857",
         "0.3860763",
         "0.3831291",
         "0.3802626",
         "0.3774897",
         "0.3748457",
         "0.3723708",
         "0.3700871",
         "0.368035",
         "0.3662417",
         "0.3647642",
         "0.3636306",
         "0.3628846",
         "0.3625293",
         "0.3625797",
         "0.3630739",
         "0.364046",
         "0.3654481",
         "0.3672658",
         "0.3695373",
         "0.3722929",
         "0.375469",
         "0.3790457",
         "0.3830101",
         "0.3873416",
         "0.3919795",
         "0.3968679",
         "0.4019924",
         "0.4072886",
         "0.4127072",
         "0.4182079",
         "0.4237428",
         "0.4293187",
         "0.4348907",
         "0.4404038",
         "0.4458224",
         "0.4511228",
         "0.4563253",
         "0.4614018",
         "0.4663192",
         "0.4710549",
         "0.4756424",
         "0.4800511",
         "0.4842718",
         "0.4883425",
         "0.4922574",
         "0.495995",
         "0.4995528",
         "0.5029241",
         "0.506121",
         "0.5091653",
         "0.5120092",
         "0.5146531",
         "0.5171133",
         "0.5193716",
         "0.5214291",
         "0.5232989",
         "0.524961",
         "0.5263695",
         "0.5275999",
         "0.5286328",
         "0.5294179",
         "0.529982",
         "0.5303235",
         "0.5304523",
         "0.5303589",
         "0.5300323",
         "0.5294803",
         "0.5287395",
         "0.527823",
         "0.5267074",
         "0.5254103",
         "0.5239588",
         "0.5223534",
         "0.5206127",
         "0.5187695",
         "0.5168161",
         "0.5147582",
         "0.5126304",
         "0.5104227",
         "0.5081328",
         "0.5057761",
         "0.5033961",
         "0.5009916",
         "0.49851",
         "0.4959678",
         "0.4934314",
         "0.4909214",
         "0.4884178",
         "0.4859387",
         "0.4834872",
         "0.4810395",
         "0.478577",
         "0.4761157",
         "0.4736721",
         "0.4712372",
         "0.4688186",
         "0.4664117",
         "0.4640146",
         "0.4616537",
         "0.4593278",
         "0.457021",
         "0.454761",
         "0.4525246",
         "0.4503052",
         "0.4481068",
         "0.4458889",
         "0.4437017",
         "0.4415591",
         "0.4394239",
         "0.4373378",
         "0.435328",
         "0.4333662",
         "0.431446",
         "0.4295826",
         "0.4277813",
         "0.4260383",
         "0.4243876",
         "0.4228232",
         "0.4213528",
         "0.4200486",
         "0.4189156",
         "0.4179618",
         "0.4172152",
         "0.4166997",
         "0.4164679",
         "0.4165608",
         "0.416988",
         "0.4178318",
         "0.4191192",
         "0.4208742",
         "0.4231313",
         "0.4259367",
         "0.4292845",
         "0.4331642",
         "0.4376197",
         "0.442609",
         "0.4480669",
         "0.4538603",
         "0.4599783",
         "0.4663987",
         "0.4729399",
         "0.479501",
         "0.4860323",
         "0.4925008",
         "0.4988945",
         "0.5052185",
         "0.5114582",
         "0.5176278",
         "0.5237095",
         "0.5296136",
         "0.5351181",
         "0.5400041",
         "0.5440854",
         "0.5471454",
         "0.5491105",
         "0.550081",
         "0.55034",
         "0.5501606",
         "0.5498343",
         "0.5496867",
         "0.5499673",
         "0.5507495",
         "0.5520406",
         "0.5537887",
         "0.5558499",
         "0.5580488",
         "0.5602039",
         "0.5621975",
         "0.5638678",
         "0.5650923",
         "0.5659135",
         "0.5663184",
         "0.5663007",
         "0.5658901",
         "0.5651509",
         "0.5641343",
         "0.5628861",
         "0.5614974",
         "0.5600275",
         "0.5585369",
         "0.557092",
         "0.5556946",
         "0.5543168",
         "0.5530154",
         "0.5518018",
         "0.5506449",
         "0.549529",
         "0.5484989",
         "0.5475934",
         "0.5468132",
         "0.5461543",
         "0.5455323",
         "0.5450025",
         "0.5445963",
         "0.5442351",
         "0.5438838",
         "0.5435414",
         "0.543224",
         "0.5429036",
         "0.5425364",
         "0.5421373",
         "0.5417262",
         "0.5412893",
         "0.5409891",
         "0.5409203",
         "0.5410659",
         "0.5415031",
         "0.5423273",
         "0.5435773",
         "0.545215",
         "0.5472685",
         "0.5497563",
         "0.5526367",
         "0.5558649",
         "0.5594107",
         "0.5632478",
         "0.5673233",
         "0.5715922",
         "0.5760162",
         "0.5805737",
         "0.5853338",
         "0.5901977",
         "0.5951149",
         "0.6001573",
         "0.6052889",
         "0.6104695",
         "0.6157637",
         "0.6211311",
         "0.6265509",
         "0.6320022",
         "0.6375056",
         "0.6429773",
         "0.648276",
         "0.6535515",
         "0.6588113",
         "0.6638651",
         "0.6688849",
         "0.6738073",
         "0.6785054",
         "0.6831148",
         "0.6876928",
         "0.6921568",
         "0.6965131",
         "0.7008532",
         "0.7050972",
         "0.7091996",
         "0.713056",
         "0.7167478",
         "0.7202529",
         "0.7234284",
         "0.7261719",
         "0.7285631",
         "0.7306644",
         "0.7323731",
         "0.7336084",
         "0.734403",
         "0.7349217",
         "0.7351545",
         "0.7350946",
         "0.7347357",
         "0.7341652"
        ],
        [
         "3",
         "0.1593696",
         "0.169495",
         "0.1739988",
         "0.1774367",
         "0.1800281",
         "0.1825329",
         "0.1848816",
         "0.1864673",
         "0.1875145",
         "0.1883301",
         "0.1888391",
         "0.1890313",
         "0.1890844",
         "0.1890004",
         "0.1886269",
         "0.1880651",
         "0.1874619",
         "0.1868142",
         "0.186016",
         "0.1849239",
         "0.1837443",
         "0.1826845",
         "0.1815935",
         "0.1803607",
         "0.1792503",
         "0.1783758",
         "0.177459",
         "0.1763679",
         "0.1753344",
         "0.1744896",
         "0.173748",
         "0.1730892",
         "0.172442",
         "0.1716756",
         "0.170765",
         "0.1698849",
         "0.1691002",
         "0.1682557",
         "0.1672271",
         "0.1661177",
         "0.1651237",
         "0.1642045",
         "0.1632078",
         "0.1621952",
         "0.161292",
         "0.1603664",
         "0.1592747",
         "0.1581068",
         "0.1569809",
         "0.1558899",
         "0.1546942",
         "0.1532367",
         "0.1517435",
         "0.1504918",
         "0.1492499",
         "0.1476863",
         "0.146048",
         "0.1446397",
         "0.1431936",
         "0.1415313",
         "0.1398748",
         "0.1382239",
         "0.1364089",
         "0.1346018",
         "0.1330714",
         "0.1317452",
         "0.1303561",
         "0.1288427",
         "0.1274094",
         "0.1261722",
         "0.1249823",
         "0.1236505",
         "0.1222872",
         "0.1211669",
         "0.1202627",
         "0.119278",
         "0.1180624",
         "0.1168821",
         "0.1159666",
         "0.115151",
         "0.1143062",
         "0.1134753",
         "0.1125211",
         "0.111315",
         "0.1101348",
         "0.1093536",
         "0.1087665",
         "0.1079856",
         "0.1069916",
         "0.1060772",
         "0.1053263",
         "0.1045519",
         "0.1036979",
         "0.1028589",
         "0.1020303",
         "0.1011923",
         "0.1003893",
         "0.0995767",
         "0.0987267",
         "0.0978562",
         "0.0969906",
         "0.0961479",
         "0.09534",
         "0.0945333",
         "0.0936399",
         "0.0927139",
         "0.0918112",
         "0.0909472",
         "0.0901311",
         "0.0893571",
         "0.0886054",
         "0.0878728",
         "0.0871691",
         "0.0864706",
         "0.0857673",
         "0.0850785",
         "0.084377",
         "0.0836927",
         "0.0830649",
         "0.0824644",
         "0.0818548",
         "0.0812565",
         "0.0806835",
         "0.0800867",
         "0.0794774",
         "0.0788958",
         "0.0783358",
         "0.0777673",
         "0.0771869",
         "0.0766135",
         "0.0760345",
         "0.075464",
         "0.074916",
         "0.0743623",
         "0.0737913",
         "0.0732186",
         "0.072671",
         "0.0721715",
         "0.0717152",
         "0.0712242",
         "0.0706367",
         "0.0700272",
         "0.0694619",
         "0.068932",
         "0.0684117",
         "0.0678854",
         "0.0673465",
         "0.0668065",
         "0.0662832",
         "0.0657622",
         "0.0652352",
         "0.0646998",
         "0.0641605",
         "0.0636268",
         "0.0631058",
         "0.0625971",
         "0.0620821",
         "0.0615592",
         "0.061026",
         "0.0604868",
         "0.0599564",
         "0.0594419",
         "0.0589371",
         "0.0584349",
         "0.0579394",
         "0.0574396",
         "0.0569444",
         "0.0564772",
         "0.0560281",
         "0.0555758",
         "0.0551134",
         "0.0546436",
         "0.0541624",
         "0.0536866",
         "0.0532227",
         "0.0527491",
         "0.0522567",
         "0.0517485",
         "0.0512386",
         "0.0507272",
         "0.0502106",
         "0.0496909",
         "0.0491732",
         "0.0486545",
         "0.0481276",
         "0.0476019",
         "0.0470824",
         "0.0465632",
         "0.0460372",
         "0.0455011",
         "0.0449565",
         "0.0444068",
         "0.0438577",
         "0.0433054",
         "0.0427574",
         "0.0422208",
         "0.0416943",
         "0.0411841",
         "0.0407044",
         "0.0402474",
         "0.0397971",
         "0.039354",
         "0.0389229",
         "0.0385018",
         "0.0380908",
         "0.0376826",
         "0.0372668",
         "0.0368452",
         "0.0364291",
         "0.0360228",
         "0.0356235",
         "0.0352272",
         "0.0348359",
         "0.0344586",
         "0.0340949",
         "0.0337352",
         "0.0333811",
         "0.0330337",
         "0.0326873",
         "0.0323447",
         "0.0320166",
         "0.0317015",
         "0.0313932",
         "0.0310946",
         "0.0308067",
         "0.0305309",
         "0.0302692",
         "0.0300265",
         "0.0298005",
         "0.0295944",
         "0.0294129",
         "0.029255",
         "0.0291239",
         "0.0290148",
         "0.0289343",
         "0.0288816",
         "0.028855",
         "0.0288425",
         "0.0288513",
         "0.028901",
         "0.0289933",
         "0.0291203",
         "0.0292712",
         "0.0294577",
         "0.0296762",
         "0.0299301",
         "0.0302153",
         "0.0305325",
         "0.0308731",
         "0.031223",
         "0.0315741",
         "0.0319193",
         "0.0322434",
         "0.0325387",
         "0.0328093",
         "0.0330502",
         "0.0332214",
         "0.0333134",
         "0.0333426",
         "0.0333145",
         "0.0332381",
         "0.0331217",
         "0.0329652",
         "0.0327471",
         "0.0325129",
         "0.0323003",
         "0.0321048",
         "0.0319181",
         "0.0317558",
         "0.0316352",
         "0.0315629",
         "0.0315372",
         "0.0315714",
         "0.031665",
         "0.031849",
         "0.0321175",
         "0.0324972",
         "0.0329804",
         "0.0335864",
         "0.0343158",
         "0.035171",
         "0.0361554",
         "0.0372579",
         "0.0384714",
         "0.0397443",
         "0.041048",
         "0.0423407",
         "0.0435714",
         "0.0447101",
         "0.045713",
         "0.0465752",
         "0.0472821",
         "0.0478368",
         "0.0482462",
         "0.0485183",
         "0.0486877",
         "0.0487656",
         "0.0487775",
         "0.0487133",
         "0.0485925",
         "0.0484176",
         "0.0482057",
         "0.0479528",
         "0.0476636",
         "0.0473421",
         "0.0469951",
         "0.0466239",
         "0.046232",
         "0.0458293",
         "0.0454183",
         "0.0449928",
         "0.0445564",
         "0.0441211",
         "0.0436937",
         "0.0432688",
         "0.0428642",
         "0.0424768",
         "0.0420897",
         "0.0416957",
         "0.0413064",
         "0.0409143",
         "0.0405209",
         "0.040151",
         "0.0398104",
         "0.0394883",
         "0.0391764",
         "0.0388754",
         "0.0385656",
         "0.0382363",
         "0.0378922",
         "0.0375606",
         "0.0372392",
         "0.0369223",
         "0.0365984",
         "0.0362734",
         "0.0359585",
         "0.0356719",
         "0.0353981",
         "0.0351188",
         "0.0348363",
         "0.0345576",
         "0.0342885",
         "0.0340348",
         "0.0338053",
         "0.0336035",
         "0.0334266",
         "0.0332513",
         "0.0330813",
         "0.0329241",
         "0.0358111",
         "0.0356842",
         "0.0355742",
         "0.0354788",
         "0.0354028",
         "0.0353621",
         "0.0353478",
         "0.035373",
         "0.0354463",
         "0.0355807",
         "0.0357772",
         "0.0360646",
         "0.0364592",
         "0.0369776",
         "0.0376349",
         "0.0384471",
         "0.0394275",
         "0.0405586",
         "0.0418542",
         "0.0432927",
         "0.0448771",
         "0.0465694",
         "0.0483807",
         "0.0502737",
         "0.0522531",
         "0.0542878",
         "0.056365",
         "0.0584672",
         "0.0605903",
         "0.0627121",
         "0.0648054",
         "0.0668574",
         "0.0688623",
         "0.0708276",
         "0.0727618",
         "0.0746776",
         "0.0765867",
         "0.078494",
         "0.0804026",
         "0.082309",
         "0.0841963",
         "0.0860418",
         "0.0878337",
         "0.0895427",
         "0.0911595",
         "0.0926429",
         "0.093992",
         "0.0951576",
         "0.0961626",
         "0.0969592",
         "0.0975813",
         "0.0979851",
         "0.0982108",
         "0.0982257",
         "0.0980697",
         "0.0977295",
         "0.097243",
         "0.0966005",
         "0.0958373",
         "0.0949685",
         "0.0940321",
         "0.0930439",
         "0.0920232",
         "0.0909862",
         "0.0899546",
         "0.0889456",
         "0.0879687",
         "0.087043",
         "0.0861843",
         "0.0854048",
         "0.0847064",
         "0.0840943",
         "0.0835628",
         "0.0831048",
         "0.0827193",
         "0.0824018",
         "0.0821383",
         "0.0819134",
         "0.0817162",
         "0.0815403",
         "0.0813836",
         "0.0812311",
         "0.0810679",
         "0.0808937",
         "0.0807079",
         "0.0805032",
         "0.080273",
         "0.080014",
         "0.0797284",
         "0.0794252",
         "0.0791042",
         "0.0787687",
         "0.0784327",
         "0.0781075",
         "0.0777968",
         "0.077506",
         "0.0772397",
         "0.0770041",
         "0.0768079",
         "0.0766609",
         "0.0765694",
         "0.0765331",
         "0.0765486",
         "0.0766255",
         "0.0767773",
         "0.0770128",
         "0.0773294",
         "0.0777351",
         "0.078235",
         "0.0788456",
         "0.0795622",
         "0.0803953",
         "0.0813483",
         "0.0824409",
         "0.0836582",
         "0.0850138",
         "0.0864896",
         "0.0881016",
         "0.0898422",
         "0.091724",
         "0.0937112",
         "0.0958116",
         "0.0979978",
         "0.1002626",
         "0.1025861",
         "0.1049473",
         "0.1073161",
         "0.1096644",
         "0.1119859",
         "0.1142332",
         "0.116395",
         "0.1184471",
         "0.1203926",
         "0.1222139",
         "0.1239277",
         "0.1255435",
         "0.12708",
         "0.1285586",
         "0.1300152",
         "0.1314946",
         "0.1330607",
         "0.134771",
         "0.136687",
         "0.1388125",
         "0.1412198",
         "0.1439102",
         "0.1469704",
         "0.1503702",
         "0.1542016",
         "0.158425",
         "0.1631194",
         "0.1682509",
         "0.1739041",
         "0.1800692",
         "0.1867545",
         "0.193915",
         "0.2015156",
         "0.2094764",
         "0.2177029",
         "0.2260981",
         "0.2345718",
         "0.2429662",
         "0.2511778",
         "0.2590091",
         "0.2664651",
         "0.2733242",
         "0.2796237",
         "0.2852291",
         "0.2901853",
         "0.2944665",
         "0.2981276",
         "0.3012028",
         "0.3037413",
         "0.3058373",
         "0.3075165",
         "0.3088889",
         "0.3099643",
         "0.3108434",
         "0.3115223",
         "0.3120507",
         "0.3124298",
         "0.3126799",
         "0.312799",
         "0.3127866",
         "0.3126432",
         "0.3123677",
         "0.3119727",
         "0.3114409",
         "0.3108062",
         "0.310068",
         "0.3092607",
         "0.3083783",
         "0.3074281",
         "0.3064252",
         "0.3053834",
         "0.3043017",
         "0.3031863",
         "0.3020523",
         "0.3009066",
         "0.2997259",
         "0.298523",
         "0.2973363",
         "0.296176",
         "0.2950221",
         "0.2938802",
         "0.2927651",
         "0.2916845",
         "0.2906763",
         "0.2897131",
         "0.2887957",
         "0.2879381",
         "0.2871553",
         "0.286446",
         "0.2858172",
         "0.2852853",
         "0.2848385",
         "0.2844846",
         "0.2842019",
         "0.2840007",
         "0.2838737",
         "0.2838103",
         "0.2837878",
         "0.2837811",
         "0.2837981",
         "0.2838549",
         "0.2839477",
         "0.284043",
         "0.28413",
         "0.2842105",
         "0.2842782",
         "0.2843168",
         "0.2843225",
         "0.2842826",
         "0.2841944",
         "0.2840431",
         "0.2838235",
         "0.2835478",
         "0.283197",
         "0.2827629",
         "0.2822362",
         "0.2816278",
         "0.2809268",
         "0.280143",
         "0.2792827",
         "0.278307",
         "0.2772338",
         "0.2760701",
         "0.274827",
         "0.2734984",
         "0.272083",
         "0.2706005",
         "0.2690596",
         "0.2674853",
         "0.2658707",
         "0.2642304",
         "0.2625889",
         "0.2609469",
         "0.2592989",
         "0.2576502",
         "0.2560185",
         "0.2544084",
         "0.2528189",
         "0.25125",
         "0.2497053",
         "0.2481852",
         "0.2466972",
         "0.2452503",
         "0.2438354",
         "0.2424364",
         "0.241061",
         "0.2397328",
         "0.2384509",
         "0.237205",
         "0.236007",
         "0.2348725",
         "0.2338207",
         "0.2328329",
         "0.2319031",
         "0.2310649",
         "0.2303196",
         "0.2296796",
         "0.2291496",
         "0.22873",
         "0.2284366",
         "0.2282738",
         "0.2282928",
         "0.2285154",
         "0.2289463",
         "0.2296365",
         "0.2305798",
         "0.2318336",
         "0.2333841",
         "0.2351777",
         "0.2372257",
         "0.2394461",
         "0.24178",
         "0.2441397",
         "0.246409",
         "0.2484536",
         "0.2502364",
         "0.2517121",
         "0.2528539",
         "0.2537211",
         "0.2543069",
         "0.2546758",
         "0.2548982",
         "0.2550219",
         "0.2551131",
         "0.2552138",
         "0.2553655",
         "0.2555977",
         "0.2559449",
         "0.2564012",
         "0.2569634",
         "0.2576277",
         "0.2583649",
         "0.2591808",
         "0.2600701",
         "0.2610003",
         "0.2619442",
         "0.2628676",
         "0.2637455",
         "0.2645781",
         "0.2653677",
         "0.2660757",
         "0.2666643",
         "0.2671406",
         "0.26753",
         "0.2678865",
         "0.2682267",
         "0.2685573",
         "0.268889",
         "0.2692274",
         "0.2695945",
         "0.2699939",
         "0.2703976",
         "0.2707563",
         "0.2710245",
         "0.2711413",
         "0.2710949",
         "0.270883",
         "0.2704599",
         "0.2698306",
         "0.2689931",
         "0.2679603",
         "0.2668157",
         "0.265599",
         "0.2643252",
         "0.2630146",
         "0.2616782",
         "0.2603436",
         "0.2590447",
         "0.2578035",
         "0.2566289",
         "0.2555145",
         "0.254453",
         "0.2534539",
         "0.2525244",
         "0.251663",
         "0.2508622",
         "0.2500875",
         "0.2492509",
         "0.248322",
         "0.2473148",
         "0.2462259",
         "0.245061",
         "0.2438115",
         "0.2424682",
         "0.2410695",
         "0.2396605",
         "0.2383111",
         "0.237045",
         "0.2358633",
         "0.2348019",
         "0.233878",
         "0.2331095",
         "0.232546",
         "0.2321876",
         "0.232028",
         "0.2320724",
         "0.2323109",
         "0.2327539",
         "0.233441",
         "0.2343844",
         "0.2356085",
         "0.2371619",
         "0.239033",
         "0.2412169",
         "0.2437648",
         "0.2467318",
         "0.2502014",
         "0.2542943",
         "0.2590879",
         "0.2646581",
         "0.2711357",
         "0.2785904",
         "0.2869534",
         "0.2962086",
         "0.3063115",
         "0.3171283",
         "0.328557",
         "0.3403412",
         "0.3521654",
         "0.3637368",
         "0.3747829",
         "0.3852074",
         "0.394922",
         "0.4038462",
         "0.4119562",
         "0.4193013",
         "0.4258583",
         "0.431453",
         "0.4361188",
         "0.4398404",
         "0.4425592",
         "0.4443917",
         "0.445365",
         "0.4454738",
         "0.4447472",
         "0.443298",
         "0.4412263",
         "0.4385791",
         "0.4355402",
         "0.4322193",
         "0.428684",
         "0.4250023",
         "0.4212164",
         "0.4173878",
         "0.4135972",
         "0.4098881",
         "0.4062921",
         "0.4028396",
         "0.3995001",
         "0.3962311",
         "0.3930378",
         "0.3899222",
         "0.3868769",
         "0.3839018",
         "0.3809907",
         "0.3781479",
         "0.3753504",
         "0.3725903",
         "0.3699121",
         "0.3673868",
         "0.3650435",
         "0.3628995",
         "0.3610083",
         "0.3593846",
         "0.3580403",
         "0.3570023",
         "0.356376",
         "0.3561694",
         "0.3563787",
         "0.3570381",
         "0.3581621",
         "0.3597019",
         "0.3616585",
         "0.36405",
         "0.3669044",
         "0.3702135",
         "0.3739598",
         "0.3780751",
         "0.382517",
         "0.3872457",
         "0.3922023",
         "0.3973748",
         "0.4027261",
         "0.4082047",
         "0.4137891",
         "0.4194214",
         "0.4250203",
         "0.4305732",
         "0.436092",
         "0.4415344",
         "0.4468475",
         "0.4520602",
         "0.4571576",
         "0.4620953",
         "0.4668135",
         "0.4713436",
         "0.4757143",
         "0.4799322",
         "0.4839806",
         "0.487869",
         "0.4915917",
         "0.4951409",
         "0.4985161",
         "0.5016649",
         "0.5046141",
         "0.5074093",
         "0.5100586",
         "0.5125228",
         "0.5147923",
         "0.5168453",
         "0.5186564",
         "0.5202647",
         "0.5216641",
         "0.5228494",
         "0.5238489",
         "0.5246803",
         "0.5253011",
         "0.5256494",
         "0.5257466",
         "0.5256098",
         "0.5252588",
         "0.524715",
         "0.52399",
         "0.523095",
         "0.5220321",
         "0.5207841",
         "0.519336",
         "0.5177072",
         "0.5159445",
         "0.5141064",
         "0.5121876",
         "0.5101825",
         "0.5081135",
         "0.5059676",
         "0.5037216",
         "0.5013769",
         "0.4989912",
         "0.4965733",
         "0.4941265",
         "0.4916712",
         "0.4892193",
         "0.4867912",
         "0.4843509",
         "0.48187",
         "0.4793861",
         "0.4769286",
         "0.4745004",
         "0.4721111",
         "0.469743",
         "0.4673757",
         "0.4650209",
         "0.4626594",
         "0.4602946",
         "0.4579519",
         "0.4556306",
         "0.4533469",
         "0.4511326",
         "0.4489479",
         "0.4467675",
         "0.4446058",
         "0.4424302",
         "0.4402529",
         "0.4381073",
         "0.4359838",
         "0.4339084",
         "0.4319102",
         "0.4299765",
         "0.428103",
         "0.4262767",
         "0.4244785",
         "0.4227153",
         "0.4210365",
         "0.4194783",
         "0.4180335",
         "0.4167559",
         "0.4156917",
         "0.4148023",
         "0.414109",
         "0.4136293",
         "0.4133745",
         "0.4134168",
         "0.4138126",
         "0.4146672",
         "0.4159726",
         "0.417738",
         "0.4200208",
         "0.4228256",
         "0.426149",
         "0.4299948",
         "0.4343727",
         "0.4392967",
         "0.4447251",
         "0.4505085",
         "0.4565949",
         "0.4629731",
         "0.4695038",
         "0.4760431",
         "0.4825115",
         "0.4888788",
         "0.4951808",
         "0.5013977",
         "0.5075357",
         "0.513706",
         "0.5198199",
         "0.525698",
         "0.5311507",
         "0.5359847",
         "0.5399855",
         "0.5429785",
         "0.5449623",
         "0.5459672",
         "0.5462283",
         "0.5460593",
         "0.5457511",
         "0.5456358",
         "0.5459315",
         "0.5466827",
         "0.5478826",
         "0.5495223",
         "0.5515021",
         "0.5536532",
         "0.555774",
         "0.5577254",
         "0.5594335",
         "0.560691",
         "0.5615063",
         "0.5618916",
         "0.5618219",
         "0.5613962",
         "0.5606248",
         "0.5595616",
         "0.5583484",
         "0.5570332",
         "0.5556493",
         "0.5542269",
         "0.5527479",
         "0.551295",
         "0.5498918",
         "0.5485653",
         "0.5473652",
         "0.546236",
         "0.5451609",
         "0.5441882",
         "0.5432887",
         "0.5424942",
         "0.5418267",
         "0.5411932",
         "0.5406621",
         "0.5401828",
         "0.5397173",
         "0.5393521",
         "0.5390568",
         "0.538772",
         "0.538473",
         "0.5381042",
         "0.5376519",
         "0.5372047",
         "0.5367529",
         "0.5364159",
         "0.5363035",
         "0.5364136",
         "0.5368341",
         "0.537639",
         "0.5388604",
         "0.5404739",
         "0.5424922",
         "0.5449141",
         "0.5477",
         "0.5508376",
         "0.554328",
         "0.5580878",
         "0.5620385",
         "0.5662323",
         "0.5706694",
         "0.5752142",
         "0.5798497",
         "0.5846444",
         "0.5895363",
         "0.5944231",
         "0.599369",
         "0.6044101",
         "0.6096143",
         "0.6149101",
         "0.6202561",
         "0.6256776",
         "0.6311191",
         "0.6365218",
         "0.6417609",
         "0.6469033",
         "0.6520268",
         "0.6570109",
         "0.6618667",
         "0.6666125",
         "0.6712624",
         "0.675868",
         "0.6803781",
         "0.6847096",
         "0.6889982",
         "0.6932268",
         "0.6973107",
         "0.7011841",
         "0.7049654",
         "0.7085312",
         "0.711861",
         "0.7149975",
         "0.7177067",
         "0.7200908",
         "0.7221937",
         "0.7238111",
         "0.7250378",
         "0.7258653",
         "0.726412",
         "0.7265301",
         "0.7263889",
         "0.7260109",
         "0.7254159"
        ],
        [
         "4",
         "0.1488142",
         "0.1579515",
         "0.161528",
         "0.1642037",
         "0.1663444",
         "0.168472",
         "0.170332",
         "0.1714942",
         "0.1722736",
         "0.1727945",
         "0.1729701",
         "0.1729614",
         "0.1727341",
         "0.1720145",
         "0.1708859",
         "0.1699216",
         "0.1691993",
         "0.1683694",
         "0.1673402",
         "0.16618",
         "0.1649436",
         "0.1636533",
         "0.1622804",
         "0.1608005",
         "0.1593852",
         "0.1582536",
         "0.1572567",
         "0.1561056",
         "0.1549693",
         "0.154116",
         "0.1533854",
         "0.1526625",
         "0.1519922",
         "0.1512967",
         "0.1504616",
         "0.1496059",
         "0.1488023",
         "0.148007",
         "0.1471781",
         "0.1463059",
         "0.1454535",
         "0.1446707",
         "0.1438079",
         "0.1427887",
         "0.1417781",
         "0.1408779",
         "0.1400127",
         "0.1391103",
         "0.1381338",
         "0.1370972",
         "0.1360344",
         "0.1348374",
         "0.1335367",
         "0.1323806",
         "0.1313663",
         "0.1302025",
         "0.1288462",
         "0.1275038",
         "0.1262314",
         "0.1250805",
         "0.1240287",
         "0.1228322",
         "0.1214591",
         "0.1200973",
         "0.1188536",
         "0.1176933",
         "0.1165425",
         "0.1153484",
         "0.1141562",
         "0.1130342",
         "0.1119487",
         "0.1108648",
         "0.1098191",
         "0.1089004",
         "0.1081216",
         "0.1074269",
         "0.1067062",
         "0.1058899",
         "0.1049574",
         "0.1040775",
         "0.103379",
         "0.1026766",
         "0.1018443",
         "0.1010613",
         "0.1004071",
         "0.0997696",
         "0.0991648",
         "0.0985936",
         "0.097935",
         "0.0972153",
         "0.096585",
         "0.0960373",
         "0.0954711",
         "0.0948476",
         "0.0941972",
         "0.0935851",
         "0.0929908",
         "0.092345",
         "0.0917318",
         "0.0911917",
         "0.0906401",
         "0.0900454",
         "0.0894475",
         "0.0888496",
         "0.0882035",
         "0.0875289",
         "0.0868573",
         "0.0862338",
         "0.085653",
         "0.0850748",
         "0.0845247",
         "0.0840265",
         "0.0835382",
         "0.0830112",
         "0.0824713",
         "0.0819782",
         "0.0815286",
         "0.0810841",
         "0.0806243",
         "0.0801592",
         "0.0797017",
         "0.0792562",
         "0.0788253",
         "0.0784003",
         "0.0779847",
         "0.0775671",
         "0.0771226",
         "0.0766662",
         "0.0762315",
         "0.0758122",
         "0.0753815",
         "0.0749526",
         "0.0745329",
         "0.0741035",
         "0.0736738",
         "0.0732594",
         "0.0728518",
         "0.0724628",
         "0.0721041",
         "0.0717166",
         "0.0712441",
         "0.0707604",
         "0.0703277",
         "0.0699091",
         "0.0694641",
         "0.0690075",
         "0.0685565",
         "0.0681113",
         "0.0676768",
         "0.0672402",
         "0.0667865",
         "0.0663152",
         "0.0658484",
         "0.0653932",
         "0.0649398",
         "0.0644902",
         "0.0640373",
         "0.0635782",
         "0.0631071",
         "0.0626259",
         "0.0621471",
         "0.0616811",
         "0.0612258",
         "0.0607675",
         "0.0603095",
         "0.0598492",
         "0.0593955",
         "0.0589659",
         "0.0585533",
         "0.0581363",
         "0.0577006",
         "0.0572541",
         "0.0568037",
         "0.0563645",
         "0.0559313",
         "0.0554809",
         "0.0550131",
         "0.0545318",
         "0.0540445",
         "0.0535501",
         "0.0530493",
         "0.0525412",
         "0.0520277",
         "0.0515159",
         "0.0510092",
         "0.050506",
         "0.0499973",
         "0.0494804",
         "0.0489585",
         "0.048429",
         "0.0478888",
         "0.0473404",
         "0.0467931",
         "0.0462472",
         "0.045708",
         "0.0451764",
         "0.0446519",
         "0.0441451",
         "0.0436692",
         "0.0432148",
         "0.0427658",
         "0.0423229",
         "0.0418875",
         "0.0414486",
         "0.0410056",
         "0.0405779",
         "0.0401713",
         "0.0397705",
         "0.0393625",
         "0.0389492",
         "0.0385379",
         "0.0381353",
         "0.0377457",
         "0.0373637",
         "0.036984",
         "0.036613",
         "0.036255",
         "0.0359005",
         "0.0355462",
         "0.0351966",
         "0.0348561",
         "0.0345264",
         "0.0342067",
         "0.0338988",
         "0.0336029",
         "0.0333193",
         "0.0330473",
         "0.0327946",
         "0.0325609",
         "0.0323449",
         "0.0321498",
         "0.0319796",
         "0.0318409",
         "0.0317263",
         "0.0316342",
         "0.0315639",
         "0.0315226",
         "0.0314988",
         "0.0314943",
         "0.0315338",
         "0.0316198",
         "0.031735",
         "0.0318694",
         "0.0320449",
         "0.032254",
         "0.0324952",
         "0.0327667",
         "0.0330694",
         "0.0333908",
         "0.0337191",
         "0.0340497",
         "0.0343756",
         "0.034682",
         "0.0349629",
         "0.0352198",
         "0.0354447",
         "0.035601",
         "0.0356826",
         "0.0357033",
         "0.0356661",
         "0.0355794",
         "0.0354501",
         "0.0352806",
         "0.0350534",
         "0.0348117",
         "0.0345896",
         "0.0343831",
         "0.0341854",
         "0.0340113",
         "0.0338772",
         "0.033789",
         "0.0337448",
         "0.0337571",
         "0.0338286",
         "0.033992",
         "0.0342397",
         "0.0345972",
         "0.0350595",
         "0.0356498",
         "0.0363685",
         "0.0372182",
         "0.0382033",
         "0.0393088",
         "0.0405242",
         "0.0418023",
         "0.043118",
         "0.0444232",
         "0.0456626",
         "0.0468052",
         "0.0478037",
         "0.0486549",
         "0.0493458",
         "0.0498814",
         "0.0502739",
         "0.0505327",
         "0.0506847",
         "0.0507403",
         "0.0507357",
         "0.0506639",
         "0.0505368",
         "0.0503553",
         "0.0501355",
         "0.0498707",
         "0.0495698",
         "0.0492404",
         "0.0488837",
         "0.0485014",
         "0.0481029",
         "0.0476936",
         "0.0472689",
         "0.0468319",
         "0.0463961",
         "0.0459628",
         "0.0455283",
         "0.0450953",
         "0.0446903",
         "0.0443044",
         "0.0439159",
         "0.0435206",
         "0.0431303",
         "0.0427368",
         "0.0423475",
         "0.0419879",
         "0.0416535",
         "0.0413293",
         "0.041014",
         "0.040713",
         "0.0404041",
         "0.0400716",
         "0.0397225",
         "0.0393893",
         "0.0390653",
         "0.0387392",
         "0.0384081",
         "0.0380824",
         "0.0377656",
         "0.0374726",
         "0.0371912",
         "0.0369009",
         "0.0366023",
         "0.0363118",
         "0.0360396",
         "0.0357821",
         "0.0355403",
         "0.0353208",
         "0.0351282",
         "0.034944",
         "0.0347644",
         "0.0345862",
         "0.0374078",
         "0.0372659",
         "0.0371441",
         "0.0370384",
         "0.0369486",
         "0.0368937",
         "0.0368679",
         "0.0368784",
         "0.0369306",
         "0.0370436",
         "0.0372224",
         "0.03749",
         "0.0378593",
         "0.0383517",
         "0.0389829",
         "0.039765",
         "0.0407124",
         "0.0418114",
         "0.0430777",
         "0.0444891",
         "0.0460458",
         "0.0477085",
         "0.0494916",
         "0.0513566",
         "0.0533011",
         "0.0552984",
         "0.0573466",
         "0.0594251",
         "0.06152",
         "0.0636079",
         "0.0656725",
         "0.0677055",
         "0.0696933",
         "0.071643",
         "0.0735731",
         "0.075493",
         "0.0774043",
         "0.0793151",
         "0.0812337",
         "0.0831509",
         "0.0850458",
         "0.0869022",
         "0.0887142",
         "0.0904491",
         "0.0920878",
         "0.0935913",
         "0.0949657",
         "0.0961565",
         "0.0971807",
         "0.0979939",
         "0.098633",
         "0.099051",
         "0.0992921",
         "0.0993292",
         "0.0991979",
         "0.098875",
         "0.098395",
         "0.0977552",
         "0.0970018",
         "0.0961449",
         "0.0952098",
         "0.0942129",
         "0.093184",
         "0.0921403",
         "0.0910976",
         "0.0900741",
         "0.0890852",
         "0.0881467",
         "0.0872718",
         "0.0864774",
         "0.0857631",
         "0.0851289",
         "0.0845776",
         "0.0841092",
         "0.0837157",
         "0.0833844",
         "0.0831018",
         "0.0828595",
         "0.0826559",
         "0.0824793",
         "0.0823151",
         "0.0821527",
         "0.0819864",
         "0.0818102",
         "0.0816167",
         "0.0813999",
         "0.0811557",
         "0.0808823",
         "0.0805797",
         "0.0802569",
         "0.0799217",
         "0.0795777",
         "0.0792289",
         "0.078884",
         "0.0785517",
         "0.0782387",
         "0.0779523",
         "0.0776973",
         "0.0774762",
         "0.0773005",
         "0.0771836",
         "0.0771246",
         "0.0771169",
         "0.0771703",
         "0.0772951",
         "0.0774984",
         "0.0777858",
         "0.0781732",
         "0.0786579",
         "0.0792458",
         "0.0799351",
         "0.0807446",
         "0.0816753",
         "0.0827401",
         "0.0839264",
         "0.0852579",
         "0.0867189",
         "0.0883211",
         "0.0900508",
         "0.0919237",
         "0.0939105",
         "0.0960215",
         "0.0982242",
         "0.1005078",
         "0.1028463",
         "0.1052207",
         "0.1076075",
         "0.1099682",
         "0.1122866",
         "0.1145268",
         "0.1166877",
         "0.1187346",
         "0.1206688",
         "0.1224781",
         "0.1241752",
         "0.1257695",
         "0.1272847",
         "0.1287395",
         "0.1301668",
         "0.1316111",
         "0.1331346",
         "0.1347958",
         "0.1366571",
         "0.1387219",
         "0.1410603",
         "0.1436747",
         "0.1466524",
         "0.1499644",
         "0.1537017",
         "0.1578261",
         "0.1624249",
         "0.1674737",
         "0.173059",
         "0.1791696",
         "0.1858264",
         "0.1929861",
         "0.2006106",
         "0.2086262",
         "0.2169307",
         "0.2254104",
         "0.2339756",
         "0.2424669",
         "0.2507665",
         "0.2586672",
         "0.2661772",
         "0.2730644",
         "0.2793683",
         "0.2849616",
         "0.28989",
         "0.2941141",
         "0.2976934",
         "0.3006809",
         "0.3031348",
         "0.3051458",
         "0.3067423",
         "0.3080379",
         "0.309042",
         "0.3098488",
         "0.3104538",
         "0.3109155",
         "0.3112422",
         "0.3114401",
         "0.3115015",
         "0.311439",
         "0.3112547",
         "0.310935",
         "0.3104931",
         "0.3099231",
         "0.3092647",
         "0.3085099",
         "0.3076785",
         "0.3067731",
         "0.3058134",
         "0.304804",
         "0.3037501",
         "0.3026594",
         "0.3015431",
         "0.3004051",
         "0.2992485",
         "0.2980662",
         "0.2968723",
         "0.2956872",
         "0.2945249",
         "0.2933736",
         "0.2922296",
         "0.2911085",
         "0.2900275",
         "0.2890247",
         "0.2880684",
         "0.2871525",
         "0.2862912",
         "0.2855071",
         "0.2847992",
         "0.2841768",
         "0.2836587",
         "0.2832237",
         "0.2828804",
         "0.2826164",
         "0.2824314",
         "0.2823118",
         "0.2822587",
         "0.2822453",
         "0.2822409",
         "0.2822686",
         "0.2823418",
         "0.2824399",
         "0.2825377",
         "0.2826344",
         "0.2827217",
         "0.2827893",
         "0.2828319",
         "0.2828494",
         "0.2828177",
         "0.282728",
         "0.2825798",
         "0.2823693",
         "0.2820872",
         "0.2817194",
         "0.2812788",
         "0.2807479",
         "0.2801275",
         "0.2794198",
         "0.2786371",
         "0.2777703",
         "0.2767853",
         "0.2757084",
         "0.2745353",
         "0.2732792",
         "0.2719457",
         "0.2705281",
         "0.269044",
         "0.2675054",
         "0.2659285",
         "0.2643107",
         "0.2626757",
         "0.2610332",
         "0.2593757",
         "0.2577196",
         "0.2560821",
         "0.2544564",
         "0.2528366",
         "0.2512413",
         "0.2496769",
         "0.2481362",
         "0.2466227",
         "0.2451435",
         "0.2436935",
         "0.242266",
         "0.2408619",
         "0.2394863",
         "0.2381504",
         "0.2368581",
         "0.2356117",
         "0.2344184",
         "0.2332768",
         "0.2322017",
         "0.2311883",
         "0.2302435",
         "0.2294014",
         "0.2286507",
         "0.2280026",
         "0.2274638",
         "0.2270327",
         "0.2267311",
         "0.2265676",
         "0.2265864",
         "0.2268058",
         "0.2272431",
         "0.2279585",
         "0.2289243",
         "0.2301839",
         "0.2317471",
         "0.2335714",
         "0.2356547",
         "0.2379161",
         "0.2402909",
         "0.2426706",
         "0.2449551",
         "0.2470272",
         "0.2488389",
         "0.2503436",
         "0.251506",
         "0.2523815",
         "0.2529793",
         "0.2533631",
         "0.2535856",
         "0.2537011",
         "0.2537893",
         "0.2538874",
         "0.2540424",
         "0.2542878",
         "0.2546442",
         "0.2550952",
         "0.2556438",
         "0.2563051",
         "0.2570522",
         "0.2578706",
         "0.2587477",
         "0.2596595",
         "0.2605813",
         "0.2615017",
         "0.2623973",
         "0.2632263",
         "0.2639837",
         "0.2646541",
         "0.2652283",
         "0.265716",
         "0.2661164",
         "0.2664635",
         "0.2667853",
         "0.2671",
         "0.2674312",
         "0.2677902",
         "0.2681692",
         "0.268555",
         "0.2689341",
         "0.2692709",
         "0.2695336",
         "0.2696711",
         "0.269639",
         "0.2694164",
         "0.2689695",
         "0.2683271",
         "0.2674976",
         "0.2664747",
         "0.2653252",
         "0.264098",
         "0.2628109",
         "0.2614843",
         "0.2601415",
         "0.2588117",
         "0.2575179",
         "0.2562659",
         "0.2550594",
         "0.2539141",
         "0.2528437",
         "0.2518495",
         "0.2509249",
         "0.2500423",
         "0.249194",
         "0.2483817",
         "0.247535",
         "0.2466039",
         "0.2455965",
         "0.2444937",
         "0.2432984",
         "0.2420218",
         "0.2406711",
         "0.2392725",
         "0.2378516",
         "0.2364651",
         "0.2351578",
         "0.2339468",
         "0.2328651",
         "0.2319204",
         "0.231129",
         "0.2305263",
         "0.2301065",
         "0.2298835",
         "0.229881",
         "0.2300723",
         "0.2304582",
         "0.2310778",
         "0.2319361",
         "0.233054",
         "0.2344833",
         "0.2362217",
         "0.2382721",
         "0.2406683",
         "0.2434479",
         "0.2466979",
         "0.2505434",
         "0.2550887",
         "0.2604153",
         "0.266624",
         "0.2737641",
         "0.2817744",
         "0.2906533",
         "0.3003587",
         "0.310759",
         "0.3217631",
         "0.3331044",
         "0.3444678",
         "0.3555636",
         "0.3661086",
         "0.3760443",
         "0.3853145",
         "0.3938349",
         "0.4015833",
         "0.408581",
         "0.4147706",
         "0.4200277",
         "0.4244326",
         "0.4279424",
         "0.4304794",
         "0.4321613",
         "0.4330045",
         "0.4330058",
         "0.4322132",
         "0.4307421",
         "0.4286879",
         "0.4260898",
         "0.4231085",
         "0.4198473",
         "0.4163719",
         "0.4127633",
         "0.4090953",
         "0.4054234",
         "0.4017921",
         "0.3982465",
         "0.3947998",
         "0.3914597",
         "0.3882453",
         "0.385131",
         "0.382103",
         "0.3791732",
         "0.3763095",
         "0.3734884",
         "0.3707246",
         "0.3680195",
         "0.3653715",
         "0.3628057",
         "0.3603316",
         "0.3579964",
         "0.3558411",
         "0.3538767",
         "0.3521613",
         "0.3507188",
         "0.349598",
         "0.3488349",
         "0.3484642",
         "0.3485016",
         "0.3489691",
         "0.3498827",
         "0.3512677",
         "0.3530872",
         "0.3553456",
         "0.3580657",
         "0.3612337",
         "0.3648045",
         "0.3687842",
         "0.3731542",
         "0.377864",
         "0.382854",
         "0.3880801",
         "0.3935118",
         "0.3990873",
         "0.4047703",
         "0.4105187",
         "0.4162734",
         "0.4220232",
         "0.4277539",
         "0.4334109",
         "0.4389587",
         "0.4443916",
         "0.4496891",
         "0.4548404",
         "0.4598557",
         "0.4646824",
         "0.4693236",
         "0.4737855",
         "0.4780952",
         "0.4822254",
         "0.4861373",
         "0.4898827",
         "0.4934718",
         "0.4968772",
         "0.5000898",
         "0.5031294",
         "0.5059866",
         "0.5086479",
         "0.5111024",
         "0.5133615",
         "0.5154154",
         "0.5172654",
         "0.518917",
         "0.5203138",
         "0.5214869",
         "0.5224717",
         "0.5232587",
         "0.5238011",
         "0.5240824",
         "0.5241613",
         "0.5240303",
         "0.5236769",
         "0.5231016",
         "0.5223054",
         "0.5213367",
         "0.5201931",
         "0.518847",
         "0.5173301",
         "0.5156829",
         "0.5139136",
         "0.5120274",
         "0.510029",
         "0.5079254",
         "0.5057443",
         "0.5035107",
         "0.5012152",
         "0.4988483",
         "0.4964165",
         "0.4939498",
         "0.491456",
         "0.4889445",
         "0.4864433",
         "0.4839219",
         "0.4814157",
         "0.4789499",
         "0.4764847",
         "0.4740328",
         "0.4715867",
         "0.4691624",
         "0.4667431",
         "0.4643098",
         "0.461892",
         "0.4595133",
         "0.4571811",
         "0.4548538",
         "0.452547",
         "0.4502793",
         "0.4480333",
         "0.4458168",
         "0.4436183",
         "0.4414218",
         "0.4392445",
         "0.4371082",
         "0.4350008",
         "0.4329184",
         "0.4308736",
         "0.4288639",
         "0.4269106",
         "0.4250187",
         "0.4231635",
         "0.4213789",
         "0.4196652",
         "0.418023",
         "0.4164826",
         "0.4150817",
         "0.4138232",
         "0.412723",
         "0.411804",
         "0.4110758",
         "0.4105928",
         "0.4103973",
         "0.4105246",
         "0.4109837",
         "0.4118318",
         "0.4131097",
         "0.4148581",
         "0.4171306",
         "0.4199441",
         "0.4232964",
         "0.4272039",
         "0.4316597",
         "0.4366437",
         "0.4421354",
         "0.447951",
         "0.4540509",
         "0.4604594",
         "0.4670198",
         "0.4735886",
         "0.4801116",
         "0.4865814",
         "0.4929484",
         "0.4992178",
         "0.5054442",
         "0.5116215",
         "0.517689",
         "0.5235514",
         "0.5290426",
         "0.5339456",
         "0.5379885",
         "0.541045",
         "0.5430881",
         "0.5441497",
         "0.5444453",
         "0.5442418",
         "0.5439548",
         "0.5438505",
         "0.544104",
         "0.5448248",
         "0.5460429",
         "0.5477144",
         "0.5496676",
         "0.5517563",
         "0.5538166",
         "0.5557129",
         "0.5573407",
         "0.5585611",
         "0.559388",
         "0.5597885",
         "0.5597279",
         "0.5592781",
         "0.558503",
         "0.5574509",
         "0.556186",
         "0.5548031",
         "0.5533216",
         "0.5517901",
         "0.5502948",
         "0.548847",
         "0.5474463",
         "0.5461028",
         "0.5448228",
         "0.5435992",
         "0.542446",
         "0.5413939",
         "0.5404391",
         "0.539619",
         "0.5388864",
         "0.538237",
         "0.5377114",
         "0.537255",
         "0.5368143",
         "0.5363955",
         "0.536032",
         "0.5356609",
         "0.5352899",
         "0.5348753",
         "0.534422",
         "0.5339632",
         "0.5335126",
         "0.5331522",
         "0.5329574",
         "0.5330001",
         "0.5333665",
         "0.5341195",
         "0.5352318",
         "0.5368067",
         "0.5388309",
         "0.5412138",
         "0.5439925",
         "0.5471435",
         "0.550622",
         "0.5543458",
         "0.5583003",
         "0.5625196",
         "0.5669408",
         "0.5714711",
         "0.5761241",
         "0.5809176",
         "0.5858648",
         "0.5908701",
         "0.5959535",
         "0.6011223",
         "0.6063364",
         "0.6116816",
         "0.6171032",
         "0.6225291",
         "0.6279883",
         "0.6334376",
         "0.6387809",
         "0.6439683",
         "0.6490734",
         "0.6541265",
         "0.6590702",
         "0.6638321",
         "0.6684898",
         "0.6730481",
         "0.677545",
         "0.6819237",
         "0.6862393",
         "0.6904829",
         "0.6946422",
         "0.6986223",
         "0.7024",
         "0.706111",
         "0.7094905",
         "0.7125464",
         "0.7153707",
         "0.7177637",
         "0.7197475",
         "0.7213702",
         "0.7226614",
         "0.7235231",
         "0.7240612",
         "0.7243109",
         "0.7241143",
         "0.7236262",
         "0.7230331"
        ]
       ],
       "shape": {
        "columns": 1049,
        "rows": 5
       }
      },
      "text/html": [
       "<div>\n",
       "<style scoped>\n",
       "    .dataframe tbody tr th:only-of-type {\n",
       "        vertical-align: middle;\n",
       "    }\n",
       "\n",
       "    .dataframe tbody tr th {\n",
       "        vertical-align: top;\n",
       "    }\n",
       "\n",
       "    .dataframe thead th {\n",
       "        text-align: right;\n",
       "    }\n",
       "</style>\n",
       "<table border=\"1\" class=\"dataframe\">\n",
       "  <thead>\n",
       "    <tr style=\"text-align: right;\">\n",
       "      <th></th>\n",
       "      <th>V1</th>\n",
       "      <th>V3</th>\n",
       "      <th>V4</th>\n",
       "      <th>V5</th>\n",
       "      <th>V6</th>\n",
       "      <th>V7</th>\n",
       "      <th>V8</th>\n",
       "      <th>V9</th>\n",
       "      <th>V10</th>\n",
       "      <th>V11</th>\n",
       "      <th>...</th>\n",
       "      <th>V1041</th>\n",
       "      <th>V1042</th>\n",
       "      <th>V1043</th>\n",
       "      <th>V1044</th>\n",
       "      <th>V1045</th>\n",
       "      <th>V1046</th>\n",
       "      <th>V1047</th>\n",
       "      <th>V1048</th>\n",
       "      <th>V1049</th>\n",
       "      <th>V1050</th>\n",
       "    </tr>\n",
       "  </thead>\n",
       "  <tbody>\n",
       "    <tr>\n",
       "      <th>0</th>\n",
       "      <td>0.163048</td>\n",
       "      <td>0.173601</td>\n",
       "      <td>0.178055</td>\n",
       "      <td>0.181673</td>\n",
       "      <td>0.184674</td>\n",
       "      <td>0.187279</td>\n",
       "      <td>0.189404</td>\n",
       "      <td>0.190971</td>\n",
       "      <td>0.192225</td>\n",
       "      <td>0.193210</td>\n",
       "      <td>...</td>\n",
       "      <td>0.728563</td>\n",
       "      <td>0.730664</td>\n",
       "      <td>0.732373</td>\n",
       "      <td>0.733608</td>\n",
       "      <td>0.734403</td>\n",
       "      <td>0.734922</td>\n",
       "      <td>0.735155</td>\n",
       "      <td>0.735095</td>\n",
       "      <td>0.734736</td>\n",
       "      <td>0.734165</td>\n",
       "    </tr>\n",
       "    <tr>\n",
       "      <th>1</th>\n",
       "      <td>0.159370</td>\n",
       "      <td>0.169495</td>\n",
       "      <td>0.173999</td>\n",
       "      <td>0.177437</td>\n",
       "      <td>0.180028</td>\n",
       "      <td>0.182533</td>\n",
       "      <td>0.184882</td>\n",
       "      <td>0.186467</td>\n",
       "      <td>0.187515</td>\n",
       "      <td>0.188330</td>\n",
       "      <td>...</td>\n",
       "      <td>0.720091</td>\n",
       "      <td>0.722194</td>\n",
       "      <td>0.723811</td>\n",
       "      <td>0.725038</td>\n",
       "      <td>0.725865</td>\n",
       "      <td>0.726412</td>\n",
       "      <td>0.726530</td>\n",
       "      <td>0.726389</td>\n",
       "      <td>0.726011</td>\n",
       "      <td>0.725416</td>\n",
       "    </tr>\n",
       "    <tr>\n",
       "      <th>2</th>\n",
       "      <td>0.163048</td>\n",
       "      <td>0.173601</td>\n",
       "      <td>0.178055</td>\n",
       "      <td>0.181673</td>\n",
       "      <td>0.184674</td>\n",
       "      <td>0.187279</td>\n",
       "      <td>0.189404</td>\n",
       "      <td>0.190971</td>\n",
       "      <td>0.192225</td>\n",
       "      <td>0.193210</td>\n",
       "      <td>...</td>\n",
       "      <td>0.728563</td>\n",
       "      <td>0.730664</td>\n",
       "      <td>0.732373</td>\n",
       "      <td>0.733608</td>\n",
       "      <td>0.734403</td>\n",
       "      <td>0.734922</td>\n",
       "      <td>0.735155</td>\n",
       "      <td>0.735095</td>\n",
       "      <td>0.734736</td>\n",
       "      <td>0.734165</td>\n",
       "    </tr>\n",
       "    <tr>\n",
       "      <th>3</th>\n",
       "      <td>0.159370</td>\n",
       "      <td>0.169495</td>\n",
       "      <td>0.173999</td>\n",
       "      <td>0.177437</td>\n",
       "      <td>0.180028</td>\n",
       "      <td>0.182533</td>\n",
       "      <td>0.184882</td>\n",
       "      <td>0.186467</td>\n",
       "      <td>0.187515</td>\n",
       "      <td>0.188330</td>\n",
       "      <td>...</td>\n",
       "      <td>0.720091</td>\n",
       "      <td>0.722194</td>\n",
       "      <td>0.723811</td>\n",
       "      <td>0.725038</td>\n",
       "      <td>0.725865</td>\n",
       "      <td>0.726412</td>\n",
       "      <td>0.726530</td>\n",
       "      <td>0.726389</td>\n",
       "      <td>0.726011</td>\n",
       "      <td>0.725416</td>\n",
       "    </tr>\n",
       "    <tr>\n",
       "      <th>4</th>\n",
       "      <td>0.148814</td>\n",
       "      <td>0.157951</td>\n",
       "      <td>0.161528</td>\n",
       "      <td>0.164204</td>\n",
       "      <td>0.166344</td>\n",
       "      <td>0.168472</td>\n",
       "      <td>0.170332</td>\n",
       "      <td>0.171494</td>\n",
       "      <td>0.172274</td>\n",
       "      <td>0.172794</td>\n",
       "      <td>...</td>\n",
       "      <td>0.717764</td>\n",
       "      <td>0.719747</td>\n",
       "      <td>0.721370</td>\n",
       "      <td>0.722661</td>\n",
       "      <td>0.723523</td>\n",
       "      <td>0.724061</td>\n",
       "      <td>0.724311</td>\n",
       "      <td>0.724114</td>\n",
       "      <td>0.723626</td>\n",
       "      <td>0.723033</td>\n",
       "    </tr>\n",
       "  </tbody>\n",
       "</table>\n",
       "<p>5 rows × 1049 columns</p>\n",
       "</div>"
      ],
      "text/plain": [
       "         V1        V3        V4        V5        V6        V7        V8  \\\n",
       "0  0.163048  0.173601  0.178055  0.181673  0.184674  0.187279  0.189404   \n",
       "1  0.159370  0.169495  0.173999  0.177437  0.180028  0.182533  0.184882   \n",
       "2  0.163048  0.173601  0.178055  0.181673  0.184674  0.187279  0.189404   \n",
       "3  0.159370  0.169495  0.173999  0.177437  0.180028  0.182533  0.184882   \n",
       "4  0.148814  0.157951  0.161528  0.164204  0.166344  0.168472  0.170332   \n",
       "\n",
       "         V9       V10       V11  ...     V1041     V1042     V1043     V1044  \\\n",
       "0  0.190971  0.192225  0.193210  ...  0.728563  0.730664  0.732373  0.733608   \n",
       "1  0.186467  0.187515  0.188330  ...  0.720091  0.722194  0.723811  0.725038   \n",
       "2  0.190971  0.192225  0.193210  ...  0.728563  0.730664  0.732373  0.733608   \n",
       "3  0.186467  0.187515  0.188330  ...  0.720091  0.722194  0.723811  0.725038   \n",
       "4  0.171494  0.172274  0.172794  ...  0.717764  0.719747  0.721370  0.722661   \n",
       "\n",
       "      V1045     V1046     V1047     V1048     V1049     V1050  \n",
       "0  0.734403  0.734922  0.735155  0.735095  0.734736  0.734165  \n",
       "1  0.725865  0.726412  0.726530  0.726389  0.726011  0.725416  \n",
       "2  0.734403  0.734922  0.735155  0.735095  0.734736  0.734165  \n",
       "3  0.725865  0.726412  0.726530  0.726389  0.726011  0.725416  \n",
       "4  0.723523  0.724061  0.724311  0.724114  0.723626  0.723033  \n",
       "\n",
       "[5 rows x 1049 columns]"
      ]
     },
     "metadata": {},
     "output_type": "display_data"
    }
   ],
   "source": [
    "mode = 'Regression'\n",
    "data_source = 'YamProtein'\n",
    "\n",
    "Xcal = load_csv_auto_sep(mode=mode, data_source=data_source, type_data='Xcal')\n",
    "Xval = load_csv_auto_sep(mode=mode, data_source=data_source, type_data='Xval')\n",
    "Ycal = load_csv_auto_sep(mode=mode, data_source=data_source, type_data='Ycal')\n",
    "Yval = load_csv_auto_sep(mode=mode, data_source=data_source, type_data='Yval')\n",
    "\n",
    "print(\"Number of spectra for calibration: \", len(Ycal))\n",
    "print(\"Number of spectra for test: \", len(Yval))\n",
    "display(Xcal.head(5))"
   ]
  },
  {
   "cell_type": "code",
   "execution_count": 97,
   "id": "58b44bd7",
   "metadata": {},
   "outputs": [],
   "source": [
    "rd_seed = 42\n",
    "rd_seed = np.random.seed(rd_seed)\n",
    "\n",
    "x = pd.concat([Xcal, Xval], axis=0).values\n",
    "y = pd.concat([Ycal, Yval], axis=0).values"
   ]
  },
  {
   "cell_type": "markdown",
   "id": "18b09a8b",
   "metadata": {},
   "source": [
    "### Selection of the preprocessing methods"
   ]
  },
  {
   "cell_type": "code",
   "execution_count": 98,
   "id": "c6f4edb0",
   "metadata": {},
   "outputs": [],
   "source": [
    "# Dictionnary of preprocessing methods that we want to apply\n",
    "\n",
    "preprocessings = {\n",
    "    'Savitzky-Golay (0)': pp.SavitzkyGolay(),\n",
    "    'Savitzky-Golay (1)': pp.SavitzkyGolay(deriv=1),\n",
    "    'Savitzky-Golay (2)': pp.SavitzkyGolay(deriv=2),\n",
    "    'Savitzky-Golay (3)': pp.SavitzkyGolay(deriv=3),\n",
    "    'Savitzky-Golay (4)': pp.SavitzkyGolay(deriv=4),\n",
    "    'Savitzky-Golay (5)': pp.SavitzkyGolay(deriv=5),\n",
    "    'Savitzky-Golay (6)': pp.SavitzkyGolay(deriv=6),\n",
    "    'Gaussian (1, 2)': pp.Gaussian(order = 1, sigma = 2),\n",
    "    'Gaussian (2, 1)': pp.Gaussian(order = 2, sigma = 1),\n",
    "    'Gaussian (3, 1)': pp.Gaussian(order = 3, sigma = 1),\n",
    "    'Gaussian (4, 1)': pp.Gaussian(order = 4, sigma = 1),\n",
    "    'Gaussian (5, 1)': pp.Gaussian(order = 5, sigma = 1)\n",
    "}"
   ]
  },
  {
   "cell_type": "markdown",
   "id": "2cde2a0f",
   "metadata": {},
   "source": [
    "## Remove the preprocessing methods in an optimal way"
   ]
  },
  {
   "cell_type": "markdown",
   "id": "e09c6f8e",
   "metadata": {},
   "source": [
    "We want to remove preprocessing methods so that it keeps the maximum possible number of them, still respecting the comparison obtained with the dissimilarity function.  \n",
    "\n",
    "It actually is a classic problem in graph theory: the **minimum vertex cover problem** on an undirected graph, specifically where each pair represents an edge.\n",
    "\n",
    "- Each preprocessing method is a **node**,\n",
    "- Each couple is an **edge** between two nodes,\n",
    "- We aim to find a minimum vertex cover, i.e. a set of nodes that every edge is incident to at least one node in the set.\n",
    "\n",
    "For a bipartite graph, there are efficient algorithms to solve this optimally, for instance in the *networkx* package. It gives an **approximation of the optimal solution** but is still very close from optimal or optimal. To get the exact solution, one needs using linear programming, which might be computationnally heavy."
   ]
  },
  {
   "cell_type": "markdown",
   "id": "f6a9cc57",
   "metadata": {},
   "source": [
    "### Compare stacking models for diverse dissimilarity functions"
   ]
  },
  {
   "cell_type": "code",
   "execution_count": 99,
   "id": "e1d8c826",
   "metadata": {},
   "outputs": [
    {
     "name": "stdout",
     "output_type": "stream",
     "text": [
      "List of preprocessing methods to remove for dissim_KS: {'Gaussian (2, 1)', 'Savitzky-Golay (3)', 'Savitzky-Golay (5)', 'Savitzky-Golay (1)', 'Savitzky-Golay (2)', 'Savitzky-Golay (4)'}\n",
      "------------------------------------------------------------------------------------------------------------------------------------------------------------------------------------\n",
      "List of preprocessing methods to remove for dissim_meta_att_var: {'Savitzky-Golay (5)', 'Savitzky-Golay (4)', 'Savitzky-Golay (0)'}\n",
      "------------------------------------------------------------------------------------------------------------------------\n"
     ]
    }
   ],
   "source": [
    "dissim = importlib.import_module('dissimilarity_functions')\n",
    "importlib.reload(dissim)\n",
    "\n",
    "# dictionary of the dissimilarity functions to use\n",
    "dict_dissim = {\n",
    "    \"KS test\": dissim.dissim_KS,\n",
    "    \"Meta attributes\": dissim.dissim_meta_att_var,\n",
    "}\n",
    "\n",
    "# dictionary of the time taken to compute the dissimilarity functions\n",
    "dict_times = {'All preprocessings': 0}\n",
    "\n",
    "# dictionary of preprocessing lists, in function of the dissimilarity function\n",
    "dict_preprocessings = {'All preprocessings':[(k,v) for k,v in preprocessings.items()]}\n",
    "\n",
    "for name, dissim_func in dict_dissim.items():\n",
    "    print(f\"Computing {name} dissimilarity...\", end = '\\r')\n",
    "\n",
    "    normalize_dissim = True if name == \"Meta attributes\" else False\n",
    "\n",
    "    # Determine the preprocessing methods to remove based on the dissimilarity function\n",
    "    start_time = time.time()\n",
    "    list_to_remove = dissim.preprocessings_to_remove_approx(preprocessings, x, distance_fn=dissim_func, normalize_dissim=normalize_dissim, threshold=(\"proportion\", 0.1), verbose=True)\n",
    "    elapsed_time = time.time() - start_time\n",
    "\n",
    "    copy_dict = preprocessings.copy()\n",
    "    # Remove it from the preprocessing methods\n",
    "    for method in list_to_remove:\n",
    "        del copy_dict[method]\n",
    "    \n",
    "    # Add the new list of preprocessing methods to the dictionary\n",
    "    dict_preprocessings[name] = [(k,v) for k,v in copy_dict.items()]\n",
    "    dict_times[name] = elapsed_time\n",
    "\n",
    "del copy_dict"
   ]
  },
  {
   "cell_type": "markdown",
   "id": "a488605d",
   "metadata": {},
   "source": [
    "### Creation of a pipeline for a stacking model"
   ]
  },
  {
   "cell_type": "code",
   "execution_count": 100,
   "id": "a5c26dfe",
   "metadata": {},
   "outputs": [
    {
     "name": "stderr",
     "output_type": "stream",
     "text": [
      "[Parallel(n_jobs=2)]: Using backend LokyBackend with 2 concurrent workers.\n",
      "[Parallel(n_jobs=2)]: Done   4 out of   4 | elapsed: 12.5min finished\n",
      "[Parallel(n_jobs=2)]: Using backend LokyBackend with 2 concurrent workers.\n",
      "[Parallel(n_jobs=2)]: Done   4 out of   4 | elapsed:  7.0min finished\n",
      "[Parallel(n_jobs=2)]: Using backend LokyBackend with 2 concurrent workers.\n"
     ]
    },
    {
     "name": "stdout",
     "output_type": "stream",
     "text": [
      "{'All preprocessings': {'$R^2$': np.float64(0.5598571435948906), 'MAE': np.float64(0.48725048553456324), 'Cross validation time': 752.061071395874, 'Compute dissimilarity time': 0}, 'KS test': {'$R^2$': np.float64(0.5581258751118897), 'MAE': np.float64(0.5010875992998481), 'Cross validation time': 419.376802444458, 'Compute dissimilarity time': 47.41138505935669}, 'Meta attributes': {'$R^2$': np.float64(0.5457381967349273), 'MAE': np.float64(0.4838918195441947), 'Cross validation time': 673.9272153377533, 'Compute dissimilarity time': 400.1437199115753}}\n"
     ]
    },
    {
     "name": "stderr",
     "output_type": "stream",
     "text": [
      "[Parallel(n_jobs=2)]: Done   4 out of   4 | elapsed: 11.2min finished\n"
     ]
    }
   ],
   "source": [
    "# Create a dictionary to store the scores for each similarity function\n",
    "dict_scores = {} \n",
    "\n",
    "for name, preprocessings in dict_preprocessings.items():\n",
    "\n",
    "    # create a pipeline that applies min-max scaling followed by preprocessing\n",
    "    union_pipeline = make_pipeline(MinMaxScaler(), FeatureUnion(preprocessings))\n",
    "\n",
    "    # this function creates a pipeline that applies the union_pipeline followed by the regressor\n",
    "    def get_estimator(regressor):\n",
    "        pipeline = make_pipeline(union_pipeline, regressor)\n",
    "        return TransformedTargetRegressor(regressor = pipeline, transformer = MinMaxScaler())\n",
    "\n",
    "    # create a list of estimators to use in the stacking regressor, each one is a pipeline of the union_pipeline and a regressor\n",
    "    estimators = [\n",
    "        (\"Linear Regression\", get_estimator( LinearRegression() ) ),\n",
    "        (\"PLS\", get_estimator( PLSRegression(n_components=10) ) ),\n",
    "        (\"PLS_small\", get_estimator( PLSRegression(n_components=3) ) ),\n",
    "        (\"XGBoost\", get_estimator( XGBRegressor() ) )\n",
    "    ]\n",
    "\n",
    "    # create the stacking regressor, using the list of estimators and a final regressor\n",
    "    stacking_regressor = StackingRegressor(estimators=estimators, final_estimator=RandomForestRegressor(random_state=rd_seed))\n",
    "\n",
    "    # using cross_validate to get scores and elapsed time\n",
    "    start_time = time.time()\n",
    "    score = cross_validate(stacking_regressor, x, y, cv=4, scoring=[\"r2\", \"neg_mean_absolute_error\"], n_jobs=2, verbose=2)\n",
    "    elapsed_time = time.time() - start_time\n",
    "\n",
    "    # store the scores in the dictionary\n",
    "    dict_scores[name] = {\n",
    "        f\"$R^2$\": score[\"test_r2\"].mean(),\n",
    "        \"MAE\": -score[\"test_neg_mean_absolute_error\"].mean(),\n",
    "        \"Cross validation time\": elapsed_time,\n",
    "        \"Compute dissimilarity time\": dict_times[name],\n",
    "    }\n",
    "\n",
    "print(dict_scores)"
   ]
  },
  {
   "cell_type": "markdown",
   "id": "d91cac82",
   "metadata": {},
   "source": [
    "### Plot and save the results in barplots"
   ]
  },
  {
   "cell_type": "code",
   "execution_count": 101,
   "id": "e9d58f2e",
   "metadata": {},
   "outputs": [
    {
     "data": {
      "image/png": "[encoded data removed]",
      "text/plain": [
       "<Figure size 2400x600 with 4 Axes>"
      ]
     },
     "metadata": {},
     "output_type": "display_data"
    }
   ],
   "source": [
    "import matplotlib as mpl\n",
    "\n",
    "# Create a new folder to save the figures\n",
    "if not os.path.exists(\"Figures\"):\n",
    "    os.makedirs(\"Figures\")\n",
    "# Save the figure in the new folder\n",
    "fig_path = os.path.join(\"Figures\", \"%s_comp_dissimilarity.png\" % data_source)\n",
    "\n",
    "\n",
    "# change the values from np.float64 to float\n",
    "dict_scores = {key: {k: float(v) if k != 'time' else v for k, v in dico.items() } for key, dico in dict_scores.items()}\n",
    "\n",
    "# Ravenclaw-style color palette (cool blues & greys)\n",
    "colors = ['#4B9CD3', '#7FB3D5', '#A9CCE3', '#D6EAF8']\n",
    "\n",
    "# Font setup\n",
    "mpl.rcParams['font.family'] = 'serif'\n",
    "mpl.rcParams['font.size'] = 12\n",
    "\n",
    "criteria = list(dict_scores['All preprocessings'].keys())\n",
    "\n",
    "\n",
    "method_A = list(dict_scores['All preprocessings'].values())\n",
    "method_B = list(dict_scores['KS test'].values())\n",
    "method_C = list(dict_scores['Meta attributes'].values())\n",
    "\n",
    "# Bar width parameter\n",
    "bar_width = 0.25\n",
    "\n",
    "# Create a figure with three plots (1 line, 3 columns)\n",
    "fig, axes = plt.subplots(1, len(criteria), figsize=(6 * len(criteria), 6))\n",
    "\n",
    "for i, ax in enumerate(axes):\n",
    "    values = [method_A[i], method_B[i], method_C[i]]\n",
    "    n = len(values)\n",
    "    x = np.arange(n)\n",
    "    ax.set_ylim(0, 1.1 * max(values))  # Set the y-axis limits for all plots\n",
    "    ax.bar(x, values, color = colors, width=bar_width, label=criteria[i])\n",
    "    ax.set_xticks(x)\n",
    "    ax.set_xticklabels(dict_scores.keys())\n",
    "    ax.set_title(criteria[i] + \" Comparison\")\n",
    "    ax.set_ylabel(criteria[i] + \" values\")\n",
    "\n",
    "# Ajustement de la disposition\n",
    "plt.tight_layout()\n",
    "fig.savefig(fig_path, dpi=300, bbox_inches='tight')\n",
    "plt.show()\n"
   ]
  },
  {
   "cell_type": "code",
   "execution_count": null,
   "id": "2e6e0ff6",
   "metadata": {},
   "outputs": [],
   "source": []
  }
 ],
 "metadata": {
  "kernelspec": {
   "display_name": ".venv",
   "language": "python",
   "name": "python3"
  },
  "language_info": {
   "codemirror_mode": {
    "name": "ipython",
    "version": 3
   },
   "file_extension": ".py",
   "mimetype": "text/x-python",
   "name": "python",
   "nbconvert_exporter": "python",
   "pygments_lexer": "ipython3",
   "version": "3.11.9"
  }
 },
 "nbformat": 4,
 "nbformat_minor": 5
}
