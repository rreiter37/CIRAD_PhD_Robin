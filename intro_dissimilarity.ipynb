{
 "cells": [
  {
   "cell_type": "markdown",
   "id": "e71dba53",
   "metadata": {},
   "source": [
    "## Functions of dissimilarity"
   ]
  },
  {
   "cell_type": "markdown",
   "id": "e60ca7b5",
   "metadata": {},
   "source": [
    "### Importation of the libraries"
   ]
  },
  {
   "cell_type": "code",
   "execution_count": null,
   "id": "55f7e346",
   "metadata": {},
   "outputs": [],
   "source": [
    "import time\n",
    "import os\n",
    "import math\n",
    "import csv\n",
    "import importlib\n",
    "from pathlib import Path\n",
    "import numpy as np\n",
    "import pinard as pn\n",
    "import matplotlib.pyplot as plt\n",
    "import seaborn as sns\n",
    "import pandas as pd\n",
    "\n",
    "from pinard import utils\n",
    "from pinard import preprocessing as pp\n",
    "\n",
    "from sklearn.cross_decomposition import PLSRegression\n",
    "from sklearn.ensemble import StackingRegressor\n",
    "from sklearn.pipeline import Pipeline, FeatureUnion, make_pipeline\n",
    "from sklearn.preprocessing import MinMaxScaler\n",
    "from sklearn.compose import TransformedTargetRegressor\n",
    "from sklearn.decomposition import PCA\n",
    "from sklearn.ensemble import RandomForestRegressor\n",
    "from sklearn.model_selection import cross_validate, cross_val_predict\n",
    "from sklearn.linear_model import RidgeCV, LinearRegression\n",
    "from xgboost import XGBRegressor\n",
    "from itertools import combinations\n",
    "import dissimilarity_functions as dissim\n",
    "\n",
    "\n",
    "# import warnings filter\n",
    "from warnings import simplefilter\n",
    "# ignore all future warnings\n",
    "simplefilter(action='ignore', category=FutureWarning)\n",
    "simplefilter(action='ignore', category=UserWarning)"
   ]
  },
  {
   "cell_type": "markdown",
   "id": "314c7ad7",
   "metadata": {},
   "source": [
    "### Importation of the datasets"
   ]
  },
  {
   "cell_type": "code",
   "execution_count": 3,
   "id": "1038183d",
   "metadata": {},
   "outputs": [],
   "source": [
    "# Function to load a CSV file with automatic separator detection\n",
    "\n",
    "def load_csv_auto_sep(mode, data_source, type_data, verbose=True):\n",
    " \n",
    "     # Regression: 'BeerOriginalExtract' or 'Digest_0.8' or 'YamProtein' //\n",
    "    # Classification: 'CoffeeSpecies' or 'Malaria2024' or 'mDigest_custom3' or 'WhiskyConcentration' or 'YamMould'\n",
    "\n",
    "    ## Importation of the datasets with the adapted path\n",
    "    file_name = Path(\"Data/%s/%s\"% (mode,data_source))\n",
    "    full_path = str(file_name.resolve()).replace(\"\\\\\", \"/\")\n",
    "    path = full_path + \"/%s.csv\" % type_data\n",
    "\n",
    "    with open(path, 'r', newline='', encoding='utf-8') as f:\n",
    "        # Read a small portion of the file to detect the separator\n",
    "        excerpt = f.read(1024)\n",
    "        f.seek(0)  # return to the beginning of the file\n",
    "\n",
    "        # Detection of the dialect\n",
    "        dialect = csv.Sniffer().sniff(excerpt)\n",
    "        sep = dialect.delimiter\n",
    "\n",
    "        if verbose: print(\"Detected separator : %s\" % sep)\n",
    "        \n",
    "        # Load the file with pandas\n",
    "        df = pd.read_csv(f, delimiter=sep)\n",
    "\n",
    "        if len(df.columns) > 1:\n",
    "            # Drop the useless column if it exists\n",
    "            df = df.drop(columns=[df.columns[1]])\n",
    "        \n",
    "        return df"
   ]
  },
  {
   "cell_type": "code",
   "execution_count": 4,
   "id": "9e896e51",
   "metadata": {},
   "outputs": [
    {
     "name": "stdout",
     "output_type": "stream",
     "text": [
      "Detected separator : ;\n",
      "Detected separator : ;\n",
      "Detected separator : \n",
      "Detected separator : \n",
      "Number of spectra for calibration:  40\n",
      "Number of spectra for test:  20\n"
     ]
    },
    {
     "data": {
      "application/vnd.microsoft.datawrangler.viewer.v0+json": {
       "columns": [
        {
         "name": "index",
         "rawType": "int64",
         "type": "integer"
        },
        {
         "name": "V1",
         "rawType": "float64",
         "type": "float"
        },
        {
         "name": "V3",
         "rawType": "float64",
         "type": "float"
        },
        {
         "name": "V4",
         "rawType": "float64",
         "type": "float"
        },
        {
         "name": "V5",
         "rawType": "float64",
         "type": "float"
        },
        {
         "name": "V6",
         "rawType": "float64",
         "type": "float"
        },
        {
         "name": "V7",
         "rawType": "float64",
         "type": "float"
        },
        {
         "name": "V8",
         "rawType": "float64",
         "type": "float"
        },
        {
         "name": "V9",
         "rawType": "float64",
         "type": "float"
        },
        {
         "name": "V10",
         "rawType": "float64",
         "type": "float"
        },
        {
         "name": "V11",
         "rawType": "float64",
         "type": "float"
        },
        {
         "name": "V12",
         "rawType": "float64",
         "type": "float"
        },
        {
         "name": "V13",
         "rawType": "float64",
         "type": "float"
        },
        {
         "name": "V14",
         "rawType": "float64",
         "type": "float"
        },
        {
         "name": "V15",
         "rawType": "float64",
         "type": "float"
        },
        {
         "name": "V16",
         "rawType": "float64",
         "type": "float"
        },
        {
         "name": "V17",
         "rawType": "float64",
         "type": "float"
        },
        {
         "name": "V18",
         "rawType": "float64",
         "type": "float"
        },
        {
         "name": "V19",
         "rawType": "float64",
         "type": "float"
        },
        {
         "name": "V20",
         "rawType": "float64",
         "type": "float"
        },
        {
         "name": "V21",
         "rawType": "float64",
         "type": "float"
        },
        {
         "name": "V22",
         "rawType": "float64",
         "type": "float"
        },
        {
         "name": "V23",
         "rawType": "float64",
         "type": "float"
        },
        {
         "name": "V24",
         "rawType": "float64",
         "type": "float"
        },
        {
         "name": "V25",
         "rawType": "float64",
         "type": "float"
        },
        {
         "name": "V26",
         "rawType": "float64",
         "type": "float"
        },
        {
         "name": "V27",
         "rawType": "float64",
         "type": "float"
        },
        {
         "name": "V28",
         "rawType": "float64",
         "type": "float"
        },
        {
         "name": "V29",
         "rawType": "float64",
         "type": "float"
        },
        {
         "name": "V30",
         "rawType": "float64",
         "type": "float"
        },
        {
         "name": "V31",
         "rawType": "float64",
         "type": "float"
        },
        {
         "name": "V32",
         "rawType": "float64",
         "type": "float"
        },
        {
         "name": "V33",
         "rawType": "float64",
         "type": "float"
        },
        {
         "name": "V34",
         "rawType": "float64",
         "type": "float"
        },
        {
         "name": "V35",
         "rawType": "float64",
         "type": "float"
        },
        {
         "name": "V36",
         "rawType": "float64",
         "type": "float"
        },
        {
         "name": "V37",
         "rawType": "float64",
         "type": "float"
        },
        {
         "name": "V38",
         "rawType": "float64",
         "type": "float"
        },
        {
         "name": "V39",
         "rawType": "float64",
         "type": "float"
        },
        {
         "name": "V40",
         "rawType": "float64",
         "type": "float"
        },
        {
         "name": "V41",
         "rawType": "float64",
         "type": "float"
        },
        {
         "name": "V42",
         "rawType": "float64",
         "type": "float"
        },
        {
         "name": "V43",
         "rawType": "float64",
         "type": "float"
        },
        {
         "name": "V44",
         "rawType": "float64",
         "type": "float"
        },
        {
         "name": "V45",
         "rawType": "float64",
         "type": "float"
        },
        {
         "name": "V46",
         "rawType": "float64",
         "type": "float"
        },
        {
         "name": "V47",
         "rawType": "float64",
         "type": "float"
        },
        {
         "name": "V48",
         "rawType": "float64",
         "type": "float"
        },
        {
         "name": "V49",
         "rawType": "float64",
         "type": "float"
        },
        {
         "name": "V50",
         "rawType": "float64",
         "type": "float"
        },
        {
         "name": "V51",
         "rawType": "float64",
         "type": "float"
        },
        {
         "name": "V52",
         "rawType": "float64",
         "type": "float"
        },
        {
         "name": "V53",
         "rawType": "float64",
         "type": "float"
        },
        {
         "name": "V54",
         "rawType": "float64",
         "type": "float"
        },
        {
         "name": "V55",
         "rawType": "float64",
         "type": "float"
        },
        {
         "name": "V56",
         "rawType": "float64",
         "type": "float"
        },
        {
         "name": "V57",
         "rawType": "float64",
         "type": "float"
        },
        {
         "name": "V58",
         "rawType": "float64",
         "type": "float"
        },
        {
         "name": "V59",
         "rawType": "float64",
         "type": "float"
        },
        {
         "name": "V60",
         "rawType": "float64",
         "type": "float"
        },
        {
         "name": "V61",
         "rawType": "float64",
         "type": "float"
        },
        {
         "name": "V62",
         "rawType": "float64",
         "type": "float"
        },
        {
         "name": "V63",
         "rawType": "float64",
         "type": "float"
        },
        {
         "name": "V64",
         "rawType": "float64",
         "type": "float"
        },
        {
         "name": "V65",
         "rawType": "float64",
         "type": "float"
        },
        {
         "name": "V66",
         "rawType": "float64",
         "type": "float"
        },
        {
         "name": "V67",
         "rawType": "float64",
         "type": "float"
        },
        {
         "name": "V68",
         "rawType": "float64",
         "type": "float"
        },
        {
         "name": "V69",
         "rawType": "float64",
         "type": "float"
        },
        {
         "name": "V70",
         "rawType": "float64",
         "type": "float"
        },
        {
         "name": "V71",
         "rawType": "float64",
         "type": "float"
        },
        {
         "name": "V72",
         "rawType": "float64",
         "type": "float"
        },
        {
         "name": "V73",
         "rawType": "float64",
         "type": "float"
        },
        {
         "name": "V74",
         "rawType": "float64",
         "type": "float"
        },
        {
         "name": "V75",
         "rawType": "float64",
         "type": "float"
        },
        {
         "name": "V76",
         "rawType": "float64",
         "type": "float"
        },
        {
         "name": "V77",
         "rawType": "float64",
         "type": "float"
        },
        {
         "name": "V78",
         "rawType": "float64",
         "type": "float"
        },
        {
         "name": "V79",
         "rawType": "float64",
         "type": "float"
        },
        {
         "name": "V80",
         "rawType": "float64",
         "type": "float"
        },
        {
         "name": "V81",
         "rawType": "float64",
         "type": "float"
        },
        {
         "name": "V82",
         "rawType": "float64",
         "type": "float"
        },
        {
         "name": "V83",
         "rawType": "float64",
         "type": "float"
        },
        {
         "name": "V84",
         "rawType": "float64",
         "type": "float"
        },
        {
         "name": "V85",
         "rawType": "float64",
         "type": "float"
        },
        {
         "name": "V86",
         "rawType": "float64",
         "type": "float"
        },
        {
         "name": "V87",
         "rawType": "float64",
         "type": "float"
        },
        {
         "name": "V88",
         "rawType": "float64",
         "type": "float"
        },
        {
         "name": "V89",
         "rawType": "float64",
         "type": "float"
        },
        {
         "name": "V90",
         "rawType": "float64",
         "type": "float"
        },
        {
         "name": "V91",
         "rawType": "float64",
         "type": "float"
        },
        {
         "name": "V92",
         "rawType": "float64",
         "type": "float"
        },
        {
         "name": "V93",
         "rawType": "float64",
         "type": "float"
        },
        {
         "name": "V94",
         "rawType": "float64",
         "type": "float"
        },
        {
         "name": "V95",
         "rawType": "float64",
         "type": "float"
        },
        {
         "name": "V96",
         "rawType": "float64",
         "type": "float"
        },
        {
         "name": "V97",
         "rawType": "float64",
         "type": "float"
        },
        {
         "name": "V98",
         "rawType": "float64",
         "type": "float"
        },
        {
         "name": "V99",
         "rawType": "float64",
         "type": "float"
        },
        {
         "name": "V100",
         "rawType": "float64",
         "type": "float"
        },
        {
         "name": "V101",
         "rawType": "float64",
         "type": "float"
        },
        {
         "name": "V102",
         "rawType": "float64",
         "type": "float"
        },
        {
         "name": "V103",
         "rawType": "float64",
         "type": "float"
        },
        {
         "name": "V104",
         "rawType": "float64",
         "type": "float"
        },
        {
         "name": "V105",
         "rawType": "float64",
         "type": "float"
        },
        {
         "name": "V106",
         "rawType": "float64",
         "type": "float"
        },
        {
         "name": "V107",
         "rawType": "float64",
         "type": "float"
        },
        {
         "name": "V108",
         "rawType": "float64",
         "type": "float"
        },
        {
         "name": "V109",
         "rawType": "float64",
         "type": "float"
        },
        {
         "name": "V110",
         "rawType": "float64",
         "type": "float"
        },
        {
         "name": "V111",
         "rawType": "float64",
         "type": "float"
        },
        {
         "name": "V112",
         "rawType": "float64",
         "type": "float"
        },
        {
         "name": "V113",
         "rawType": "float64",
         "type": "float"
        },
        {
         "name": "V114",
         "rawType": "float64",
         "type": "float"
        },
        {
         "name": "V115",
         "rawType": "float64",
         "type": "float"
        },
        {
         "name": "V116",
         "rawType": "float64",
         "type": "float"
        },
        {
         "name": "V117",
         "rawType": "float64",
         "type": "float"
        },
        {
         "name": "V118",
         "rawType": "float64",
         "type": "float"
        },
        {
         "name": "V119",
         "rawType": "float64",
         "type": "float"
        },
        {
         "name": "V120",
         "rawType": "float64",
         "type": "float"
        },
        {
         "name": "V121",
         "rawType": "float64",
         "type": "float"
        },
        {
         "name": "V122",
         "rawType": "float64",
         "type": "float"
        },
        {
         "name": "V123",
         "rawType": "float64",
         "type": "float"
        },
        {
         "name": "V124",
         "rawType": "float64",
         "type": "float"
        },
        {
         "name": "V125",
         "rawType": "float64",
         "type": "float"
        },
        {
         "name": "V126",
         "rawType": "float64",
         "type": "float"
        },
        {
         "name": "V127",
         "rawType": "float64",
         "type": "float"
        },
        {
         "name": "V128",
         "rawType": "float64",
         "type": "float"
        },
        {
         "name": "V129",
         "rawType": "float64",
         "type": "float"
        },
        {
         "name": "V130",
         "rawType": "float64",
         "type": "float"
        },
        {
         "name": "V131",
         "rawType": "float64",
         "type": "float"
        },
        {
         "name": "V132",
         "rawType": "float64",
         "type": "float"
        },
        {
         "name": "V133",
         "rawType": "float64",
         "type": "float"
        },
        {
         "name": "V134",
         "rawType": "float64",
         "type": "float"
        },
        {
         "name": "V135",
         "rawType": "float64",
         "type": "float"
        },
        {
         "name": "V136",
         "rawType": "float64",
         "type": "float"
        },
        {
         "name": "V137",
         "rawType": "float64",
         "type": "float"
        },
        {
         "name": "V138",
         "rawType": "float64",
         "type": "float"
        },
        {
         "name": "V139",
         "rawType": "float64",
         "type": "float"
        },
        {
         "name": "V140",
         "rawType": "float64",
         "type": "float"
        },
        {
         "name": "V141",
         "rawType": "float64",
         "type": "float"
        },
        {
         "name": "V142",
         "rawType": "float64",
         "type": "float"
        },
        {
         "name": "V143",
         "rawType": "float64",
         "type": "float"
        },
        {
         "name": "V144",
         "rawType": "float64",
         "type": "float"
        },
        {
         "name": "V145",
         "rawType": "float64",
         "type": "float"
        },
        {
         "name": "V146",
         "rawType": "float64",
         "type": "float"
        },
        {
         "name": "V147",
         "rawType": "float64",
         "type": "float"
        },
        {
         "name": "V148",
         "rawType": "float64",
         "type": "float"
        },
        {
         "name": "V149",
         "rawType": "float64",
         "type": "float"
        },
        {
         "name": "V150",
         "rawType": "float64",
         "type": "float"
        },
        {
         "name": "V151",
         "rawType": "float64",
         "type": "float"
        },
        {
         "name": "V152",
         "rawType": "float64",
         "type": "float"
        },
        {
         "name": "V153",
         "rawType": "float64",
         "type": "float"
        },
        {
         "name": "V154",
         "rawType": "float64",
         "type": "float"
        },
        {
         "name": "V155",
         "rawType": "float64",
         "type": "float"
        },
        {
         "name": "V156",
         "rawType": "float64",
         "type": "float"
        },
        {
         "name": "V157",
         "rawType": "float64",
         "type": "float"
        },
        {
         "name": "V158",
         "rawType": "float64",
         "type": "float"
        },
        {
         "name": "V159",
         "rawType": "float64",
         "type": "float"
        },
        {
         "name": "V160",
         "rawType": "float64",
         "type": "float"
        },
        {
         "name": "V161",
         "rawType": "float64",
         "type": "float"
        },
        {
         "name": "V162",
         "rawType": "float64",
         "type": "float"
        },
        {
         "name": "V163",
         "rawType": "float64",
         "type": "float"
        },
        {
         "name": "V164",
         "rawType": "float64",
         "type": "float"
        },
        {
         "name": "V165",
         "rawType": "float64",
         "type": "float"
        },
        {
         "name": "V166",
         "rawType": "float64",
         "type": "float"
        },
        {
         "name": "V167",
         "rawType": "float64",
         "type": "float"
        },
        {
         "name": "V168",
         "rawType": "float64",
         "type": "float"
        },
        {
         "name": "V169",
         "rawType": "float64",
         "type": "float"
        },
        {
         "name": "V170",
         "rawType": "float64",
         "type": "float"
        },
        {
         "name": "V171",
         "rawType": "float64",
         "type": "float"
        },
        {
         "name": "V172",
         "rawType": "float64",
         "type": "float"
        },
        {
         "name": "V173",
         "rawType": "float64",
         "type": "float"
        },
        {
         "name": "V174",
         "rawType": "float64",
         "type": "float"
        },
        {
         "name": "V175",
         "rawType": "float64",
         "type": "float"
        },
        {
         "name": "V176",
         "rawType": "float64",
         "type": "float"
        },
        {
         "name": "V177",
         "rawType": "float64",
         "type": "float"
        },
        {
         "name": "V178",
         "rawType": "float64",
         "type": "float"
        },
        {
         "name": "V179",
         "rawType": "float64",
         "type": "float"
        },
        {
         "name": "V180",
         "rawType": "float64",
         "type": "float"
        },
        {
         "name": "V181",
         "rawType": "float64",
         "type": "float"
        },
        {
         "name": "V182",
         "rawType": "float64",
         "type": "float"
        },
        {
         "name": "V183",
         "rawType": "float64",
         "type": "float"
        },
        {
         "name": "V184",
         "rawType": "float64",
         "type": "float"
        },
        {
         "name": "V185",
         "rawType": "float64",
         "type": "float"
        },
        {
         "name": "V186",
         "rawType": "float64",
         "type": "float"
        },
        {
         "name": "V187",
         "rawType": "float64",
         "type": "float"
        },
        {
         "name": "V188",
         "rawType": "float64",
         "type": "float"
        },
        {
         "name": "V189",
         "rawType": "float64",
         "type": "float"
        },
        {
         "name": "V190",
         "rawType": "float64",
         "type": "float"
        },
        {
         "name": "V191",
         "rawType": "float64",
         "type": "float"
        },
        {
         "name": "V192",
         "rawType": "float64",
         "type": "float"
        },
        {
         "name": "V193",
         "rawType": "float64",
         "type": "float"
        },
        {
         "name": "V194",
         "rawType": "float64",
         "type": "float"
        },
        {
         "name": "V195",
         "rawType": "float64",
         "type": "float"
        },
        {
         "name": "V196",
         "rawType": "float64",
         "type": "float"
        },
        {
         "name": "V197",
         "rawType": "float64",
         "type": "float"
        },
        {
         "name": "V198",
         "rawType": "float64",
         "type": "float"
        },
        {
         "name": "V199",
         "rawType": "float64",
         "type": "float"
        },
        {
         "name": "V200",
         "rawType": "float64",
         "type": "float"
        },
        {
         "name": "V201",
         "rawType": "float64",
         "type": "float"
        },
        {
         "name": "V202",
         "rawType": "float64",
         "type": "float"
        },
        {
         "name": "V203",
         "rawType": "float64",
         "type": "float"
        },
        {
         "name": "V204",
         "rawType": "float64",
         "type": "float"
        },
        {
         "name": "V205",
         "rawType": "float64",
         "type": "float"
        },
        {
         "name": "V206",
         "rawType": "float64",
         "type": "float"
        },
        {
         "name": "V207",
         "rawType": "float64",
         "type": "float"
        },
        {
         "name": "V208",
         "rawType": "float64",
         "type": "float"
        },
        {
         "name": "V209",
         "rawType": "float64",
         "type": "float"
        },
        {
         "name": "V210",
         "rawType": "float64",
         "type": "float"
        },
        {
         "name": "V211",
         "rawType": "float64",
         "type": "float"
        },
        {
         "name": "V212",
         "rawType": "float64",
         "type": "float"
        },
        {
         "name": "V213",
         "rawType": "float64",
         "type": "float"
        },
        {
         "name": "V214",
         "rawType": "float64",
         "type": "float"
        },
        {
         "name": "V215",
         "rawType": "float64",
         "type": "float"
        },
        {
         "name": "V216",
         "rawType": "float64",
         "type": "float"
        },
        {
         "name": "V217",
         "rawType": "float64",
         "type": "float"
        },
        {
         "name": "V218",
         "rawType": "float64",
         "type": "float"
        },
        {
         "name": "V219",
         "rawType": "float64",
         "type": "float"
        },
        {
         "name": "V220",
         "rawType": "float64",
         "type": "float"
        },
        {
         "name": "V221",
         "rawType": "float64",
         "type": "float"
        },
        {
         "name": "V222",
         "rawType": "float64",
         "type": "float"
        },
        {
         "name": "V223",
         "rawType": "float64",
         "type": "float"
        },
        {
         "name": "V224",
         "rawType": "float64",
         "type": "float"
        },
        {
         "name": "V225",
         "rawType": "float64",
         "type": "float"
        },
        {
         "name": "V226",
         "rawType": "float64",
         "type": "float"
        },
        {
         "name": "V227",
         "rawType": "float64",
         "type": "float"
        },
        {
         "name": "V228",
         "rawType": "float64",
         "type": "float"
        },
        {
         "name": "V229",
         "rawType": "float64",
         "type": "float"
        },
        {
         "name": "V230",
         "rawType": "float64",
         "type": "float"
        },
        {
         "name": "V231",
         "rawType": "float64",
         "type": "float"
        },
        {
         "name": "V232",
         "rawType": "float64",
         "type": "float"
        },
        {
         "name": "V233",
         "rawType": "float64",
         "type": "float"
        },
        {
         "name": "V234",
         "rawType": "float64",
         "type": "float"
        },
        {
         "name": "V235",
         "rawType": "float64",
         "type": "float"
        },
        {
         "name": "V236",
         "rawType": "float64",
         "type": "float"
        },
        {
         "name": "V237",
         "rawType": "float64",
         "type": "float"
        },
        {
         "name": "V238",
         "rawType": "float64",
         "type": "float"
        },
        {
         "name": "V239",
         "rawType": "float64",
         "type": "float"
        },
        {
         "name": "V240",
         "rawType": "float64",
         "type": "float"
        },
        {
         "name": "V241",
         "rawType": "float64",
         "type": "float"
        },
        {
         "name": "V242",
         "rawType": "float64",
         "type": "float"
        },
        {
         "name": "V243",
         "rawType": "float64",
         "type": "float"
        },
        {
         "name": "V244",
         "rawType": "float64",
         "type": "float"
        },
        {
         "name": "V245",
         "rawType": "float64",
         "type": "float"
        },
        {
         "name": "V246",
         "rawType": "float64",
         "type": "float"
        },
        {
         "name": "V247",
         "rawType": "float64",
         "type": "float"
        },
        {
         "name": "V248",
         "rawType": "float64",
         "type": "float"
        },
        {
         "name": "V249",
         "rawType": "float64",
         "type": "float"
        },
        {
         "name": "V250",
         "rawType": "float64",
         "type": "float"
        },
        {
         "name": "V251",
         "rawType": "float64",
         "type": "float"
        },
        {
         "name": "V252",
         "rawType": "float64",
         "type": "float"
        },
        {
         "name": "V253",
         "rawType": "float64",
         "type": "float"
        },
        {
         "name": "V254",
         "rawType": "float64",
         "type": "float"
        },
        {
         "name": "V255",
         "rawType": "float64",
         "type": "float"
        },
        {
         "name": "V256",
         "rawType": "float64",
         "type": "float"
        },
        {
         "name": "V257",
         "rawType": "float64",
         "type": "float"
        },
        {
         "name": "V258",
         "rawType": "float64",
         "type": "float"
        },
        {
         "name": "V259",
         "rawType": "float64",
         "type": "float"
        },
        {
         "name": "V260",
         "rawType": "float64",
         "type": "float"
        },
        {
         "name": "V261",
         "rawType": "float64",
         "type": "float"
        },
        {
         "name": "V262",
         "rawType": "float64",
         "type": "float"
        },
        {
         "name": "V263",
         "rawType": "float64",
         "type": "float"
        },
        {
         "name": "V264",
         "rawType": "float64",
         "type": "float"
        },
        {
         "name": "V265",
         "rawType": "float64",
         "type": "float"
        },
        {
         "name": "V266",
         "rawType": "float64",
         "type": "float"
        },
        {
         "name": "V267",
         "rawType": "float64",
         "type": "float"
        },
        {
         "name": "V268",
         "rawType": "float64",
         "type": "float"
        },
        {
         "name": "V269",
         "rawType": "float64",
         "type": "float"
        },
        {
         "name": "V270",
         "rawType": "float64",
         "type": "float"
        },
        {
         "name": "V271",
         "rawType": "float64",
         "type": "float"
        },
        {
         "name": "V272",
         "rawType": "float64",
         "type": "float"
        },
        {
         "name": "V273",
         "rawType": "float64",
         "type": "float"
        },
        {
         "name": "V274",
         "rawType": "float64",
         "type": "float"
        },
        {
         "name": "V275",
         "rawType": "float64",
         "type": "float"
        },
        {
         "name": "V276",
         "rawType": "float64",
         "type": "float"
        },
        {
         "name": "V277",
         "rawType": "float64",
         "type": "float"
        },
        {
         "name": "V278",
         "rawType": "float64",
         "type": "float"
        },
        {
         "name": "V279",
         "rawType": "float64",
         "type": "float"
        },
        {
         "name": "V280",
         "rawType": "float64",
         "type": "float"
        },
        {
         "name": "V281",
         "rawType": "float64",
         "type": "float"
        },
        {
         "name": "V282",
         "rawType": "float64",
         "type": "float"
        },
        {
         "name": "V283",
         "rawType": "float64",
         "type": "float"
        },
        {
         "name": "V284",
         "rawType": "float64",
         "type": "float"
        },
        {
         "name": "V285",
         "rawType": "float64",
         "type": "float"
        },
        {
         "name": "V286",
         "rawType": "float64",
         "type": "float"
        },
        {
         "name": "V287",
         "rawType": "float64",
         "type": "float"
        },
        {
         "name": "V288",
         "rawType": "float64",
         "type": "float"
        },
        {
         "name": "V289",
         "rawType": "float64",
         "type": "float"
        },
        {
         "name": "V290",
         "rawType": "float64",
         "type": "float"
        },
        {
         "name": "V291",
         "rawType": "float64",
         "type": "float"
        },
        {
         "name": "V292",
         "rawType": "float64",
         "type": "float"
        },
        {
         "name": "V293",
         "rawType": "float64",
         "type": "float"
        },
        {
         "name": "V294",
         "rawType": "float64",
         "type": "float"
        },
        {
         "name": "V295",
         "rawType": "float64",
         "type": "float"
        },
        {
         "name": "V296",
         "rawType": "float64",
         "type": "float"
        },
        {
         "name": "V297",
         "rawType": "float64",
         "type": "float"
        },
        {
         "name": "V298",
         "rawType": "float64",
         "type": "float"
        },
        {
         "name": "V299",
         "rawType": "float64",
         "type": "float"
        },
        {
         "name": "V300",
         "rawType": "float64",
         "type": "float"
        },
        {
         "name": "V301",
         "rawType": "float64",
         "type": "float"
        },
        {
         "name": "V302",
         "rawType": "float64",
         "type": "float"
        },
        {
         "name": "V303",
         "rawType": "float64",
         "type": "float"
        },
        {
         "name": "V304",
         "rawType": "float64",
         "type": "float"
        },
        {
         "name": "V305",
         "rawType": "float64",
         "type": "float"
        },
        {
         "name": "V306",
         "rawType": "float64",
         "type": "float"
        },
        {
         "name": "V307",
         "rawType": "float64",
         "type": "float"
        },
        {
         "name": "V308",
         "rawType": "float64",
         "type": "float"
        },
        {
         "name": "V309",
         "rawType": "float64",
         "type": "float"
        },
        {
         "name": "V310",
         "rawType": "float64",
         "type": "float"
        },
        {
         "name": "V311",
         "rawType": "float64",
         "type": "float"
        },
        {
         "name": "V312",
         "rawType": "float64",
         "type": "float"
        },
        {
         "name": "V313",
         "rawType": "float64",
         "type": "float"
        },
        {
         "name": "V314",
         "rawType": "float64",
         "type": "float"
        },
        {
         "name": "V315",
         "rawType": "float64",
         "type": "float"
        },
        {
         "name": "V316",
         "rawType": "float64",
         "type": "float"
        },
        {
         "name": "V317",
         "rawType": "float64",
         "type": "float"
        },
        {
         "name": "V318",
         "rawType": "float64",
         "type": "float"
        },
        {
         "name": "V319",
         "rawType": "float64",
         "type": "float"
        },
        {
         "name": "V320",
         "rawType": "float64",
         "type": "float"
        },
        {
         "name": "V321",
         "rawType": "float64",
         "type": "float"
        },
        {
         "name": "V322",
         "rawType": "float64",
         "type": "float"
        },
        {
         "name": "V323",
         "rawType": "float64",
         "type": "float"
        },
        {
         "name": "V324",
         "rawType": "float64",
         "type": "float"
        },
        {
         "name": "V325",
         "rawType": "float64",
         "type": "float"
        },
        {
         "name": "V326",
         "rawType": "float64",
         "type": "float"
        },
        {
         "name": "V327",
         "rawType": "float64",
         "type": "float"
        },
        {
         "name": "V328",
         "rawType": "float64",
         "type": "float"
        },
        {
         "name": "V329",
         "rawType": "float64",
         "type": "float"
        },
        {
         "name": "V330",
         "rawType": "float64",
         "type": "float"
        },
        {
         "name": "V331",
         "rawType": "float64",
         "type": "float"
        },
        {
         "name": "V332",
         "rawType": "float64",
         "type": "float"
        },
        {
         "name": "V333",
         "rawType": "float64",
         "type": "float"
        },
        {
         "name": "V334",
         "rawType": "float64",
         "type": "float"
        },
        {
         "name": "V335",
         "rawType": "float64",
         "type": "float"
        },
        {
         "name": "V336",
         "rawType": "float64",
         "type": "float"
        },
        {
         "name": "V337",
         "rawType": "float64",
         "type": "float"
        },
        {
         "name": "V338",
         "rawType": "float64",
         "type": "float"
        },
        {
         "name": "V339",
         "rawType": "float64",
         "type": "float"
        },
        {
         "name": "V340",
         "rawType": "float64",
         "type": "float"
        },
        {
         "name": "V341",
         "rawType": "float64",
         "type": "float"
        },
        {
         "name": "V342",
         "rawType": "float64",
         "type": "float"
        },
        {
         "name": "V343",
         "rawType": "float64",
         "type": "float"
        },
        {
         "name": "V344",
         "rawType": "float64",
         "type": "float"
        },
        {
         "name": "V345",
         "rawType": "float64",
         "type": "float"
        },
        {
         "name": "V346",
         "rawType": "float64",
         "type": "float"
        },
        {
         "name": "V347",
         "rawType": "float64",
         "type": "float"
        },
        {
         "name": "V348",
         "rawType": "float64",
         "type": "float"
        },
        {
         "name": "V349",
         "rawType": "float64",
         "type": "float"
        },
        {
         "name": "V350",
         "rawType": "float64",
         "type": "float"
        },
        {
         "name": "V351",
         "rawType": "float64",
         "type": "float"
        },
        {
         "name": "V352",
         "rawType": "float64",
         "type": "float"
        },
        {
         "name": "V353",
         "rawType": "float64",
         "type": "float"
        },
        {
         "name": "V354",
         "rawType": "float64",
         "type": "float"
        },
        {
         "name": "V355",
         "rawType": "float64",
         "type": "float"
        },
        {
         "name": "V356",
         "rawType": "float64",
         "type": "float"
        },
        {
         "name": "V357",
         "rawType": "float64",
         "type": "float"
        },
        {
         "name": "V358",
         "rawType": "float64",
         "type": "float"
        },
        {
         "name": "V359",
         "rawType": "float64",
         "type": "float"
        },
        {
         "name": "V360",
         "rawType": "float64",
         "type": "float"
        },
        {
         "name": "V361",
         "rawType": "float64",
         "type": "float"
        },
        {
         "name": "V362",
         "rawType": "float64",
         "type": "float"
        },
        {
         "name": "V363",
         "rawType": "float64",
         "type": "float"
        },
        {
         "name": "V364",
         "rawType": "float64",
         "type": "float"
        },
        {
         "name": "V365",
         "rawType": "float64",
         "type": "float"
        },
        {
         "name": "V366",
         "rawType": "float64",
         "type": "float"
        },
        {
         "name": "V367",
         "rawType": "float64",
         "type": "float"
        },
        {
         "name": "V368",
         "rawType": "float64",
         "type": "float"
        },
        {
         "name": "V369",
         "rawType": "float64",
         "type": "float"
        },
        {
         "name": "V370",
         "rawType": "float64",
         "type": "float"
        },
        {
         "name": "V371",
         "rawType": "float64",
         "type": "float"
        },
        {
         "name": "V372",
         "rawType": "float64",
         "type": "float"
        },
        {
         "name": "V373",
         "rawType": "float64",
         "type": "float"
        },
        {
         "name": "V374",
         "rawType": "float64",
         "type": "float"
        },
        {
         "name": "V375",
         "rawType": "float64",
         "type": "float"
        },
        {
         "name": "V376",
         "rawType": "float64",
         "type": "float"
        },
        {
         "name": "V377",
         "rawType": "float64",
         "type": "float"
        },
        {
         "name": "V378",
         "rawType": "float64",
         "type": "float"
        },
        {
         "name": "V379",
         "rawType": "float64",
         "type": "float"
        },
        {
         "name": "V380",
         "rawType": "float64",
         "type": "float"
        },
        {
         "name": "V381",
         "rawType": "float64",
         "type": "float"
        },
        {
         "name": "V382",
         "rawType": "float64",
         "type": "float"
        },
        {
         "name": "V383",
         "rawType": "float64",
         "type": "float"
        },
        {
         "name": "V384",
         "rawType": "float64",
         "type": "float"
        },
        {
         "name": "V385",
         "rawType": "float64",
         "type": "float"
        },
        {
         "name": "V386",
         "rawType": "float64",
         "type": "float"
        },
        {
         "name": "V387",
         "rawType": "float64",
         "type": "float"
        },
        {
         "name": "V388",
         "rawType": "float64",
         "type": "float"
        },
        {
         "name": "V389",
         "rawType": "float64",
         "type": "float"
        },
        {
         "name": "V390",
         "rawType": "float64",
         "type": "float"
        },
        {
         "name": "V391",
         "rawType": "float64",
         "type": "float"
        },
        {
         "name": "V392",
         "rawType": "float64",
         "type": "float"
        },
        {
         "name": "V393",
         "rawType": "float64",
         "type": "float"
        },
        {
         "name": "V394",
         "rawType": "float64",
         "type": "float"
        },
        {
         "name": "V395",
         "rawType": "float64",
         "type": "float"
        },
        {
         "name": "V396",
         "rawType": "float64",
         "type": "float"
        },
        {
         "name": "V397",
         "rawType": "float64",
         "type": "float"
        },
        {
         "name": "V398",
         "rawType": "float64",
         "type": "float"
        },
        {
         "name": "V399",
         "rawType": "float64",
         "type": "float"
        },
        {
         "name": "V400",
         "rawType": "float64",
         "type": "float"
        },
        {
         "name": "V401",
         "rawType": "float64",
         "type": "float"
        },
        {
         "name": "V402",
         "rawType": "float64",
         "type": "float"
        },
        {
         "name": "V403",
         "rawType": "float64",
         "type": "float"
        },
        {
         "name": "V404",
         "rawType": "float64",
         "type": "float"
        },
        {
         "name": "V405",
         "rawType": "float64",
         "type": "float"
        },
        {
         "name": "V406",
         "rawType": "float64",
         "type": "float"
        },
        {
         "name": "V407",
         "rawType": "float64",
         "type": "float"
        },
        {
         "name": "V408",
         "rawType": "float64",
         "type": "float"
        },
        {
         "name": "V409",
         "rawType": "float64",
         "type": "float"
        },
        {
         "name": "V410",
         "rawType": "float64",
         "type": "float"
        },
        {
         "name": "V411",
         "rawType": "float64",
         "type": "float"
        },
        {
         "name": "V412",
         "rawType": "float64",
         "type": "float"
        },
        {
         "name": "V413",
         "rawType": "float64",
         "type": "float"
        },
        {
         "name": "V414",
         "rawType": "float64",
         "type": "float"
        },
        {
         "name": "V415",
         "rawType": "float64",
         "type": "float"
        },
        {
         "name": "V416",
         "rawType": "float64",
         "type": "float"
        },
        {
         "name": "V417",
         "rawType": "float64",
         "type": "float"
        },
        {
         "name": "V418",
         "rawType": "float64",
         "type": "float"
        },
        {
         "name": "V419",
         "rawType": "float64",
         "type": "float"
        },
        {
         "name": "V420",
         "rawType": "float64",
         "type": "float"
        },
        {
         "name": "V421",
         "rawType": "float64",
         "type": "float"
        },
        {
         "name": "V422",
         "rawType": "float64",
         "type": "float"
        },
        {
         "name": "V423",
         "rawType": "float64",
         "type": "float"
        },
        {
         "name": "V424",
         "rawType": "float64",
         "type": "float"
        },
        {
         "name": "V425",
         "rawType": "float64",
         "type": "float"
        },
        {
         "name": "V426",
         "rawType": "float64",
         "type": "float"
        },
        {
         "name": "V427",
         "rawType": "float64",
         "type": "float"
        },
        {
         "name": "V428",
         "rawType": "float64",
         "type": "float"
        },
        {
         "name": "V429",
         "rawType": "float64",
         "type": "float"
        },
        {
         "name": "V430",
         "rawType": "float64",
         "type": "float"
        },
        {
         "name": "V431",
         "rawType": "float64",
         "type": "float"
        },
        {
         "name": "V432",
         "rawType": "float64",
         "type": "float"
        },
        {
         "name": "V433",
         "rawType": "float64",
         "type": "float"
        },
        {
         "name": "V434",
         "rawType": "float64",
         "type": "float"
        },
        {
         "name": "V435",
         "rawType": "float64",
         "type": "float"
        },
        {
         "name": "V436",
         "rawType": "float64",
         "type": "float"
        },
        {
         "name": "V437",
         "rawType": "float64",
         "type": "float"
        },
        {
         "name": "V438",
         "rawType": "float64",
         "type": "float"
        },
        {
         "name": "V439",
         "rawType": "float64",
         "type": "float"
        },
        {
         "name": "V440",
         "rawType": "float64",
         "type": "float"
        },
        {
         "name": "V441",
         "rawType": "float64",
         "type": "float"
        },
        {
         "name": "V442",
         "rawType": "float64",
         "type": "float"
        },
        {
         "name": "V443",
         "rawType": "float64",
         "type": "float"
        },
        {
         "name": "V444",
         "rawType": "float64",
         "type": "float"
        },
        {
         "name": "V445",
         "rawType": "float64",
         "type": "float"
        },
        {
         "name": "V446",
         "rawType": "float64",
         "type": "float"
        },
        {
         "name": "V447",
         "rawType": "float64",
         "type": "float"
        },
        {
         "name": "V448",
         "rawType": "float64",
         "type": "float"
        },
        {
         "name": "V449",
         "rawType": "float64",
         "type": "float"
        },
        {
         "name": "V450",
         "rawType": "float64",
         "type": "float"
        },
        {
         "name": "V451",
         "rawType": "float64",
         "type": "float"
        },
        {
         "name": "V452",
         "rawType": "float64",
         "type": "float"
        },
        {
         "name": "V453",
         "rawType": "float64",
         "type": "float"
        },
        {
         "name": "V454",
         "rawType": "float64",
         "type": "float"
        },
        {
         "name": "V455",
         "rawType": "float64",
         "type": "float"
        },
        {
         "name": "V456",
         "rawType": "float64",
         "type": "float"
        },
        {
         "name": "V457",
         "rawType": "float64",
         "type": "float"
        },
        {
         "name": "V458",
         "rawType": "float64",
         "type": "float"
        },
        {
         "name": "V459",
         "rawType": "float64",
         "type": "float"
        },
        {
         "name": "V460",
         "rawType": "float64",
         "type": "float"
        },
        {
         "name": "V461",
         "rawType": "float64",
         "type": "float"
        },
        {
         "name": "V462",
         "rawType": "float64",
         "type": "float"
        },
        {
         "name": "V463",
         "rawType": "float64",
         "type": "float"
        },
        {
         "name": "V464",
         "rawType": "float64",
         "type": "float"
        },
        {
         "name": "V465",
         "rawType": "float64",
         "type": "float"
        },
        {
         "name": "V466",
         "rawType": "float64",
         "type": "float"
        },
        {
         "name": "V467",
         "rawType": "float64",
         "type": "float"
        },
        {
         "name": "V468",
         "rawType": "float64",
         "type": "float"
        },
        {
         "name": "V469",
         "rawType": "float64",
         "type": "float"
        },
        {
         "name": "V470",
         "rawType": "float64",
         "type": "float"
        },
        {
         "name": "V471",
         "rawType": "float64",
         "type": "float"
        },
        {
         "name": "V472",
         "rawType": "float64",
         "type": "float"
        },
        {
         "name": "V473",
         "rawType": "float64",
         "type": "float"
        },
        {
         "name": "V474",
         "rawType": "float64",
         "type": "float"
        },
        {
         "name": "V475",
         "rawType": "float64",
         "type": "float"
        },
        {
         "name": "V476",
         "rawType": "float64",
         "type": "float"
        },
        {
         "name": "V477",
         "rawType": "float64",
         "type": "float"
        },
        {
         "name": "V478",
         "rawType": "float64",
         "type": "float"
        },
        {
         "name": "V479",
         "rawType": "float64",
         "type": "float"
        },
        {
         "name": "V480",
         "rawType": "float64",
         "type": "float"
        },
        {
         "name": "V481",
         "rawType": "float64",
         "type": "float"
        },
        {
         "name": "V482",
         "rawType": "float64",
         "type": "float"
        },
        {
         "name": "V483",
         "rawType": "float64",
         "type": "float"
        },
        {
         "name": "V484",
         "rawType": "float64",
         "type": "float"
        },
        {
         "name": "V485",
         "rawType": "float64",
         "type": "float"
        },
        {
         "name": "V486",
         "rawType": "float64",
         "type": "float"
        },
        {
         "name": "V487",
         "rawType": "float64",
         "type": "float"
        },
        {
         "name": "V488",
         "rawType": "float64",
         "type": "float"
        },
        {
         "name": "V489",
         "rawType": "float64",
         "type": "float"
        },
        {
         "name": "V490",
         "rawType": "float64",
         "type": "float"
        },
        {
         "name": "V491",
         "rawType": "float64",
         "type": "float"
        },
        {
         "name": "V492",
         "rawType": "float64",
         "type": "float"
        },
        {
         "name": "V493",
         "rawType": "float64",
         "type": "float"
        },
        {
         "name": "V494",
         "rawType": "float64",
         "type": "float"
        },
        {
         "name": "V495",
         "rawType": "float64",
         "type": "float"
        },
        {
         "name": "V496",
         "rawType": "float64",
         "type": "float"
        },
        {
         "name": "V497",
         "rawType": "float64",
         "type": "float"
        },
        {
         "name": "V498",
         "rawType": "float64",
         "type": "float"
        },
        {
         "name": "V499",
         "rawType": "float64",
         "type": "float"
        },
        {
         "name": "V500",
         "rawType": "float64",
         "type": "float"
        },
        {
         "name": "V501",
         "rawType": "float64",
         "type": "float"
        },
        {
         "name": "V502",
         "rawType": "float64",
         "type": "float"
        },
        {
         "name": "V503",
         "rawType": "float64",
         "type": "float"
        },
        {
         "name": "V504",
         "rawType": "float64",
         "type": "float"
        },
        {
         "name": "V505",
         "rawType": "float64",
         "type": "float"
        },
        {
         "name": "V506",
         "rawType": "float64",
         "type": "float"
        },
        {
         "name": "V507",
         "rawType": "float64",
         "type": "float"
        },
        {
         "name": "V508",
         "rawType": "float64",
         "type": "float"
        },
        {
         "name": "V509",
         "rawType": "float64",
         "type": "float"
        },
        {
         "name": "V510",
         "rawType": "float64",
         "type": "float"
        },
        {
         "name": "V511",
         "rawType": "float64",
         "type": "float"
        },
        {
         "name": "V512",
         "rawType": "float64",
         "type": "float"
        },
        {
         "name": "V513",
         "rawType": "float64",
         "type": "float"
        },
        {
         "name": "V514",
         "rawType": "float64",
         "type": "float"
        },
        {
         "name": "V515",
         "rawType": "float64",
         "type": "float"
        },
        {
         "name": "V516",
         "rawType": "float64",
         "type": "float"
        },
        {
         "name": "V517",
         "rawType": "float64",
         "type": "float"
        },
        {
         "name": "V518",
         "rawType": "float64",
         "type": "float"
        },
        {
         "name": "V519",
         "rawType": "float64",
         "type": "float"
        },
        {
         "name": "V520",
         "rawType": "float64",
         "type": "float"
        },
        {
         "name": "V521",
         "rawType": "float64",
         "type": "float"
        },
        {
         "name": "V522",
         "rawType": "float64",
         "type": "float"
        },
        {
         "name": "V523",
         "rawType": "float64",
         "type": "float"
        },
        {
         "name": "V524",
         "rawType": "float64",
         "type": "float"
        },
        {
         "name": "V525",
         "rawType": "float64",
         "type": "float"
        },
        {
         "name": "V526",
         "rawType": "float64",
         "type": "float"
        },
        {
         "name": "V527",
         "rawType": "float64",
         "type": "float"
        },
        {
         "name": "V528",
         "rawType": "float64",
         "type": "float"
        },
        {
         "name": "V529",
         "rawType": "float64",
         "type": "float"
        },
        {
         "name": "V530",
         "rawType": "float64",
         "type": "float"
        },
        {
         "name": "V531",
         "rawType": "float64",
         "type": "float"
        },
        {
         "name": "V532",
         "rawType": "float64",
         "type": "float"
        },
        {
         "name": "V533",
         "rawType": "float64",
         "type": "float"
        },
        {
         "name": "V534",
         "rawType": "float64",
         "type": "float"
        },
        {
         "name": "V535",
         "rawType": "float64",
         "type": "float"
        },
        {
         "name": "V536",
         "rawType": "float64",
         "type": "float"
        },
        {
         "name": "V537",
         "rawType": "float64",
         "type": "float"
        },
        {
         "name": "V538",
         "rawType": "float64",
         "type": "float"
        },
        {
         "name": "V539",
         "rawType": "float64",
         "type": "float"
        },
        {
         "name": "V540",
         "rawType": "float64",
         "type": "float"
        },
        {
         "name": "V541",
         "rawType": "float64",
         "type": "float"
        },
        {
         "name": "V542",
         "rawType": "float64",
         "type": "float"
        },
        {
         "name": "V543",
         "rawType": "float64",
         "type": "float"
        },
        {
         "name": "V544",
         "rawType": "float64",
         "type": "float"
        },
        {
         "name": "V545",
         "rawType": "float64",
         "type": "float"
        },
        {
         "name": "V546",
         "rawType": "float64",
         "type": "float"
        },
        {
         "name": "V547",
         "rawType": "float64",
         "type": "float"
        },
        {
         "name": "V548",
         "rawType": "float64",
         "type": "float"
        },
        {
         "name": "V549",
         "rawType": "float64",
         "type": "float"
        },
        {
         "name": "V550",
         "rawType": "float64",
         "type": "float"
        },
        {
         "name": "V551",
         "rawType": "float64",
         "type": "float"
        },
        {
         "name": "V552",
         "rawType": "float64",
         "type": "float"
        },
        {
         "name": "V553",
         "rawType": "float64",
         "type": "float"
        },
        {
         "name": "V554",
         "rawType": "float64",
         "type": "float"
        },
        {
         "name": "V555",
         "rawType": "float64",
         "type": "float"
        },
        {
         "name": "V556",
         "rawType": "float64",
         "type": "float"
        },
        {
         "name": "V557",
         "rawType": "float64",
         "type": "float"
        },
        {
         "name": "V558",
         "rawType": "float64",
         "type": "float"
        },
        {
         "name": "V559",
         "rawType": "float64",
         "type": "float"
        },
        {
         "name": "V560",
         "rawType": "float64",
         "type": "float"
        },
        {
         "name": "V561",
         "rawType": "float64",
         "type": "float"
        },
        {
         "name": "V562",
         "rawType": "float64",
         "type": "float"
        },
        {
         "name": "V563",
         "rawType": "float64",
         "type": "float"
        },
        {
         "name": "V564",
         "rawType": "float64",
         "type": "float"
        },
        {
         "name": "V565",
         "rawType": "float64",
         "type": "float"
        },
        {
         "name": "V566",
         "rawType": "float64",
         "type": "float"
        },
        {
         "name": "V567",
         "rawType": "float64",
         "type": "float"
        },
        {
         "name": "V568",
         "rawType": "float64",
         "type": "float"
        },
        {
         "name": "V569",
         "rawType": "float64",
         "type": "float"
        },
        {
         "name": "V570",
         "rawType": "float64",
         "type": "float"
        },
        {
         "name": "V571",
         "rawType": "float64",
         "type": "float"
        },
        {
         "name": "V572",
         "rawType": "float64",
         "type": "float"
        },
        {
         "name": "V573",
         "rawType": "float64",
         "type": "float"
        },
        {
         "name": "V574",
         "rawType": "float64",
         "type": "float"
        },
        {
         "name": "V575",
         "rawType": "float64",
         "type": "float"
        },
        {
         "name": "V576",
         "rawType": "float64",
         "type": "float"
        }
       ],
       "conversionMethod": "pd.DataFrame",
       "ref": "0e801017-6f06-4410-9882-cddf4ec31936",
       "rows": [
        [
         "0",
         "0.245288",
         "0.258437",
         "0.265449",
         "0.272342",
         "0.280249",
         "0.288323",
         "0.297118",
         "0.307861",
         "0.319456",
         "0.333941",
         "0.351723",
         "0.372247",
         "0.398763",
         "0.430673",
         "0.466679",
         "0.513893",
         "0.564702",
         "0.623314",
         "0.69146",
         "0.760268",
         "0.837117",
         "0.916401",
         "0.992375",
         "1.074298",
         "1.149168",
         "1.215507",
         "1.275598",
         "1.321664",
         "1.359414",
         "1.3905981",
         "1.412985",
         "1.432603",
         "1.447148",
         "1.459203",
         "1.470113",
         "1.479443",
         "1.488184",
         "1.497252",
         "1.50534",
         "1.514028",
         "1.522047",
         "1.53039",
         "1.537968",
         "1.544522",
         "1.550006",
         "1.554324",
         "1.556818",
         "1.557816",
         "1.557066",
         "1.554629",
         "1.550652",
         "1.5456671",
         "1.540243",
         "1.5333509",
         "1.526428",
         "1.5190589",
         "1.510977",
         "1.503525",
         "1.495078",
         "1.486804",
         "1.478519",
         "1.469627",
         "1.4610209",
         "1.452136",
         "1.443043",
         "1.434612",
         "1.425226",
         "1.416279",
         "1.40794",
         "1.398564",
         "1.390429",
         "1.382087",
         "1.373868",
         "1.366612",
         "1.359547",
         "1.353351",
         "1.3479429",
         "1.343125",
         "1.3394049",
         "1.33701",
         "1.3353111",
         "1.335233",
         "1.336623",
         "1.339334",
         "1.3435349",
         "1.34998",
         "1.35762",
         "1.367298",
         "1.379681",
         "1.392748",
         "1.40895",
         "1.427292",
         "1.446785",
         "1.470687",
         "1.495507",
         "1.522797",
         "1.554436",
         "1.586434",
         "1.622872",
         "1.66264",
         "1.702455",
         "1.750147",
         "1.797911",
         "1.849221",
         "1.906769",
         "1.963137",
         "2.026973",
         "2.0925281",
         "2.156961",
         "2.2285171",
         "2.300993",
         "2.369087",
         "2.443465",
         "2.5057881",
         "2.5768311",
         "2.6394899",
         "2.692513",
         "2.745477",
         "2.793864",
         "2.8364661",
         "2.8681509",
         "2.8985231",
         "2.91958",
         "2.945523",
         "2.964756",
         "2.9820981",
         "2.996732",
         "3.018791",
         "3.030154",
         "3.0431559",
         "3.0503111",
         "3.0646811",
         "3.0781751",
         "3.084867",
         "3.1100631",
         "3.117511",
         "3.119637",
         "3.134335",
         "3.141186",
         "3.146049",
         "3.1577899",
         "3.1595161",
         "3.16803",
         "3.1711769",
         "3.183491",
         "3.181092",
         "3.196028",
         "3.1913309",
         "3.19999",
         "3.2040429",
         "3.2140059",
         "3.2138851",
         "3.21978",
         "3.2222769",
         "3.226207",
         "3.234839",
         "3.2319701",
         "3.2363601",
         "3.2494049",
         "3.240798",
         "3.2559659",
         "3.2426701",
         "3.2586789",
         "3.252578",
         "3.2605021",
         "3.264998",
         "3.2630441",
         "3.2860839",
         "3.274312",
         "3.2766671",
         "3.2815959",
         "3.2933071",
         "3.286839",
         "3.2990611",
         "3.3023651",
         "3.3129079",
         "3.311219",
         "3.301645",
         "3.3159561",
         "3.317703",
         "3.336185",
         "3.321373",
         "3.331996",
         "3.3342841",
         "3.3450761",
         "3.334024",
         "3.353065",
         "3.3456399",
         "3.3519969",
         "3.357234",
         "3.3488629",
         "3.3552439",
         "3.339329",
         "3.3546031",
         "3.345269",
         "3.3129671",
         "3.333636",
         "3.334559",
         "3.3203521",
         "3.3237951",
         "3.3212709",
         "3.317343",
         "3.3094311",
         "3.3071389",
         "3.317234",
         "3.300704",
         "3.331001",
         "3.3317821",
         "3.3417239",
         "3.317215",
         "3.3217249",
         "3.3554339",
         "3.385869",
         "3.3591239",
         "3.3763831",
         "3.384959",
         "3.386518",
         "3.4003739",
         "3.403302",
         "3.4242499",
         "3.4221389",
         "3.443269",
         "3.4431231",
         "3.432394",
         "3.475436",
         "3.447149",
         "3.4432909",
         "3.4904799",
         "3.470397",
         "3.4653139",
         "3.4637899",
         "3.4710381",
         "3.484865",
         "3.4413481",
         "3.4842689",
         "3.4717319",
         "3.4691329",
         "3.4928679",
         "3.462034",
         "3.4819491",
         "3.4969699",
         "3.4687021",
         "3.485826",
         "3.45193",
         "3.480077",
         "3.497529",
         "3.4884701",
         "3.489397",
         "3.477211",
         "3.4860599",
         "3.4827459",
         "3.5012181",
         "3.506511",
         "3.4933579",
         "3.4891",
         "3.5341091",
         "3.5252211",
         "3.5189691",
         "3.5352631",
         "3.5261011",
         "3.5190799",
         "3.539716",
         "3.5462141",
         "3.5333059",
         "3.542403",
         "3.5595009",
         "3.549809",
         "3.572274",
         "3.5611451",
         "3.547888",
         "3.587069",
         "3.564456",
         "3.5458629",
         "3.566766",
         "3.5719481",
         "3.589448",
         "3.5735731",
         "3.5615101",
         "3.556442",
         "3.559896",
         "3.536767",
         "3.5406461",
         "3.53654",
         "3.545856",
         "3.5446661",
         "3.5399981",
         "3.533287",
         "3.4941139",
         "3.505075",
         "3.49649",
         "3.4801509",
         "3.4781151",
         "3.4578011",
         "3.4548919",
         "3.457516",
         "3.434623",
         "3.413167",
         "3.4197049",
         "3.410116",
         "3.379446",
         "3.4009039",
         "3.366569",
         "3.381181",
         "3.3698809",
         "3.3189909",
         "3.3227119",
         "3.286526",
         "3.2633131",
         "3.2608149",
         "3.256778",
         "3.2572479",
         "3.277406",
         "3.2844739",
         "3.2646959",
         "3.2850299",
         "3.3013959",
         "3.302582",
         "3.3086219",
         "3.2966781",
         "3.2965181",
         "3.306776",
         "3.2985799",
         "3.3146429",
         "3.316541",
         "3.310081",
         "3.34396",
         "3.3438611",
         "3.364388",
         "3.350903",
         "3.3778319",
         "3.3786559",
         "3.381603",
         "3.3747971",
         "3.3942411",
         "3.428422",
         "3.380729",
         "3.4116199",
         "3.451529",
         "3.4588549",
         "3.486722",
         "3.5134981",
         "3.5286641",
         "3.5677509",
         "3.5895319",
         "3.611094",
         "3.627146",
         "3.700974",
         "3.7262199",
         "3.758687",
         "3.808105",
         "3.769377",
         "3.891546",
         "3.7986071",
         "3.815429",
         "3.908742",
         "3.8297639",
         "3.8130131",
         "3.7979519",
         "3.806365",
         "3.8283451",
         "3.7624421",
         "3.8052411",
         "3.7799449",
         "3.7982631",
         "3.751292",
         "3.7488821",
         "3.7114871",
         "3.7459371",
         "3.8059511",
         "3.7341499",
         "3.745194",
         "3.7460699",
         "3.7612231",
         "3.744127",
         "3.7350581",
         "3.730792",
         "3.742594",
         "3.743784",
         "3.760175",
         "3.7571571",
         "3.7462931",
         "3.776403",
         "3.67103",
         "3.7341299",
         "3.722055",
         "3.6678569",
         "3.697736",
         "3.719835",
         "3.705642",
         "3.7119789",
         "3.7208569",
         "3.701756",
         "3.7133009",
         "3.7227011",
         "3.682574",
         "3.6877201",
         "3.729054",
         "3.7551539",
         "3.6669891",
         "3.7026579",
         "3.710444",
         "3.7175989",
         "3.6939399",
         "3.6993899",
         "3.700222",
         "3.712378",
         "3.7717011",
         "3.7297671",
         "3.707747",
         "3.712501",
         "3.7365911",
         "3.745405",
         "3.719203",
         "3.705642",
         "3.686656",
         "3.7112191",
         "3.766144",
         "3.6436989",
         "3.738775",
         "3.738337",
         "3.6759291",
         "3.714602",
         "3.726306",
         "3.7309711",
         "3.6621089",
         "3.71347",
         "3.699713",
         "3.6942749",
         "3.6504941",
         "3.6990769",
         "3.7155671",
         "3.6784739",
         "3.630007",
         "3.688627",
         "3.6595359",
         "3.6414411",
         "3.6458981",
         "3.6095769",
         "3.6292851",
         "3.5660291",
         "3.6258819",
         "3.6090851",
         "3.5664461",
         "3.55808",
         "3.5943329",
         "3.530386",
         "3.5638771",
         "3.5520451",
         "3.570992",
         "3.532305",
         "3.4915669",
         "3.5157051",
         "3.4666419",
         "3.514797",
         "3.482233",
         "3.474694",
         "3.5091031",
         "3.4705911",
         "3.488601",
         "3.4892039",
         "3.446372",
         "3.464659",
         "3.45362",
         "3.457927",
         "3.477952",
         "3.4478819",
         "3.4585259",
         "3.4421451",
         "3.3970001",
         "3.427315",
         "3.398797",
         "3.4014299",
         "3.41102",
         "3.4173739",
         "3.416223",
         "3.4069049",
         "3.3771751",
         "3.3954849",
         "3.3784499",
         "3.3612599",
         "3.3833859",
         "3.3559339",
         "3.348289",
         "3.3500071",
         "3.3517301",
         "3.338372",
         "3.3323779",
         "3.3381879",
         "3.3309071",
         "3.3637531",
         "3.340452",
         "3.293088",
         "3.352735",
         "3.3526399",
         "3.3744111",
         "3.3339951",
         "3.3665979",
         "3.3313961",
         "3.355226",
         "3.3577609",
         "3.3581769",
         "3.33602",
         "3.353097",
         "3.378823",
         "3.361285",
         "3.4067881",
         "3.4122479",
         "3.4027231",
         "3.3530059",
         "3.3168809",
         "3.3548391",
         "3.351795",
         "3.3804719",
         "3.3669291",
         "3.3748209",
         "3.362489",
         "3.3870561",
         "3.373117",
         "3.372304",
         "3.37988",
         "3.3748839",
         "3.3741541",
         "3.3767681",
         "3.395185",
         "3.3896101",
         "3.400893",
         "3.4184959",
         "3.4375501",
         "3.399282",
         "3.4402239",
         "3.44139",
         "3.475862",
         "3.447907",
         "3.454926",
         "3.479794",
         "3.4853621",
         "3.4900501",
         "3.4536891",
         "3.480093",
         "3.4754591",
         "3.500083",
         "3.4744761",
         "3.5382681",
         "3.5619371",
         "3.510359",
         "3.573158",
         "3.5225911",
         "3.584707",
         "3.5594201",
         "3.5730879",
         "3.536046",
         "3.5246329",
         "3.5679171",
         "3.5654459",
         "3.568336",
         "3.6020019",
         "3.608711",
         "3.600955",
         "3.6038041",
         "3.6109281",
         "3.6091139",
         "3.5994959",
         "3.605108",
         "3.6090939",
         "3.616292",
         "3.6798949",
         "3.654557",
         "3.6539831",
         "3.7142091",
         "3.669642",
         "3.6255209",
         "3.6471519",
         "3.573585",
         "3.6230879",
         "3.679775"
        ],
        [
         "1",
         "0.242613",
         "0.255609",
         "0.262486",
         "0.269311",
         "0.277092",
         "0.285063",
         "0.293715",
         "0.304371",
         "0.315839",
         "0.330161",
         "0.347802",
         "0.368222",
         "0.394622",
         "0.426398",
         "0.462378",
         "0.509364",
         "0.560011",
         "0.618253",
         "0.685966",
         "0.754172",
         "0.830097",
         "0.908174",
         "0.982844",
         "1.063351",
         "1.136721",
         "1.201997",
         "1.2613651",
         "1.3073961",
         "1.345366",
         "1.377324",
         "1.400682",
         "1.421419",
         "1.437704",
         "1.451156",
         "1.4638309",
         "1.475047",
         "1.4858201",
         "1.4970191",
         "1.506579",
         "1.516189",
         "1.52511",
         "1.532937",
         "1.5403579",
         "1.546126",
         "1.550511",
         "1.553756",
         "1.555481",
         "1.555685",
         "1.554301",
         "1.551414",
         "1.5470721",
         "1.541804",
         "1.5359761",
         "1.528289",
         "1.520834",
         "1.5129941",
         "1.504566",
         "1.49648",
         "1.487704",
         "1.478722",
         "1.470333",
         "1.461112",
         "1.452244",
         "1.4432909",
         "1.433679",
         "1.425096",
         "1.415661",
         "1.406787",
         "1.3980319",
         "1.388813",
         "1.380402",
         "1.3720599",
         "1.363668",
         "1.356512",
         "1.349192",
         "1.342714",
         "1.337317",
         "1.332232",
         "1.328307",
         "1.325573",
         "1.323682",
         "1.323253",
         "1.32418",
         "1.326651",
         "1.3303241",
         "1.336327",
         "1.343449",
         "1.35297",
         "1.364531",
         "1.377463",
         "1.392946",
         "1.410796",
         "1.429651",
         "1.453087",
         "1.477003",
         "1.504009",
         "1.5348819",
         "1.566313",
         "1.602406",
         "1.641126",
         "1.680379",
         "1.727515",
         "1.774464",
         "1.8251081",
         "1.882454",
         "1.937883",
         "2.001087",
         "2.0655811",
         "2.1304979",
         "2.2032399",
         "2.271704",
         "2.341713",
         "2.416431",
         "2.4816711",
         "2.5524271",
         "2.6156859",
         "2.6715491",
         "2.726253",
         "2.775342",
         "2.8153491",
         "2.8575439",
         "2.884207",
         "2.9104681",
         "2.9358771",
         "2.952435",
         "2.972368",
         "2.991581",
         "3.0026629",
         "3.017323",
         "3.0320711",
         "3.040421",
         "3.060576",
         "3.077086",
         "3.087029",
         "3.1009879",
         "3.11147",
         "3.121978",
         "3.120368",
         "3.132762",
         "3.145046",
         "3.1493909",
         "3.155925",
         "3.163389",
         "3.1662719",
         "3.1773591",
         "3.1729791",
         "3.1828041",
         "3.197135",
         "3.193434",
         "3.2025311",
         "3.2006581",
         "3.1964891",
         "3.2116871",
         "3.2140861",
         "3.2233651",
         "3.2171941",
         "3.217912",
         "3.225359",
         "3.2339101",
         "3.2340901",
         "3.2537341",
         "3.239923",
         "3.2593551",
         "3.2509091",
         "3.25635",
         "3.251056",
         "3.2618389",
         "3.264657",
         "3.2726951",
         "3.2799571",
         "3.276576",
         "3.268584",
         "3.285501",
         "3.283031",
         "3.299747",
         "3.3034589",
         "3.298377",
         "3.309438",
         "3.3093269",
         "3.31919",
         "3.310488",
         "3.3210881",
         "3.3103571",
         "3.327606",
         "3.3203659",
         "3.330852",
         "3.343297",
         "3.347868",
         "3.3393371",
         "3.3397191",
         "3.3374989",
         "3.3465011",
         "3.3401511",
         "3.3531101",
         "3.3243279",
         "3.326586",
         "3.3136151",
         "3.3253529",
         "3.331378",
         "3.3081629",
         "3.299803",
         "3.292444",
         "3.2791359",
         "3.2940471",
         "3.28721",
         "3.3173699",
         "3.298131",
         "3.3004761",
         "3.314142",
         "3.3295529",
         "3.3343461",
         "3.3212559",
         "3.334307",
         "3.3525779",
         "3.3695929",
         "3.3605349",
         "3.358057",
         "3.403002",
         "3.397239",
         "3.4185519",
         "3.4172909",
         "3.4006939",
         "3.4312561",
         "3.430979",
         "3.4494829",
         "3.439754",
         "3.4450581",
         "3.4571841",
         "3.4510479",
         "3.459306",
         "3.459563",
         "3.4655409",
         "3.463419",
         "3.4718399",
         "3.481019",
         "3.472518",
         "3.469311",
         "3.470407",
         "3.4763999",
         "3.4754691",
         "3.489783",
         "3.477772",
         "3.4904909",
         "3.455621",
         "3.485518",
         "3.4666619",
         "3.4616809",
         "3.4709771",
         "3.4868629",
         "3.4736209",
         "3.49949",
         "3.5092411",
         "3.5126801",
         "3.4954369",
         "3.486522",
         "3.5166931",
         "3.4779091",
         "3.5181329",
         "3.5137241",
         "3.5138509",
         "3.487042",
         "3.509048",
         "3.5548079",
         "3.558094",
         "3.532954",
         "3.54983",
         "3.543714",
         "3.546591",
         "3.562233",
         "3.5799811",
         "3.5644369",
         "3.56933",
         "3.5668709",
         "3.5668859",
         "3.580904",
         "3.56231",
         "3.55407",
         "3.560118",
         "3.567481",
         "3.541245",
         "3.507767",
         "3.5466399",
         "3.5574861",
         "3.5510211",
         "3.5336821",
         "3.527487",
         "3.5129881",
         "3.5086319",
         "3.503392",
         "3.4833629",
         "3.4645491",
         "3.4717071",
         "3.445492",
         "3.4427919",
         "3.4274249",
         "3.4129031",
         "3.423629",
         "3.4194951",
         "3.3953199",
         "3.386651",
         "3.383889",
         "3.374217",
         "3.368068",
         "3.3522091",
         "3.3147709",
         "3.317107",
         "3.282809",
         "3.264277",
         "3.2444949",
         "3.233429",
         "3.244694",
         "3.2448721",
         "3.270112",
         "3.283715",
         "3.292661",
         "3.302701",
         "3.2909629",
         "3.297317",
         "3.298856",
         "3.2968509",
         "3.30288",
         "3.310415",
         "3.2910681",
         "3.2932861",
         "3.328258",
         "3.3224411",
         "3.3336101",
         "3.3411551",
         "3.3726339",
         "3.3696239",
         "3.3720591",
         "3.3676651",
         "3.374357",
         "3.3932581",
         "3.4016919",
         "3.411437",
         "3.456105",
         "3.4436929",
         "3.457113",
         "3.4720409",
         "3.503798",
         "3.5165491",
         "3.5491099",
         "3.598274",
         "3.6494329",
         "3.662652",
         "3.6862969",
         "3.7241919",
         "3.7568581",
         "3.7804639",
         "3.7747171",
         "3.798959",
         "3.7928989",
         "3.8093691",
         "3.8190091",
         "3.80459",
         "3.8275609",
         "3.8259499",
         "3.781347",
         "3.8102131",
         "3.7683921",
         "3.7713521",
         "3.7645831",
         "3.7765579",
         "3.7227011",
         "3.7494199",
         "3.772315",
         "3.7457311",
         "3.754699",
         "3.809231",
         "3.7321849",
         "3.805599",
         "3.742461",
         "3.7435319",
         "3.766516",
         "3.7932069",
         "3.772841",
         "3.7445409",
         "3.72469",
         "3.7102661",
         "3.750736",
         "3.6897531",
         "3.6640561",
         "3.705718",
         "3.678323",
         "3.6877389",
         "3.7167621",
         "3.6926761",
         "3.7061291",
         "3.695657",
         "3.698452",
         "3.746119",
         "3.6905689",
         "3.663975",
         "3.6731241",
         "3.719239",
         "3.66998",
         "3.684612",
         "3.7312551",
         "3.7175491",
         "3.7467771",
         "3.7262461",
         "3.752537",
         "3.6897559",
         "3.7343559",
         "3.720408",
         "3.73318",
         "3.7404809",
         "3.7368989",
         "3.707382",
         "3.7328229",
         "3.753408",
         "3.738332",
         "3.740721",
         "3.7534151",
         "3.7302289",
         "3.7208519",
         "3.7335639",
         "3.729949",
         "3.7133639",
         "3.7177839",
         "3.745156",
         "3.7271359",
         "3.7328041",
         "3.734298",
         "3.721858",
         "3.6644371",
         "3.7203259",
         "3.7385249",
         "3.695739",
         "3.7090919",
         "3.748579",
         "3.693079",
         "3.646199",
         "3.646167",
         "3.681149",
         "3.604378",
         "3.609657",
         "3.608129",
         "3.6136439",
         "3.5476611",
         "3.5857241",
         "3.5617449",
         "3.5907331",
         "3.541738",
         "3.569814",
         "3.5683501",
         "3.5284519",
         "3.518852",
         "3.540992",
         "3.4775031",
         "3.5067439",
         "3.4762969",
         "3.4691069",
         "3.4555881",
         "3.481945",
         "3.462554",
         "3.4709411",
         "3.469187",
         "3.447607",
         "3.4617839",
         "3.454097",
         "3.445755",
         "3.4363461",
         "3.4431",
         "3.4254379",
         "3.452966",
         "3.4091289",
         "3.4166291",
         "3.4073751",
         "3.38748",
         "3.392765",
         "3.3560319",
         "3.411777",
         "3.3927021",
         "3.3844271",
         "3.4393289",
         "3.402972",
         "3.376941",
         "3.3580461",
         "3.378813",
         "3.375268",
         "3.3609121",
         "3.3718221",
         "3.3444531",
         "3.3594811",
         "3.323756",
         "3.379292",
         "3.3311851",
         "3.3431981",
         "3.347213",
         "3.3491189",
         "3.3474879",
         "3.3382821",
         "3.340265",
         "3.348881",
         "3.357882",
         "3.372118",
         "3.3517251",
         "3.3499291",
         "3.349813",
         "3.3338399",
         "3.388319",
         "3.4075749",
         "3.385829",
         "3.405952",
         "3.3826809",
         "3.3805749",
         "3.3836429",
         "3.3609159",
         "3.3670781",
         "3.3703229",
         "3.3478351",
         "3.364161",
         "3.355926",
         "3.3872581",
         "3.373564",
         "3.35691",
         "3.4134901",
         "3.381804",
         "3.4027359",
         "3.4251921",
         "3.386024",
         "3.3743241",
         "3.4458749",
         "3.420033",
         "3.4222209",
         "3.413353",
         "3.427108",
         "3.4120369",
         "3.4548621",
         "3.473598",
         "3.4396961",
         "3.4632771",
         "3.440897",
         "3.460886",
         "3.4880991",
         "3.4811971",
         "3.5324471",
         "3.5224481",
         "3.4945731",
         "3.5103409",
         "3.512527",
         "3.5140691",
         "3.5332429",
         "3.5354991",
         "3.5373449",
         "3.5599279",
         "3.556783",
         "3.571712",
         "3.587728",
         "3.555232",
         "3.5367739",
         "3.6175511",
         "3.6427181",
         "3.6761341",
         "3.562794",
         "3.570842",
         "3.616807",
         "3.613708",
         "3.5977781",
         "3.542098",
         "3.624465",
         "3.564697",
         "3.5667541",
         "3.63274",
         "3.738945",
         "3.6016769",
         "3.5929551",
         "3.6062679",
         "3.657218",
         "3.632019",
         "3.6609011",
         "3.6359191",
         "3.6715391"
        ],
        [
         "2",
         "0.241651",
         "0.254431",
         "0.261214",
         "0.267891",
         "0.275535",
         "0.28337",
         "0.291886",
         "0.302335",
         "0.313625",
         "0.327746",
         "0.345135",
         "0.365266",
         "0.391281",
         "0.422705",
         "0.45821",
         "0.504667",
         "0.554611",
         "0.612173",
         "0.679051",
         "0.746321",
         "0.821296",
         "0.898253",
         "0.971847",
         "1.050992",
         "1.1232589",
         "1.18779",
         "1.246694",
         "1.2926641",
         "1.330894",
         "1.363408",
         "1.387532",
         "1.409431",
         "1.426805",
         "1.441051",
         "1.4551049",
         "1.467423",
         "1.479143",
         "1.491271",
         "1.50196",
         "1.5124739",
         "1.522148",
         "1.530485",
         "1.538425",
         "1.544402",
         "1.548964",
         "1.552675",
         "1.554768",
         "1.55531",
         "1.554251",
         "1.551919",
         "1.547902",
         "1.543113",
         "1.537364",
         "1.530264",
         "1.523194",
         "1.515361",
         "1.507236",
         "1.4994431",
         "1.490533",
         "1.482114",
         "1.473752",
         "1.464535",
         "1.4559751",
         "1.4469841",
         "1.43771",
         "1.429013",
         "1.419677",
         "1.410789",
         "1.402239",
         "1.392886",
         "1.384369",
         "1.3760771",
         "1.3677109",
         "1.360388",
         "1.353008",
         "1.346465",
         "1.340802",
         "1.335575",
         "1.331567",
         "1.328591",
         "1.326441",
         "1.325725",
         "1.326188",
         "1.328568",
         "1.3320529",
         "1.337781",
         "1.344699",
         "1.3536561",
         "1.364861",
         "1.377309",
         "1.392622",
         "1.409883",
         "1.428517",
         "1.45156",
         "1.475246",
         "1.501756",
         "1.532289",
         "1.563216",
         "1.598924",
         "1.636952",
         "1.676005",
         "1.722504",
         "1.769105",
         "1.81935",
         "1.876013",
         "1.931026",
         "1.993749",
         "2.057719",
         "2.1206861",
         "2.193228",
         "2.2628989",
         "2.3336589",
         "2.4072101",
         "2.4726219",
         "2.5409811",
         "2.6065831",
         "2.664464",
         "2.717607",
         "2.7628441",
         "2.8109109",
         "2.846369",
         "2.8766501",
         "2.9053371",
         "2.931978",
         "2.952713",
         "2.9689579",
         "2.983659",
         "3.003057",
         "3.018538",
         "3.0344219",
         "3.042588",
         "3.0666659",
         "3.070456",
         "3.085155",
         "3.104048",
         "3.1101749",
         "3.1168211",
         "3.12078",
         "3.132241",
         "3.1416481",
         "3.148947",
         "3.1475179",
         "3.1575711",
         "3.160193",
         "3.1790521",
         "3.1723311",
         "3.1892321",
         "3.1889169",
         "3.1981461",
         "3.195452",
         "3.201813",
         "3.2022901",
         "3.202626",
         "3.2218549",
         "3.214124",
         "3.2187679",
         "3.2203579",
         "3.226644",
         "3.230217",
         "3.235177",
         "3.2333219",
         "3.2392931",
         "3.251148",
         "3.246845",
         "3.260617",
         "3.2615371",
         "3.2731569",
         "3.259414",
         "3.268734",
         "3.272445",
         "3.2891469",
         "3.280951",
         "3.288131",
         "3.287585",
         "3.295943",
         "3.2936921",
         "3.298877",
         "3.293957",
         "3.3121891",
         "3.3227921",
         "3.320004",
         "3.3326139",
         "3.3263421",
         "3.328017",
         "3.3225191",
         "3.3379841",
         "3.3262",
         "3.3495131",
         "3.33933",
         "3.342334",
         "3.3275371",
         "3.340399",
         "3.3218601",
         "3.3413479",
         "3.3363149",
         "3.3140659",
         "3.3191631",
         "3.311368",
         "3.3424201",
         "3.316772",
         "3.2855871",
         "3.298712",
         "3.28511",
         "3.301728",
         "3.3026841",
         "3.295821",
         "3.307251",
         "3.2937219",
         "3.322015",
         "3.3276701",
         "3.340086",
         "3.3475759",
         "3.3698289",
         "3.369962",
         "3.382817",
         "3.391022",
         "3.3725691",
         "3.394608",
         "3.3901911",
         "3.411206",
         "3.4193759",
         "3.4154971",
         "3.4234021",
         "3.424015",
         "3.4486849",
         "3.428853",
         "3.458195",
         "3.4704261",
         "3.442858",
         "3.450376",
         "3.470226",
         "3.4498229",
         "3.4567721",
         "3.4780149",
         "3.449775",
         "3.454879",
         "3.440995",
         "3.4710519",
         "3.4687481",
         "3.4632151",
         "3.4473031",
         "3.476614",
         "3.4657381",
         "3.5120101",
         "3.4968579",
         "3.478765",
         "3.4865019",
         "3.493",
         "3.487025",
         "3.488646",
         "3.482888",
         "3.469167",
         "3.4853809",
         "3.484489",
         "3.4876001",
         "3.5231011",
         "3.502825",
         "3.5414491",
         "3.528796",
         "3.52371",
         "3.5339561",
         "3.5224011",
         "3.531853",
         "3.526109",
         "3.554765",
         "3.557492",
         "3.5578871",
         "3.5398901",
         "3.546535",
         "3.554039",
         "3.5835199",
         "3.570709",
         "3.5660591",
         "3.5407591",
         "3.597651",
         "3.565552",
         "3.5679679",
         "3.564163",
         "3.5570209",
         "3.5458319",
         "3.5634811",
         "3.5490961",
         "3.562665",
         "3.4914539",
         "3.526011",
         "3.524178",
         "3.510607",
         "3.524821",
         "3.4881611",
         "3.4747701",
         "3.4909329",
         "3.4725571",
         "3.4738779",
         "3.459888",
         "3.434787",
         "3.422425",
         "3.4140511",
         "3.413075",
         "3.3976221",
         "3.3922889",
         "3.3886991",
         "3.3701129",
         "3.370399",
         "3.38079",
         "3.3370781",
         "3.3076401",
         "3.2807319",
         "3.251956",
         "3.2604611",
         "3.24509",
         "3.254524",
         "3.25542",
         "3.268888",
         "3.272372",
         "3.2915959",
         "3.291903",
         "3.284276",
         "3.2938859",
         "3.2986259",
         "3.2950671",
         "3.3039241",
         "3.302763",
         "3.316988",
         "3.313895",
         "3.3319089",
         "3.363049",
         "3.3427091",
         "3.354768",
         "3.3769169",
         "3.3585739",
         "3.384568",
         "3.386992",
         "3.4098649",
         "3.371037",
         "3.411144",
         "3.4145141",
         "3.4308231",
         "3.4359779",
         "3.4661019",
         "3.4704959",
         "3.492568",
         "3.509923",
         "3.5610399",
         "3.5772741",
         "3.6338589",
         "3.641474",
         "3.6688659",
         "3.737464",
         "3.7755239",
         "3.8587959",
         "3.810725",
         "3.853826",
         "3.8295081",
         "3.800297",
         "3.862252",
         "3.817493",
         "3.8346069",
         "3.883183",
         "3.8381989",
         "3.8098519",
         "3.7276909",
         "3.7802839",
         "3.7688141",
         "3.7687459",
         "3.7630141",
         "3.7351301",
         "3.7625129",
         "3.773936",
         "3.760747",
         "3.788312",
         "3.7853079",
         "3.791502",
         "3.7323",
         "3.7496071",
         "3.755064",
         "3.749027",
         "3.768064",
         "3.744478",
         "3.7052369",
         "3.665628",
         "3.733485",
         "3.7156219",
         "3.7363789",
         "3.743655",
         "3.7262399",
         "3.7072549",
         "3.697679",
         "3.711211",
         "3.6777129",
         "3.7168641",
         "3.6984141",
         "3.7753429",
         "3.7200961",
         "3.726932",
         "3.6556699",
         "3.687984",
         "3.7008359",
         "3.7006619",
         "3.6887801",
         "3.7400961",
         "3.7217231",
         "3.6823809",
         "3.7567179",
         "3.699614",
         "3.7371089",
         "3.699728",
         "3.7574241",
         "3.725158",
         "3.7034221",
         "3.7046981",
         "3.7165949",
         "3.7626359",
         "3.7328041",
         "3.696861",
         "3.738559",
         "3.6661041",
         "3.766839",
         "3.691052",
         "3.718677",
         "3.693614",
         "3.6389389",
         "3.7091529",
         "3.6775169",
         "3.7376609",
         "3.750242",
         "3.7037439",
         "3.7279999",
         "3.692929",
         "3.677073",
         "3.6646531",
         "3.6574261",
         "3.708138",
         "3.638037",
         "3.6586649",
         "3.675329",
         "3.5943551",
         "3.6135421",
         "3.602963",
         "3.610126",
         "3.576596",
         "3.5594549",
         "3.5781219",
         "3.563777",
         "3.5596919",
         "3.5802219",
         "3.5074401",
         "3.541522",
         "3.517323",
         "3.4702809",
         "3.50842",
         "3.5026889",
         "3.47839",
         "3.5009291",
         "3.4920199",
         "3.458251",
         "3.4868951",
         "3.463136",
         "3.4539239",
         "3.460264",
         "3.455791",
         "3.4392581",
         "3.437592",
         "3.410614",
         "3.447948",
         "3.451324",
         "3.4383199",
         "3.423908",
         "3.426028",
         "3.3918381",
         "3.428612",
         "3.431668",
         "3.4280961",
         "3.4240601",
         "3.4120829",
         "3.393245",
         "3.408144",
         "3.394043",
         "3.363215",
         "3.3852971",
         "3.362859",
         "3.369837",
         "3.3635001",
         "3.4058199",
         "3.3393209",
         "3.32954",
         "3.335906",
         "3.328445",
         "3.329592",
         "3.319447",
         "3.340023",
         "3.3462391",
         "3.3248291",
         "3.351012",
         "3.3679299",
         "3.335691",
         "3.351259",
         "3.3478341",
         "3.3460431",
         "3.349978",
         "3.359463",
         "3.345403",
         "3.3872819",
         "3.3737521",
         "3.346926",
         "3.3470061",
         "3.389024",
         "3.3542039",
         "3.3594921",
         "3.3456869",
         "3.371078",
         "3.390609",
         "3.3903489",
         "3.360235",
         "3.3577199",
         "3.3850329",
         "3.3642919",
         "3.3716741",
         "3.3500249",
         "3.3824301",
         "3.3667541",
         "3.377285",
         "3.4029479",
         "3.3853199",
         "3.376477",
         "3.3893189",
         "3.431082",
         "3.39182",
         "3.4108109",
         "3.431263",
         "3.433917",
         "3.4257929",
         "3.440552",
         "3.4514871",
         "3.4540961",
         "3.5012119",
         "3.4430599",
         "3.4738581",
         "3.417254",
         "3.501991",
         "3.5059221",
         "3.498044",
         "3.5202579",
         "3.5590751",
         "3.513047",
         "3.44978",
         "3.589767",
         "3.570586",
         "3.541642",
         "3.5100369",
         "3.6377599",
         "3.5565801",
         "3.5923541",
         "3.627075",
         "3.558059",
         "3.5351911",
         "3.604099",
         "3.5360789",
         "3.5649109",
         "3.6168671",
         "3.6435831",
         "3.6408801",
         "3.61816",
         "3.62991",
         "3.652128",
         "3.6471789",
         "3.563812",
         "3.622122",
         "3.6175981",
         "3.6523149",
         "3.5901501",
         "3.710362",
         "3.630672",
         "3.6530631",
         "3.5668371",
         "3.704355"
        ],
        [
         "3",
         "0.23965",
         "0.25235",
         "0.259107",
         "0.265761",
         "0.27339",
         "0.281214",
         "0.289725",
         "0.300164",
         "0.311455",
         "0.325609",
         "0.343023",
         "0.363249",
         "0.389417",
         "0.420956",
         "0.456628",
         "0.503295",
         "0.553573",
         "0.611264",
         "0.678172",
         "0.745576",
         "0.820476",
         "0.89735",
         "0.970773",
         "1.049607",
         "1.121637",
         "1.185787",
         "1.2445101",
         "1.2903",
         "1.3286999",
         "1.361259",
         "1.3855619",
         "1.407756",
         "1.425274",
         "1.440295",
         "1.454803",
         "1.467867",
         "1.48057",
         "1.493565",
         "1.5046721",
         "1.515703",
         "1.5250731",
         "1.5329649",
         "1.539747",
         "1.544499",
         "1.548069",
         "1.5504251",
         "1.551427",
         "1.551051",
         "1.5491821",
         "1.545854",
         "1.5411429",
         "1.535306",
         "1.528541",
         "1.520709",
         "1.513119",
         "1.504527",
         "1.4955159",
         "1.4869699",
         "1.477724",
         "1.46848",
         "1.459609",
         "1.449937",
         "1.440713",
         "1.431457",
         "1.421864",
         "1.4130369",
         "1.403383",
         "1.394336",
         "1.385491",
         "1.376166",
         "1.367625",
         "1.359229",
         "1.350849",
         "1.343493",
         "1.3360879",
         "1.329545",
         "1.323851",
         "1.318714",
         "1.314646",
         "1.3115979",
         "1.309487",
         "1.308847",
         "1.309302",
         "1.311493",
         "1.31481",
         "1.320263",
         "1.327073",
         "1.335839",
         "1.3469141",
         "1.359163",
         "1.3742059",
         "1.391493",
         "1.409632",
         "1.432249",
         "1.455647",
         "1.481895",
         "1.5120569",
         "1.542475",
         "1.5778559",
         "1.6156811",
         "1.654285",
         "1.700559",
         "1.746657",
         "1.7969379",
         "1.852777",
         "1.908101",
         "1.970194",
         "2.0349219",
         "2.0986991",
         "2.1711409",
         "2.2397909",
         "2.3120511",
         "2.385577",
         "2.4525881",
         "2.5217481",
         "2.5867369",
         "2.6473899",
         "2.703567",
         "2.7471671",
         "2.795361",
         "2.8364949",
         "2.8720889",
         "2.8981299",
         "2.926271",
         "2.947984",
         "2.961529",
         "2.979851",
         "3.002928",
         "3.0126309",
         "3.0306151",
         "3.042958",
         "3.056356",
         "3.068558",
         "3.0848761",
         "3.095638",
         "3.1083839",
         "3.115906",
         "3.1245601",
         "3.1305709",
         "3.137471",
         "3.1494219",
         "3.1579609",
         "3.1566579",
         "3.165204",
         "3.176223",
         "3.1863749",
         "3.1803579",
         "3.1860411",
         "3.1906941",
         "3.1984451",
         "3.194793",
         "3.198334",
         "3.2144711",
         "3.2099371",
         "3.213052",
         "3.224658",
         "3.228858",
         "3.2316821",
         "3.2251019",
         "3.234468",
         "3.2452421",
         "3.2403719",
         "3.2488129",
         "3.2498069",
         "3.253149",
         "3.2656419",
         "3.2615571",
         "3.254205",
         "3.2616301",
         "3.2685261",
         "3.286387",
         "3.287024",
         "3.282007",
         "3.294811",
         "3.2932639",
         "3.2960911",
         "3.299912",
         "3.3090479",
         "3.3120041",
         "3.317518",
         "3.3115239",
         "3.318383",
         "3.315186",
         "3.32265",
         "3.3334229",
         "3.335443",
         "3.3359799",
         "3.3384509",
         "3.3530619",
         "3.3479359",
         "3.337265",
         "3.346529",
         "3.3375671",
         "3.3340631",
         "3.3313701",
         "3.3208001",
         "3.332535",
         "3.3239651",
         "3.2996621",
         "3.3027411",
         "3.299485",
         "3.3130641",
         "3.291302",
         "3.2999139",
         "3.304693",
         "3.30235",
         "3.308748",
         "3.296119",
         "3.3066969",
         "3.329664",
         "3.346735",
         "3.357985",
         "3.3565769",
         "3.3658199",
         "3.3697929",
         "3.3895421",
         "3.4034441",
         "3.389941",
         "3.413007",
         "3.4057889",
         "3.415292",
         "3.4213679",
         "3.4358909",
         "3.446754",
         "3.436692",
         "3.4518199",
         "3.450917",
         "3.454659",
         "3.4657071",
         "3.4595909",
         "3.4665411",
         "3.4723611",
         "3.450139",
         "3.467782",
         "3.4643359",
         "3.4681649",
         "3.459126",
         "3.468879",
         "3.4667909",
         "3.4868431",
         "3.481235",
         "3.471451",
         "3.470557",
         "3.476402",
         "3.476192",
         "3.4806969",
         "3.464334",
         "3.469759",
         "3.4868569",
         "3.4844041",
         "3.492099",
         "3.471029",
         "3.4843581",
         "3.4851451",
         "3.496834",
         "3.5213511",
         "3.5012851",
         "3.507771",
         "3.5151801",
         "3.5212181",
         "3.5290129",
         "3.513572",
         "3.546191",
         "3.5590489",
         "3.534987",
         "3.547148",
         "3.537904",
         "3.553663",
         "3.566992",
         "3.5616231",
         "3.5710521",
         "3.5891039",
         "3.5574319",
         "3.5679829",
         "3.5511899",
         "3.576071",
         "3.5759161",
         "3.5710959",
         "3.5636539",
         "3.5462811",
         "3.5690031",
         "3.5476041",
         "3.5335121",
         "3.5348771",
         "3.5103929",
         "3.5198979",
         "3.508081",
         "3.506278",
         "3.484859",
         "3.4745901",
         "3.4796481",
         "3.4647651",
         "3.463526",
         "3.4521301",
         "3.4202521",
         "3.445555",
         "3.4090419",
         "3.409889",
         "3.399431",
         "3.4025581",
         "3.394505",
         "3.3759589",
         "3.372581",
         "3.343076",
         "3.33535",
         "3.311013",
         "3.2816031",
         "3.2736959",
         "3.2509849",
         "3.2347341",
         "3.249474",
         "3.267678",
         "3.281352",
         "3.2886319",
         "3.2988939",
         "3.2968459",
         "3.2883339",
         "3.2990479",
         "3.301641",
         "3.2941921",
         "3.301975",
         "3.29231",
         "3.3143311",
         "3.301008",
         "3.3041849",
         "3.343209",
         "3.3575311",
         "3.3532939",
         "3.3642349",
         "3.3592911",
         "3.388272",
         "3.3829019",
         "3.3970749",
         "3.387665",
         "3.414598",
         "3.4163661",
         "3.424536",
         "3.4367521",
         "3.4698501",
         "3.4964621",
         "3.5059509",
         "3.535084",
         "3.5776711",
         "3.598547",
         "3.6222789",
         "3.642787",
         "3.7051821",
         "3.741693",
         "3.76724",
         "3.7618361",
         "3.8016109",
         "3.8418579",
         "3.788023",
         "3.8536129",
         "3.8244481",
         "3.8171339",
         "3.855443",
         "3.811322",
         "3.8891139",
         "3.835243",
         "3.7727771",
         "3.7976971",
         "3.8166111",
         "3.783632",
         "3.7476931",
         "3.7705481",
         "3.75193",
         "3.71806",
         "3.7488711",
         "3.747129",
         "3.793355",
         "3.7812879",
         "3.74261",
         "3.75915",
         "3.7441001",
         "3.8274119",
         "3.733304",
         "3.7786059",
         "3.7718489",
         "3.7283411",
         "3.7243531",
         "3.7550249",
         "3.7403221",
         "3.7062919",
         "3.6693931",
         "3.7476671",
         "3.745343",
         "3.7105279",
         "3.7167909",
         "3.7206049",
         "3.7209101",
         "3.6665871",
         "3.679651",
         "3.7251899",
         "3.656224",
         "3.7125111",
         "3.6775751",
         "3.719743",
         "3.6908579",
         "3.7179599",
         "3.7314091",
         "3.70699",
         "3.720185",
         "3.704854",
         "3.76598",
         "3.740833",
         "3.6970429",
         "3.783283",
         "3.715523",
         "3.7005129",
         "3.7245729",
         "3.7215869",
         "3.7276371",
         "3.782191",
         "3.7298141",
         "3.7104139",
         "3.7154529",
         "3.62591",
         "3.7526381",
         "3.718858",
         "3.6966541",
         "3.6889751",
         "3.703928",
         "3.7027609",
         "3.6922929",
         "3.7010789",
         "3.7314999",
         "3.685539",
         "3.6879721",
         "3.7032449",
         "3.6924109",
         "3.662329",
         "3.6591921",
         "3.64152",
         "3.6536331",
         "3.6481309",
         "3.655937",
         "3.6055939",
         "3.574295",
         "3.5824831",
         "3.6351831",
         "3.594214",
         "3.6182389",
         "3.5568409",
         "3.5910921",
         "3.5399599",
         "3.5733981",
         "3.552073",
         "3.5429809",
         "3.5264981",
         "3.5327599",
         "3.5150421",
         "3.48564",
         "3.499825",
         "3.4955449",
         "3.509414",
         "3.469578",
         "3.447902",
         "3.4969871",
         "3.4809799",
         "3.4738691",
         "3.4349699",
         "3.456476",
         "3.4461341",
         "3.4457159",
         "3.438174",
         "3.42377",
         "3.412791",
         "3.4382491",
         "3.447289",
         "3.407542",
         "3.410064",
         "3.405973",
         "3.3895111",
         "3.390043",
         "3.4061911",
         "3.382653",
         "3.365576",
         "3.371871",
         "3.3824511",
         "3.3661489",
         "3.352581",
         "3.375459",
         "3.3499219",
         "3.3462069",
         "3.372829",
         "3.351995",
         "3.3443129",
         "3.3300669",
         "3.328805",
         "3.3622701",
         "3.3599279",
         "3.3518419",
         "3.3554831",
         "3.361728",
         "3.3719471",
         "3.3897891",
         "3.338798",
         "3.376616",
         "3.39026",
         "3.3554211",
         "3.3629539",
         "3.3713701",
         "3.392797",
         "3.3958759",
         "3.4194691",
         "3.3742869",
         "3.3971391",
         "3.3768189",
         "3.3775511",
         "3.3704009",
         "3.3705001",
         "3.374649",
         "3.3603711",
         "3.381367",
         "3.373919",
         "3.3753741",
         "3.374989",
         "3.3631539",
         "3.3734369",
         "3.3852539",
         "3.4032471",
         "3.389394",
         "3.3668809",
         "3.390707",
         "3.3946469",
         "3.4257691",
         "3.430974",
         "3.430959",
         "3.4763031",
         "3.4634261",
         "3.4365649",
         "3.439548",
         "3.4608281",
         "3.460721",
         "3.5074699",
         "3.5085261",
         "3.469826",
         "3.52126",
         "3.473042",
         "3.511097",
         "3.5222809",
         "3.488868",
         "3.511173",
         "3.5297771",
         "3.561836",
         "3.5405979",
         "3.594178",
         "3.5281291",
         "3.536612",
         "3.6247499",
         "3.5926559",
         "3.5764179",
         "3.6049221",
         "3.653816",
         "3.5782759",
         "3.613873",
         "3.6400609",
         "3.6235859",
         "3.639992",
         "3.6248291",
         "3.667454",
         "3.6260841",
         "3.6092811",
         "3.660624",
         "3.583575",
         "3.620621",
         "3.6823781",
         "3.6810441",
         "3.650404",
         "3.645983",
         "3.6332221",
         "3.6687269",
         "3.6504321",
         "3.6872599"
        ],
        [
         "4",
         "0.240787",
         "0.253521",
         "0.260278",
         "0.266935",
         "0.274576",
         "0.28242",
         "0.290953",
         "0.301394",
         "0.31272",
         "0.326881",
         "0.344368",
         "0.364592",
         "0.390783",
         "0.422337",
         "0.458096",
         "0.504799",
         "0.555055",
         "0.612851",
         "0.679818",
         "0.747369",
         "0.822241",
         "0.899086",
         "0.972545",
         "1.0515651",
         "1.123746",
         "1.187874",
         "1.2468311",
         "1.292761",
         "1.331225",
         "1.363814",
         "1.388292",
         "1.4102809",
         "1.428057",
         "1.442968",
         "1.45788",
         "1.470685",
         "1.483429",
         "1.496505",
         "1.507712",
         "1.518623",
         "1.528131",
         "1.5360039",
         "1.542474",
         "1.547267",
         "1.55064",
         "1.55275",
         "1.55382",
         "1.553248",
         "1.5512021",
         "1.547735",
         "1.542855",
         "1.5371701",
         "1.530388",
         "1.52238",
         "1.514546",
         "1.505968",
         "1.496791",
         "1.488149",
         "1.478791",
         "1.469658",
         "1.460569",
         "1.450761",
         "1.4416879",
         "1.43224",
         "1.422565",
         "1.41388",
         "1.404223",
         "1.394997",
         "1.386302",
         "1.376819",
         "1.368389",
         "1.359898",
         "1.3514301",
         "1.344135",
         "1.336807",
         "1.330274",
         "1.324591",
         "1.319405",
         "1.315312",
         "1.312296",
         "1.310199",
         "1.309489",
         "1.3100719",
         "1.312217",
         "1.3155431",
         "1.3211319",
         "1.3279279",
         "1.33681",
         "1.347739",
         "1.360029",
         "1.37507",
         "1.392294",
         "1.410485",
         "1.433069",
         "1.456547",
         "1.4828089",
         "1.512971",
         "1.543619",
         "1.578755",
         "1.616806",
         "1.655537",
         "1.7014641",
         "1.747848",
         "1.79766",
         "1.853904",
         "1.908968",
         "1.971303",
         "2.03583",
         "2.1002071",
         "2.1719129",
         "2.2410951",
         "2.312407",
         "2.3870809",
         "2.4539421",
         "2.5240369",
         "2.589416",
         "2.6478391",
         "2.702841",
         "2.752883",
         "2.7931089",
         "2.8370979",
         "2.867574",
         "2.8998539",
         "2.9238169",
         "2.944792",
         "2.9670839",
         "2.9808741",
         "3.0006199",
         "3.0209529",
         "3.0320699",
         "3.0400109",
         "3.054044",
         "3.0681479",
         "3.082463",
         "3.0956271",
         "3.1012111",
         "3.1147089",
         "3.120605",
         "3.131079",
         "3.1349649",
         "3.1386909",
         "3.161654",
         "3.1634901",
         "3.1739891",
         "3.1823189",
         "3.190141",
         "3.1741581",
         "3.196018",
         "3.189707",
         "3.20277",
         "3.206002",
         "3.2170241",
         "3.22019",
         "3.2094121",
         "3.214931",
         "3.2317009",
         "3.230778",
         "3.229398",
         "3.239186",
         "3.2439849",
         "3.2481589",
         "3.2454979",
         "3.248842",
         "3.251507",
         "3.2576261",
         "3.2675951",
         "3.2612801",
         "3.2706039",
         "3.261924",
         "3.2664349",
         "3.2768509",
         "3.282635",
         "3.2920101",
         "3.2826631",
         "3.294673",
         "3.3084021",
         "3.2937989",
         "3.312181",
         "3.3130629",
         "3.314924",
         "3.3219409",
         "3.321919",
         "3.3101671",
         "3.3393309",
         "3.330759",
         "3.3302109",
         "3.326447",
         "3.335439",
         "3.3405831",
         "3.3467791",
         "3.341924",
         "3.3349669",
         "3.345418",
         "3.3473649",
         "3.3324499",
         "3.3030989",
         "3.321692",
         "3.3435669",
         "3.315062",
         "3.324594",
         "3.3162391",
         "3.3003731",
         "3.2862279",
         "3.310076",
         "3.317858",
         "3.296715",
         "3.306252",
         "3.2957389",
         "3.3270581",
         "3.3582959",
         "3.35379",
         "3.322125",
         "3.3431039",
         "3.3662491",
         "3.369699",
         "3.357403",
         "3.396611",
         "3.3979721",
         "3.3944781",
         "3.415885",
         "3.4577351",
         "3.419631",
         "3.4334021",
         "3.434294",
         "3.4381111",
         "3.4433801",
         "3.4523101",
         "3.4693551",
         "3.4710569",
         "3.4541831",
         "3.4471591",
         "3.4608481",
         "3.467478",
         "3.451236",
         "3.4818721",
         "3.4762819",
         "3.451159",
         "3.4628069",
         "3.4715061",
         "3.45911",
         "3.4611299",
         "3.4569869",
         "3.473505",
         "3.4668429",
         "3.475575",
         "3.471581",
         "3.4664619",
         "3.480464",
         "3.486274",
         "3.4895389",
         "3.482096",
         "3.4750631",
         "3.508317",
         "3.4961929",
         "3.4951749",
         "3.502902",
         "3.5172241",
         "3.5252709",
         "3.5241101",
         "3.5165491",
         "3.5403841",
         "3.5334001",
         "3.534837",
         "3.558821",
         "3.545903",
         "3.544786",
         "3.5481279",
         "3.553755",
         "3.5362251",
         "3.574146",
         "3.5848939",
         "3.5750999",
         "3.5781479",
         "3.5628259",
         "3.5603149",
         "3.5918219",
         "3.574991",
         "3.5688241",
         "3.549716",
         "3.564409",
         "3.5691381",
         "3.5488789",
         "3.534035",
         "3.5081799",
         "3.5214131",
         "3.537945",
         "3.508286",
         "3.5120139",
         "3.5207579",
         "3.465611",
         "3.4754241",
         "3.466923",
         "3.457263",
         "3.446321",
         "3.4438131",
         "3.4435639",
         "3.4183271",
         "3.396852",
         "3.3915141",
         "3.399586",
         "3.3853531",
         "3.377723",
         "3.353456",
         "3.3465381",
         "3.337991",
         "3.3146651",
         "3.2802911",
         "3.253952",
         "3.252872",
         "3.247051",
         "3.247196",
         "3.2537129",
         "3.27827",
         "3.273876",
         "3.2928569",
         "3.2993169",
         "3.3103271",
         "3.3113799",
         "3.3009701",
         "3.2839119",
         "3.301734",
         "3.3162229",
         "3.319927",
         "3.3200021",
         "3.3282931",
         "3.334368",
         "3.319845",
         "3.362025",
         "3.349957",
         "3.3946271",
         "3.3824251",
         "3.3853171",
         "3.379838",
         "3.4183681",
         "3.3920929",
         "3.419997",
         "3.4260161",
         "3.45875",
         "3.4702179",
         "3.501054",
         "3.4906631",
         "3.5426421",
         "3.5400829",
         "3.5856421",
         "3.6161079",
         "3.6828229",
         "3.7641461",
         "3.7237649",
         "3.7647769",
         "3.8453021",
         "3.829037",
         "3.8539569",
         "3.8046911",
         "3.865464",
         "3.8716969",
         "3.79775",
         "3.8093171",
         "3.7742231",
         "3.851886",
         "3.7832129",
         "3.848295",
         "3.8085909",
         "3.805522",
         "3.813411",
         "3.8641169",
         "3.7646389",
         "3.7433851",
         "3.7551401",
         "3.7596619",
         "3.725317",
         "3.768775",
         "3.8012381",
         "3.787173",
         "3.7255161",
         "3.7511511",
         "3.7892561",
         "3.826319",
         "3.7317541",
         "3.7808919",
         "3.7744901",
         "3.7556319",
         "3.740154",
         "3.7626181",
         "3.7685449",
         "3.7695539",
         "3.7256739",
         "3.708199",
         "3.7126019",
         "3.709214",
         "3.731025",
         "3.7154429",
         "3.69909",
         "3.6977639",
         "3.6542201",
         "3.682611",
         "3.6845319",
         "3.697165",
         "3.7469859",
         "3.674252",
         "3.714267",
         "3.7154009",
         "3.757241",
         "3.717907",
         "3.8479061",
         "3.7030411",
         "3.682019",
         "3.7293589",
         "3.730485",
         "3.6641469",
         "3.7146001",
         "3.696672",
         "3.7120399",
         "3.6919751",
         "3.773958",
         "3.7003629",
         "3.722981",
         "3.726572",
         "3.711762",
         "3.751986",
         "3.735873",
         "3.740346",
         "3.6815331",
         "3.720818",
         "3.7412281",
         "3.694669",
         "3.6891451",
         "3.657388",
         "3.7098849",
         "3.6855409",
         "3.70101",
         "3.708004",
         "3.6343651",
         "3.7109411",
         "3.6904049",
         "3.669044",
         "3.6498351",
         "3.619658",
         "3.638154",
         "3.627147",
         "3.6537161",
         "3.604924",
         "3.572674",
         "3.5672591",
         "3.568995",
         "3.5826271",
         "3.591269",
         "3.5628631",
         "3.552315",
         "3.553853",
         "3.529171",
         "3.5195611",
         "3.499608",
         "3.4732449",
         "3.4657781",
         "3.480916",
         "3.471895",
         "3.4843121",
         "3.4570961",
         "3.490572",
         "3.501646",
         "3.4964671",
         "3.463202",
         "3.444453",
         "3.4375949",
         "3.4463861",
         "3.460371",
         "3.4349799",
         "3.429462",
         "3.3961821",
         "3.4141791",
         "3.4071801",
         "3.4117129",
         "3.4085209",
         "3.4193001",
         "3.4205401",
         "3.4001501",
         "3.3759501",
         "3.37342",
         "3.395494",
         "3.372714",
         "3.3875811",
         "3.3576479",
         "3.3988211",
         "3.351166",
         "3.3390689",
         "3.367244",
         "3.3361001",
         "3.3493819",
         "3.345114",
         "3.3441081",
         "3.3362441",
         "3.3636429",
         "3.3873949",
         "3.3195291",
         "3.342839",
         "3.3430071",
         "3.354605",
         "3.3439829",
         "3.34196",
         "3.3537531",
         "3.3881061",
         "3.3527",
         "3.3813331",
         "3.4014909",
         "3.3768001",
         "3.3719549",
         "3.40221",
         "3.408514",
         "3.383337",
         "3.403667",
         "3.373353",
         "3.391156",
         "3.3892519",
         "3.3662641",
         "3.3662181",
         "3.374239",
         "3.3954871",
         "3.3687501",
         "3.3937609",
         "3.37344",
         "3.3683109",
         "3.391886",
         "3.4004791",
         "3.4186399",
         "3.421982",
         "3.4413691",
         "3.3781919",
         "3.4322791",
         "3.4508369",
         "3.4374869",
         "3.4270201",
         "3.4192541",
         "3.508606",
         "3.449899",
         "3.484303",
         "3.4772129",
         "3.5049019",
         "3.5175741",
         "3.4879789",
         "3.517421",
         "3.507555",
         "3.5232229",
         "3.536206",
         "3.553509",
         "3.5713129",
         "3.5884149",
         "3.5994351",
         "3.6047139",
         "3.5642359",
         "3.5885539",
         "3.5769761",
         "3.6592491",
         "3.636838",
         "3.6037281",
         "3.60794",
         "3.5713229",
         "3.6209481",
         "3.652499",
         "3.644227",
         "3.6338539",
         "3.585911",
         "3.6840169",
         "3.585912",
         "3.570441",
         "3.678297",
         "3.6509061",
         "3.72894",
         "3.6147349",
         "3.6188419",
         "3.6567459",
         "3.622961",
         "3.560679",
         "3.710902",
         "3.653769",
         "3.663029"
        ]
       ],
       "shape": {
        "columns": 575,
        "rows": 5
       }
      },
      "text/html": [
       "<div>\n",
       "<style scoped>\n",
       "    .dataframe tbody tr th:only-of-type {\n",
       "        vertical-align: middle;\n",
       "    }\n",
       "\n",
       "    .dataframe tbody tr th {\n",
       "        vertical-align: top;\n",
       "    }\n",
       "\n",
       "    .dataframe thead th {\n",
       "        text-align: right;\n",
       "    }\n",
       "</style>\n",
       "<table border=\"1\" class=\"dataframe\">\n",
       "  <thead>\n",
       "    <tr style=\"text-align: right;\">\n",
       "      <th></th>\n",
       "      <th>V1</th>\n",
       "      <th>V3</th>\n",
       "      <th>V4</th>\n",
       "      <th>V5</th>\n",
       "      <th>V6</th>\n",
       "      <th>V7</th>\n",
       "      <th>V8</th>\n",
       "      <th>V9</th>\n",
       "      <th>V10</th>\n",
       "      <th>V11</th>\n",
       "      <th>...</th>\n",
       "      <th>V567</th>\n",
       "      <th>V568</th>\n",
       "      <th>V569</th>\n",
       "      <th>V570</th>\n",
       "      <th>V571</th>\n",
       "      <th>V572</th>\n",
       "      <th>V573</th>\n",
       "      <th>V574</th>\n",
       "      <th>V575</th>\n",
       "      <th>V576</th>\n",
       "    </tr>\n",
       "  </thead>\n",
       "  <tbody>\n",
       "    <tr>\n",
       "      <th>0</th>\n",
       "      <td>0.245288</td>\n",
       "      <td>0.258437</td>\n",
       "      <td>0.265449</td>\n",
       "      <td>0.272342</td>\n",
       "      <td>0.280249</td>\n",
       "      <td>0.288323</td>\n",
       "      <td>0.297118</td>\n",
       "      <td>0.307861</td>\n",
       "      <td>0.319456</td>\n",
       "      <td>0.333941</td>\n",
       "      <td>...</td>\n",
       "      <td>3.679895</td>\n",
       "      <td>3.654557</td>\n",
       "      <td>3.653983</td>\n",
       "      <td>3.714209</td>\n",
       "      <td>3.669642</td>\n",
       "      <td>3.625521</td>\n",
       "      <td>3.647152</td>\n",
       "      <td>3.573585</td>\n",
       "      <td>3.623088</td>\n",
       "      <td>3.679775</td>\n",
       "    </tr>\n",
       "    <tr>\n",
       "      <th>1</th>\n",
       "      <td>0.242613</td>\n",
       "      <td>0.255609</td>\n",
       "      <td>0.262486</td>\n",
       "      <td>0.269311</td>\n",
       "      <td>0.277092</td>\n",
       "      <td>0.285063</td>\n",
       "      <td>0.293715</td>\n",
       "      <td>0.304371</td>\n",
       "      <td>0.315839</td>\n",
       "      <td>0.330161</td>\n",
       "      <td>...</td>\n",
       "      <td>3.632740</td>\n",
       "      <td>3.738945</td>\n",
       "      <td>3.601677</td>\n",
       "      <td>3.592955</td>\n",
       "      <td>3.606268</td>\n",
       "      <td>3.657218</td>\n",
       "      <td>3.632019</td>\n",
       "      <td>3.660901</td>\n",
       "      <td>3.635919</td>\n",
       "      <td>3.671539</td>\n",
       "    </tr>\n",
       "    <tr>\n",
       "      <th>2</th>\n",
       "      <td>0.241651</td>\n",
       "      <td>0.254431</td>\n",
       "      <td>0.261214</td>\n",
       "      <td>0.267891</td>\n",
       "      <td>0.275535</td>\n",
       "      <td>0.283370</td>\n",
       "      <td>0.291886</td>\n",
       "      <td>0.302335</td>\n",
       "      <td>0.313625</td>\n",
       "      <td>0.327746</td>\n",
       "      <td>...</td>\n",
       "      <td>3.563812</td>\n",
       "      <td>3.622122</td>\n",
       "      <td>3.617598</td>\n",
       "      <td>3.652315</td>\n",
       "      <td>3.590150</td>\n",
       "      <td>3.710362</td>\n",
       "      <td>3.630672</td>\n",
       "      <td>3.653063</td>\n",
       "      <td>3.566837</td>\n",
       "      <td>3.704355</td>\n",
       "    </tr>\n",
       "    <tr>\n",
       "      <th>3</th>\n",
       "      <td>0.239650</td>\n",
       "      <td>0.252350</td>\n",
       "      <td>0.259107</td>\n",
       "      <td>0.265761</td>\n",
       "      <td>0.273390</td>\n",
       "      <td>0.281214</td>\n",
       "      <td>0.289725</td>\n",
       "      <td>0.300164</td>\n",
       "      <td>0.311455</td>\n",
       "      <td>0.325609</td>\n",
       "      <td>...</td>\n",
       "      <td>3.583575</td>\n",
       "      <td>3.620621</td>\n",
       "      <td>3.682378</td>\n",
       "      <td>3.681044</td>\n",
       "      <td>3.650404</td>\n",
       "      <td>3.645983</td>\n",
       "      <td>3.633222</td>\n",
       "      <td>3.668727</td>\n",
       "      <td>3.650432</td>\n",
       "      <td>3.687260</td>\n",
       "    </tr>\n",
       "    <tr>\n",
       "      <th>4</th>\n",
       "      <td>0.240787</td>\n",
       "      <td>0.253521</td>\n",
       "      <td>0.260278</td>\n",
       "      <td>0.266935</td>\n",
       "      <td>0.274576</td>\n",
       "      <td>0.282420</td>\n",
       "      <td>0.290953</td>\n",
       "      <td>0.301394</td>\n",
       "      <td>0.312720</td>\n",
       "      <td>0.326881</td>\n",
       "      <td>...</td>\n",
       "      <td>3.650906</td>\n",
       "      <td>3.728940</td>\n",
       "      <td>3.614735</td>\n",
       "      <td>3.618842</td>\n",
       "      <td>3.656746</td>\n",
       "      <td>3.622961</td>\n",
       "      <td>3.560679</td>\n",
       "      <td>3.710902</td>\n",
       "      <td>3.653769</td>\n",
       "      <td>3.663029</td>\n",
       "    </tr>\n",
       "  </tbody>\n",
       "</table>\n",
       "<p>5 rows × 575 columns</p>\n",
       "</div>"
      ],
      "text/plain": [
       "         V1        V3        V4        V5        V6        V7        V8  \\\n",
       "0  0.245288  0.258437  0.265449  0.272342  0.280249  0.288323  0.297118   \n",
       "1  0.242613  0.255609  0.262486  0.269311  0.277092  0.285063  0.293715   \n",
       "2  0.241651  0.254431  0.261214  0.267891  0.275535  0.283370  0.291886   \n",
       "3  0.239650  0.252350  0.259107  0.265761  0.273390  0.281214  0.289725   \n",
       "4  0.240787  0.253521  0.260278  0.266935  0.274576  0.282420  0.290953   \n",
       "\n",
       "         V9       V10       V11  ...      V567      V568      V569      V570  \\\n",
       "0  0.307861  0.319456  0.333941  ...  3.679895  3.654557  3.653983  3.714209   \n",
       "1  0.304371  0.315839  0.330161  ...  3.632740  3.738945  3.601677  3.592955   \n",
       "2  0.302335  0.313625  0.327746  ...  3.563812  3.622122  3.617598  3.652315   \n",
       "3  0.300164  0.311455  0.325609  ...  3.583575  3.620621  3.682378  3.681044   \n",
       "4  0.301394  0.312720  0.326881  ...  3.650906  3.728940  3.614735  3.618842   \n",
       "\n",
       "       V571      V572      V573      V574      V575      V576  \n",
       "0  3.669642  3.625521  3.647152  3.573585  3.623088  3.679775  \n",
       "1  3.606268  3.657218  3.632019  3.660901  3.635919  3.671539  \n",
       "2  3.590150  3.710362  3.630672  3.653063  3.566837  3.704355  \n",
       "3  3.650404  3.645983  3.633222  3.668727  3.650432  3.687260  \n",
       "4  3.656746  3.622961  3.560679  3.710902  3.653769  3.663029  \n",
       "\n",
       "[5 rows x 575 columns]"
      ]
     },
     "metadata": {},
     "output_type": "display_data"
    }
   ],
   "source": [
    "mode = 'Regression'\n",
    "data_source = 'BeerOriginalExtract'\n",
    "\n",
    "Xcal = load_csv_auto_sep(mode=mode, data_source=data_source, type_data='Xcal')\n",
    "Xval = load_csv_auto_sep(mode=mode, data_source=data_source, type_data='Xval')\n",
    "Ycal = load_csv_auto_sep(mode=mode, data_source=data_source, type_data='Ycal')\n",
    "Yval = load_csv_auto_sep(mode=mode, data_source=data_source, type_data='Yval')\n",
    "\n",
    "print(\"Number of spectra for calibration: \", len(Ycal))\n",
    "print(\"Number of spectra for test: \", len(Yval))\n",
    "display(Xcal.head(5))"
   ]
  },
  {
   "cell_type": "markdown",
   "id": "1e96379f",
   "metadata": {},
   "source": [
    "### Tableaux récupatulatifs pour les jeux de données"
   ]
  },
  {
   "cell_type": "code",
   "execution_count": 4,
   "id": "1172fbf7",
   "metadata": {},
   "outputs": [
    {
     "data": {
      "application/vnd.microsoft.datawrangler.viewer.v0+json": {
       "columns": [
        {
         "name": "index",
         "rawType": "int64",
         "type": "integer"
        },
        {
         "name": "Nom",
         "rawType": "object",
         "type": "string"
        },
        {
         "name": "Type",
         "rawType": "object",
         "type": "string"
        },
        {
         "name": "Nombre de spectres",
         "rawType": "int64",
         "type": "integer"
        },
        {
         "name": "Nombre de spectres de calibration",
         "rawType": "int64",
         "type": "integer"
        },
        {
         "name": "Nombre de spectres de validation",
         "rawType": "int64",
         "type": "integer"
        },
        {
         "name": "Nombre de variables",
         "rawType": "int64",
         "type": "integer"
        },
        {
         "name": "Nombre de classes",
         "rawType": "object",
         "type": "unknown"
        },
        {
         "name": "Proportions classes calibration",
         "rawType": "object",
         "type": "unknown"
        },
        {
         "name": "Proportions classes validation",
         "rawType": "object",
         "type": "unknown"
        }
       ],
       "conversionMethod": "pd.DataFrame",
       "ref": "431ec874-d18f-4bc6-a632-205c65c355ae",
       "rows": [
        [
         "0",
         "BeerOriginalExtract",
         "Regression",
         "60",
         "40",
         "20",
         "575",
         null,
         null,
         null
        ],
        [
         "1",
         "Digest_0.8",
         "Regression",
         "1876",
         "1504",
         "372",
         "948",
         null,
         null,
         null
        ],
        [
         "2",
         "YamProtein",
         "Regression",
         "1032",
         "784",
         "248",
         "1049",
         null,
         null,
         null
        ],
        [
         "3",
         "CoffeeSpecies",
         "Classification",
         "56",
         "28",
         "28",
         "285",
         "2",
         "[0.5 0.5]",
         "[0.54 0.46]"
        ],
        [
         "4",
         "Malaria2024",
         "Classification",
         "4281",
         "2996",
         "1285",
         "1664",
         "2",
         "[0.96 0.04]",
         "[0.95 0.05]"
        ],
        [
         "5",
         "mDigest_custom3",
         "Classification",
         "469",
         "376",
         "93",
         "948",
         "3",
         "[0.66 0.21 0.13]",
         "[0.67 0.2  0.13]"
        ],
        [
         "6",
         "WhiskyConcentration",
         "Classification",
         "1578",
         "1112",
         "466",
         "1751",
         "4",
         "[0.25 0.25 0.25 0.25]",
         "[0.25 0.25 0.25 0.25]"
        ],
        [
         "7",
         "YamMould",
         "Classification",
         "581",
         "359",
         "222",
         "1049",
         "2",
         "[0.63 0.37]",
         "[0.59 0.41]"
        ]
       ],
       "shape": {
        "columns": 9,
        "rows": 8
       }
      },
      "text/html": [
       "<div>\n",
       "<style scoped>\n",
       "    .dataframe tbody tr th:only-of-type {\n",
       "        vertical-align: middle;\n",
       "    }\n",
       "\n",
       "    .dataframe tbody tr th {\n",
       "        vertical-align: top;\n",
       "    }\n",
       "\n",
       "    .dataframe thead th {\n",
       "        text-align: right;\n",
       "    }\n",
       "</style>\n",
       "<table border=\"1\" class=\"dataframe\">\n",
       "  <thead>\n",
       "    <tr style=\"text-align: right;\">\n",
       "      <th></th>\n",
       "      <th>Nom</th>\n",
       "      <th>Type</th>\n",
       "      <th>Nombre de spectres</th>\n",
       "      <th>Nombre de spectres de calibration</th>\n",
       "      <th>Nombre de spectres de validation</th>\n",
       "      <th>Nombre de variables</th>\n",
       "      <th>Nombre de classes</th>\n",
       "      <th>Proportions classes calibration</th>\n",
       "      <th>Proportions classes validation</th>\n",
       "    </tr>\n",
       "  </thead>\n",
       "  <tbody>\n",
       "    <tr>\n",
       "      <th>0</th>\n",
       "      <td>BeerOriginalExtract</td>\n",
       "      <td>Regression</td>\n",
       "      <td>60</td>\n",
       "      <td>40</td>\n",
       "      <td>20</td>\n",
       "      <td>575</td>\n",
       "      <td>None</td>\n",
       "      <td>None</td>\n",
       "      <td>None</td>\n",
       "    </tr>\n",
       "    <tr>\n",
       "      <th>1</th>\n",
       "      <td>Digest_0.8</td>\n",
       "      <td>Regression</td>\n",
       "      <td>1876</td>\n",
       "      <td>1504</td>\n",
       "      <td>372</td>\n",
       "      <td>948</td>\n",
       "      <td>None</td>\n",
       "      <td>None</td>\n",
       "      <td>None</td>\n",
       "    </tr>\n",
       "    <tr>\n",
       "      <th>2</th>\n",
       "      <td>YamProtein</td>\n",
       "      <td>Regression</td>\n",
       "      <td>1032</td>\n",
       "      <td>784</td>\n",
       "      <td>248</td>\n",
       "      <td>1049</td>\n",
       "      <td>None</td>\n",
       "      <td>None</td>\n",
       "      <td>None</td>\n",
       "    </tr>\n",
       "    <tr>\n",
       "      <th>3</th>\n",
       "      <td>CoffeeSpecies</td>\n",
       "      <td>Classification</td>\n",
       "      <td>56</td>\n",
       "      <td>28</td>\n",
       "      <td>28</td>\n",
       "      <td>285</td>\n",
       "      <td>2</td>\n",
       "      <td>[0.5, 0.5]</td>\n",
       "      <td>[0.54, 0.46]</td>\n",
       "    </tr>\n",
       "    <tr>\n",
       "      <th>4</th>\n",
       "      <td>Malaria2024</td>\n",
       "      <td>Classification</td>\n",
       "      <td>4281</td>\n",
       "      <td>2996</td>\n",
       "      <td>1285</td>\n",
       "      <td>1664</td>\n",
       "      <td>2</td>\n",
       "      <td>[0.96, 0.04]</td>\n",
       "      <td>[0.95, 0.05]</td>\n",
       "    </tr>\n",
       "    <tr>\n",
       "      <th>5</th>\n",
       "      <td>mDigest_custom3</td>\n",
       "      <td>Classification</td>\n",
       "      <td>469</td>\n",
       "      <td>376</td>\n",
       "      <td>93</td>\n",
       "      <td>948</td>\n",
       "      <td>3</td>\n",
       "      <td>[0.66, 0.21, 0.13]</td>\n",
       "      <td>[0.67, 0.2, 0.13]</td>\n",
       "    </tr>\n",
       "    <tr>\n",
       "      <th>6</th>\n",
       "      <td>WhiskyConcentration</td>\n",
       "      <td>Classification</td>\n",
       "      <td>1578</td>\n",
       "      <td>1112</td>\n",
       "      <td>466</td>\n",
       "      <td>1751</td>\n",
       "      <td>4</td>\n",
       "      <td>[0.25, 0.25, 0.25, 0.25]</td>\n",
       "      <td>[0.25, 0.25, 0.25, 0.25]</td>\n",
       "    </tr>\n",
       "    <tr>\n",
       "      <th>7</th>\n",
       "      <td>YamMould</td>\n",
       "      <td>Classification</td>\n",
       "      <td>581</td>\n",
       "      <td>359</td>\n",
       "      <td>222</td>\n",
       "      <td>1049</td>\n",
       "      <td>2</td>\n",
       "      <td>[0.63, 0.37]</td>\n",
       "      <td>[0.59, 0.41]</td>\n",
       "    </tr>\n",
       "  </tbody>\n",
       "</table>\n",
       "</div>"
      ],
      "text/plain": [
       "                   Nom            Type  Nombre de spectres  \\\n",
       "0  BeerOriginalExtract      Regression                  60   \n",
       "1           Digest_0.8      Regression                1876   \n",
       "2           YamProtein      Regression                1032   \n",
       "3        CoffeeSpecies  Classification                  56   \n",
       "4          Malaria2024  Classification                4281   \n",
       "5      mDigest_custom3  Classification                 469   \n",
       "6  WhiskyConcentration  Classification                1578   \n",
       "7             YamMould  Classification                 581   \n",
       "\n",
       "   Nombre de spectres de calibration  Nombre de spectres de validation  \\\n",
       "0                                 40                                20   \n",
       "1                               1504                               372   \n",
       "2                                784                               248   \n",
       "3                                 28                                28   \n",
       "4                               2996                              1285   \n",
       "5                                376                                93   \n",
       "6                               1112                               466   \n",
       "7                                359                               222   \n",
       "\n",
       "   Nombre de variables Nombre de classes Proportions classes calibration  \\\n",
       "0                  575              None                            None   \n",
       "1                  948              None                            None   \n",
       "2                 1049              None                            None   \n",
       "3                  285                 2                      [0.5, 0.5]   \n",
       "4                 1664                 2                    [0.96, 0.04]   \n",
       "5                  948                 3              [0.66, 0.21, 0.13]   \n",
       "6                 1751                 4        [0.25, 0.25, 0.25, 0.25]   \n",
       "7                 1049                 2                    [0.63, 0.37]   \n",
       "\n",
       "  Proportions classes validation  \n",
       "0                           None  \n",
       "1                           None  \n",
       "2                           None  \n",
       "3                   [0.54, 0.46]  \n",
       "4                   [0.95, 0.05]  \n",
       "5              [0.67, 0.2, 0.13]  \n",
       "6       [0.25, 0.25, 0.25, 0.25]  \n",
       "7                   [0.59, 0.41]  "
      ]
     },
     "metadata": {},
     "output_type": "display_data"
    }
   ],
   "source": [
    "info_datasets = {}\n",
    "names = ['BeerOriginalExtract', 'Digest_0.8', 'YamProtein', 'CoffeeSpecies', 'Malaria2024', 'mDigest_custom3', 'WhiskyConcentration', 'YamMould']\n",
    "\n",
    "for ind, name in enumerate(names):\n",
    "    if ind < 3: \n",
    "        mode = 'Regression'\n",
    "    else:\n",
    "        mode = 'Classification'\n",
    "    \n",
    "    x = load_csv_auto_sep(mode=mode, data_source=name, type_data='Xcal', verbose=False)\n",
    "    y = load_csv_auto_sep(mode=mode, data_source=name, type_data='Xval', verbose=False)\n",
    "\n",
    "    size_cal, size_val = len(x), len(y)\n",
    "    nb_var = len(x.columns)\n",
    "\n",
    "    if mode == 'Regression':\n",
    "        nb_classes = None\n",
    "        prop_classes_cal = None\n",
    "        prop_classes_val = None\n",
    "    else:\n",
    "        # We need to get more information about the classes\n",
    "        y_cal = load_csv_auto_sep(mode=mode, data_source=name, type_data='Ycal', verbose=False)\n",
    "        y_val = load_csv_auto_sep(mode=mode, data_source=name, type_data='Yval', verbose=False)\n",
    "\n",
    "        # Calculate the number of classes in the calibration and validation sets\n",
    "        nb_classes_cal, nb_classes_val = int(y_cal.nunique()), int(y_val.nunique())\n",
    "        if nb_classes_cal != nb_classes_val:\n",
    "            nb_classes = f\"Cal: {nb_classes_cal}, Val: {nb_classes_val}\"\n",
    "        else:\n",
    "            nb_classes = str(nb_classes_cal)\n",
    "\n",
    "        # Calculate the proportion of each class in the calibration and validation sets\n",
    "        prop_classes_cal = np.round(y_cal.value_counts(normalize=True).values,2)\n",
    "        prop_classes_val = np.round(y_val.value_counts(normalize=True).values,2)\n",
    "\n",
    "    # Store the information in the dictionary\n",
    "    info_datasets[name] = (mode, size_cal, size_val, nb_var, nb_classes, prop_classes_cal, prop_classes_val)\n",
    "\n",
    "\n",
    "comparatif = pd.DataFrame([\n",
    "    {\n",
    "        \"Nom\": name,\n",
    "        \"Type\": mode,\n",
    "        \"Nombre de spectres\": size_cal+size_val,\n",
    "        \"Nombre de spectres de calibration\": size_cal,\n",
    "        \"Nombre de spectres de validation\": size_val,\n",
    "        \"Nombre de variables\": nb_var, \n",
    "        \"Nombre de classes\": nb_classes if mode == 'Classification' else None,\n",
    "        \"Proportions classes calibration\": prop_classes_cal if mode == 'Classification' else None, \n",
    "        \"Proportions classes validation\": prop_classes_val if mode == 'Classification' else None\n",
    "    }\n",
    "    for name, (mode, size_cal, size_val, nb_var, nb_classes, prop_classes_cal, prop_classes_val) in info_datasets.items()\n",
    "])\n",
    "\n",
    "display(comparatif)"
   ]
  },
  {
   "cell_type": "markdown",
   "id": "3954ee89",
   "metadata": {},
   "source": [
    "### Fucntion to plot diverse sets of spectra"
   ]
  },
  {
   "cell_type": "code",
   "execution_count": 5,
   "id": "d1a6ebec",
   "metadata": {},
   "outputs": [],
   "source": [
    "def plot_spectra(X, names, title='Visualization of the spectra'):\n",
    "    if isinstance(X, pd.DataFrame):\n",
    "        X = [X.values]\n",
    "    elif isinstance(X, np.ndarray):\n",
    "            X = [X]\n",
    "\n",
    "    plt.figure(figsize=(10, 5))\n",
    "    colors = sns.color_palette(palette = \"Paired\")\n",
    "    for i, dataset in enumerate(X):\n",
    "         plt.plot(dataset.T, color=colors[i])\n",
    "         plt.plot([], [], color=colors[i], label=names[i])\n",
    "\n",
    "    plt.legend(loc='upper left', fontsize='small')\n",
    "    plt.title(title)\n",
    "    plt.xlabel('Wavelength')\n",
    "    plt.ylabel('Absorbance')\n",
    "    plt.xticks(np.arange(0, dataset.shape[1], dataset.shape[1]//10), rotation=45)\n",
    "    plt.show(block=False)"
   ]
  },
  {
   "cell_type": "markdown",
   "id": "9ab7e659",
   "metadata": {},
   "source": [
    "### Test of pipelines with Pinard"
   ]
  },
  {
   "cell_type": "code",
   "execution_count": 4,
   "id": "ff609cb9",
   "metadata": {},
   "outputs": [
    {
     "name": "stderr",
     "output_type": "stream",
     "text": [
      "c:\\Users\\reiter\\CIRAD_PhD_Robin\\CIRAD_PhD_Robin\\.venv\\Lib\\site-packages\\sklearn\\utils\\validation.py:2732: UserWarning: X has feature names, but SavitzkyGolay was fitted without feature names\n",
      "  warnings.warn(\n"
     ]
    }
   ],
   "source": [
    "# Simple pipeline declaration\n",
    "pipeline = Pipeline([\n",
    "    ('scaler', MinMaxScaler()),\n",
    "    ('preprocessing', pp.SavitzkyGolay()),\n",
    "    ('pls', PLSRegression(n_components=10, scale=False))\n",
    "    ])\n",
    "\n",
    "# Transform the data with the desired part of the pipeline\n",
    "Xcal_transformed = pipeline[1].fit_transform(Xcal)"
   ]
  },
  {
   "cell_type": "markdown",
   "id": "193c5ab6",
   "metadata": {},
   "source": [
    "### Visualize the spectra after preprocessing"
   ]
  },
  {
   "cell_type": "code",
   "execution_count": 7,
   "id": "a5c4b301",
   "metadata": {},
   "outputs": [
    {
     "data": {
      "image/png": "[encoded data removed]",
      "text/plain": [
       "<Figure size 1000x500 with 1 Axes>"
      ]
     },
     "metadata": {},
     "output_type": "display_data"
    }
   ],
   "source": [
    "plot_spectra([Xcal, Xcal_transformed], \n",
    "             names = ['Before transformation', 'After transformation'], \n",
    "             title= 'Visualization of the spectra with or without preprocessing')\n",
    "plt.show()"
   ]
  },
  {
   "cell_type": "markdown",
   "id": "8ee10dd2",
   "metadata": {},
   "source": [
    "### Test on diverse preprocessing methods"
   ]
  },
  {
   "cell_type": "code",
   "execution_count": null,
   "id": "73889879",
   "metadata": {},
   "outputs": [],
   "source": [
    "# Dictionnary of preprocessing methods to be applied\n",
    "\n",
    "preprocessings = {\n",
    "    'Savitzky-Golay (0)': pp.SavitzkyGolay(),\n",
    "    'Savitzky-Golay (1)': pp.SavitzkyGolay(deriv=1),\n",
    "    'Savitzky-Golay (2)': pp.SavitzkyGolay(deriv=2),\n",
    "    'Savitzky-Golay (3)': pp.SavitzkyGolay(deriv=3),\n",
    "    'Savitzky-Golay (4)': pp.SavitzkyGolay(deriv=4),\n",
    "    'Savitzky-Golay (5)': pp.SavitzkyGolay(deriv=5),\n",
    "    'Savitzky-Golay (6)': pp.SavitzkyGolay(deriv=6),\n",
    "    'Gaussian (1, 2)': pp.Gaussian(order = 1, sigma = 2),\n",
    "    'Gaussian (2, 1)': pp.Gaussian(order = 2, sigma = 1),\n",
    "    'Gaussian (3, 1)': pp.Gaussian(order = 3, sigma = 1),\n",
    "    'Gaussian (4, 1)': pp.Gaussian(order = 4, sigma = 1),\n",
    "    'Gaussian (5, 1)': pp.Gaussian(order = 5, sigma = 1)\n",
    "}"
   ]
  },
  {
   "cell_type": "markdown",
   "id": "b329b077",
   "metadata": {},
   "source": [
    "### Dissimilarity with the Kolmogorov-Smirnov test"
   ]
  },
  {
   "cell_type": "code",
   "execution_count": null,
   "id": "876b166d",
   "metadata": {},
   "outputs": [
    {
     "name": "stdout",
     "output_type": "stream",
     "text": [
      "[('Savitzky-Golay (1)', 'Gaussian (1, 2)'), ('Savitzky-Golay (4)', 'Savitzky-Golay (5)'), ('Savitzky-Golay (4)', 'Savitzky-Golay (6)'), ('Savitzky-Golay (5)', 'Savitzky-Golay (6)'), ('Gaussian (2, 1)', 'Gaussian (3, 1)')]\n"
     ]
    }
   ],
   "source": [
    "dict, close_preprocessings = dissim.compare_preprocessings(preprocessings, Xcal, distance_fn=dissim.dissim_KS)\n",
    "\n",
    "print(close_preprocessings)"
   ]
  },
  {
   "cell_type": "markdown",
   "id": "fc3de136",
   "metadata": {},
   "source": [
    "### Dissimilarity with a function on datasets' meta attributes "
   ]
  },
  {
   "cell_type": "markdown",
   "id": "dca8ae1c",
   "metadata": {},
   "source": [
    "In this section we refer to the article [Raynaut et al., 2017](https://hal.science/hal-02451041/document)."
   ]
  },
  {
   "cell_type": "code",
   "execution_count": null,
   "id": "dc67e2cf",
   "metadata": {},
   "outputs": [],
   "source": [
    "# Dictionnary of preprocessing methods to be applied\n",
    "\n",
    "preprocessings = {\n",
    "    'Savitzky-Golay (0)': pp.SavitzkyGolay(),\n",
    "    'Savitzky-Golay (1)': pp.SavitzkyGolay(deriv=1),\n",
    "    'Savitzky-Golay (2)': pp.SavitzkyGolay(deriv=2),\n",
    "    'Savitzky-Golay (3)': pp.SavitzkyGolay(deriv=3),\n",
    "    'Savitzky-Golay (4)': pp.SavitzkyGolay(deriv=4),\n",
    "    'Savitzky-Golay (5)': pp.SavitzkyGolay(deriv=5),\n",
    "    'Savitzky-Golay (6)': pp.SavitzkyGolay(deriv=6),\n",
    "    'Gaussian (1, 2)': pp.Gaussian(order = 1, sigma = 2),\n",
    "    'Gaussian (2, 1)': pp.Gaussian(order = 2, sigma = 1),\n",
    "    'Gaussian (3, 1)': pp.Gaussian(order = 3, sigma = 1),\n",
    "    'Gaussian (4, 1)': pp.Gaussian(order = 4, sigma = 1),\n",
    "    'Gaussian (5, 1)': pp.Gaussian(order = 5, sigma = 1)\n",
    "}"
   ]
  },
  {
   "cell_type": "code",
   "execution_count": null,
   "id": "ca71f238",
   "metadata": {},
   "outputs": [
    {
     "name": "stdout",
     "output_type": "stream",
     "text": [
      "[('Savitzky-Golay (0)', 'Savitzky-Golay (1)'), ('Savitzky-Golay (0)', 'Savitzky-Golay (2)'), ('Savitzky-Golay (0)', 'Savitzky-Golay (3)'), ('Savitzky-Golay (0)', 'Gaussian (1, 2)'), ('Savitzky-Golay (0)', 'Gaussian (2, 1)'), ('Savitzky-Golay (0)', 'Gaussian (3, 1)'), ('Savitzky-Golay (0)', 'Gaussian (4, 1)'), ('Savitzky-Golay (0)', 'Gaussian (5, 1)'), ('Savitzky-Golay (1)', 'Savitzky-Golay (2)'), ('Savitzky-Golay (1)', 'Savitzky-Golay (3)'), ('Savitzky-Golay (1)', 'Gaussian (1, 2)'), ('Savitzky-Golay (1)', 'Gaussian (2, 1)'), ('Savitzky-Golay (1)', 'Gaussian (3, 1)'), ('Savitzky-Golay (1)', 'Gaussian (4, 1)'), ('Savitzky-Golay (1)', 'Gaussian (5, 1)'), ('Savitzky-Golay (2)', 'Savitzky-Golay (3)'), ('Savitzky-Golay (2)', 'Gaussian (1, 2)'), ('Savitzky-Golay (2)', 'Gaussian (2, 1)'), ('Savitzky-Golay (2)', 'Gaussian (3, 1)'), ('Savitzky-Golay (2)', 'Gaussian (4, 1)'), ('Savitzky-Golay (2)', 'Gaussian (5, 1)'), ('Savitzky-Golay (3)', 'Gaussian (1, 2)'), ('Savitzky-Golay (3)', 'Gaussian (2, 1)'), ('Savitzky-Golay (3)', 'Gaussian (3, 1)'), ('Savitzky-Golay (3)', 'Gaussian (4, 1)'), ('Savitzky-Golay (3)', 'Gaussian (5, 1)'), ('Gaussian (1, 2)', 'Gaussian (2, 1)'), ('Gaussian (1, 2)', 'Gaussian (3, 1)'), ('Gaussian (1, 2)', 'Gaussian (4, 1)'), ('Gaussian (1, 2)', 'Gaussian (5, 1)'), ('Gaussian (2, 1)', 'Gaussian (3, 1)'), ('Gaussian (2, 1)', 'Gaussian (4, 1)'), ('Gaussian (2, 1)', 'Gaussian (5, 1)'), ('Gaussian (3, 1)', 'Gaussian (4, 1)'), ('Gaussian (3, 1)', 'Gaussian (5, 1)')]\n"
     ]
    }
   ],
   "source": [
    "dict, close_preprocessings = dissim.compare_preprocessings(preprocessings, Xcal, distance_fn=dissim.dissim_meta_att_var, normalize_dissim=True)\n",
    "\n",
    "print(close_preprocessings)"
   ]
  },
  {
   "cell_type": "markdown",
   "id": "cb6238bf",
   "metadata": {},
   "source": [
    "### Comparison between dissimilarity functions on preprocessing pairs considered as close"
   ]
  },
  {
   "cell_type": "code",
   "execution_count": null,
   "id": "32ac12a0",
   "metadata": {},
   "outputs": [],
   "source": [
    "# Dictionnary of preprocessing methods to be applied\n",
    "\n",
    "preprocessings = {\n",
    "    'Savitzky-Golay (0)': pp.SavitzkyGolay(),\n",
    "    'Savitzky-Golay (1)': pp.SavitzkyGolay(deriv=1),\n",
    "    'Savitzky-Golay (2)': pp.SavitzkyGolay(deriv=2),\n",
    "    'Savitzky-Golay (3)': pp.SavitzkyGolay(deriv=3),\n",
    "    'Savitzky-Golay (4)': pp.SavitzkyGolay(deriv=4),\n",
    "    'Savitzky-Golay (5)': pp.SavitzkyGolay(deriv=5),\n",
    "    'Savitzky-Golay (6)': pp.SavitzkyGolay(deriv=6),\n",
    "    'Gaussian (1, 2)': pp.Gaussian(order = 1, sigma = 2),\n",
    "    'Gaussian (2, 1)': pp.Gaussian(order = 2, sigma = 1),\n",
    "    'Gaussian (3, 1)': pp.Gaussian(order = 3, sigma = 1),\n",
    "    'Gaussian (4, 1)': pp.Gaussian(order = 4, sigma = 1),\n",
    "    'Gaussian (5, 1)': pp.Gaussian(order = 5, sigma = 1)\n",
    "}"
   ]
  },
  {
   "cell_type": "code",
   "execution_count": null,
   "id": "a992d33c",
   "metadata": {},
   "outputs": [
    {
     "name": "stdout",
     "output_type": "stream",
     "text": [
      "Number of close pairs found :  5\n",
      "Kennard-Stone dissimilarity :  [('Savitzky-Golay (1)', 'Gaussian (1, 2)'), ('Savitzky-Golay (4)', 'Savitzky-Golay (5)'), ('Savitzky-Golay (4)', 'Savitzky-Golay (6)'), ('Savitzky-Golay (5)', 'Savitzky-Golay (6)'), ('Gaussian (2, 1)', 'Gaussian (3, 1)')]\n",
      "Time required :  1.72 seconds\n",
      "--------------------------------------------------\n",
      "0.0\n"
     ]
    }
   ],
   "source": [
    "dissim = importlib.import_module('dissimilarity_functions')\n",
    "importlib.reload(dissim)\n",
    "\n",
    "# Get the list of close preprocessings with Kennard-Stone dissimilarity\n",
    "start_time = time.time()\n",
    "dict_KS, close_preprocessings_KS = dissim.compare_preprocessings(preprocessings, Xcal, distance_fn=dissim.dissim_KS, normalize_dissim=False)\n",
    "elapsed_time_KS = time.time() - start_time\n",
    "print(\"Number of close pairs found : \", len(close_preprocessings_KS))\n",
    "print(\"Kolmogorov-Smirnov dissimilarity : \", close_preprocessings_KS)\n",
    "print(\"Time required : \", round(elapsed_time_KS,2), \"seconds\")\n",
    "print(\"-\" * 50)"
   ]
  },
  {
   "cell_type": "code",
   "execution_count": 23,
   "id": "564f81ca",
   "metadata": {},
   "outputs": [
    {
     "name": "stdout",
     "output_type": "stream",
     "text": [
      "[1.0, 1.0, 1.0, 1.0, 1.0, 1.0, 1.0, 1.0, 1.0, 1.0, 0.9998260869565219, 0.43408695652173906, 0.48726086956521736, 0.6196521739130434, 0.6196521739130434, 0.6196521739130434, 0.05634782608695652, 0.2376521739130435, 0.22826086956521738, 0.30565217391304345, 0.23686956521739128, 0.10956521739130434, 0.5166521739130434, 0.5166521739130434, 0.5166521739130434, 0.42200000000000004, 0.24130434782608692, 0.24230434782608695, 0.4665217391304347, 0.35, 0.5585652173913044, 0.5585652173913044, 0.5585652173913044, 0.48160869565217396, 0.29134782608695653, 0.2824782608695652, 0.5152608695652173, 0.3792608695652174, 0.0, 0.0, 0.6314347826086957, 0.5132173913043478, 0.5183913043478261, 0.6749565217391305, 0.5114782608695652, 0.0, 0.6314347826086957, 0.5132173913043478, 0.5183913043478261, 0.6749565217391305, 0.5114782608695652, 0.6314347826086957, 0.5132173913043478, 0.5183913043478261, 0.6749565217391305, 0.5114782608695652, 0.22447826086956518, 0.2267826086956522, 0.31526086956521737, 0.2606521739130435, 0.07360869565217391, 0.24895652173913044, 0.23173913043478261, 0.2620869565217391, 0.18382608695652172, 0.19704347826086957]\n"
     ]
    },
    {
     "data": {
      "text/plain": [
       "np.float64(0.19043478260869565)"
      ]
     },
     "execution_count": 23,
     "metadata": {},
     "output_type": "execute_result"
    }
   ],
   "source": [
    "print(list(dict_KS.values()))\n",
    "np.percentile(list(dict_KS.values()), 10)"
   ]
  },
  {
   "cell_type": "markdown",
   "id": "38fc5b16",
   "metadata": {},
   "source": [
    "#### With a fixed threshold to detect closeness"
   ]
  },
  {
   "cell_type": "code",
   "execution_count": null,
   "id": "dcb54743",
   "metadata": {},
   "outputs": [
    {
     "name": "stdout",
     "output_type": "stream",
     "text": [
      "Number of close pairs found :  5\n",
      "Kennard-Stone dissimilarity :  [('Savitzky-Golay (1)', 'Gaussian (1, 2)'), ('Savitzky-Golay (4)', 'Savitzky-Golay (5)'), ('Savitzky-Golay (4)', 'Savitzky-Golay (6)'), ('Savitzky-Golay (5)', 'Savitzky-Golay (6)'), ('Gaussian (2, 1)', 'Gaussian (3, 1)')]\n",
      "Time required :  1.73 seconds\n",
      "--------------------------------------------------\n",
      "Number of close pairs found :  65\n",
      "Meta-attributes dissimilarity :  [('Savitzky-Golay (0)', 'Savitzky-Golay (1)'), ('Savitzky-Golay (0)', 'Savitzky-Golay (2)'), ('Savitzky-Golay (0)', 'Savitzky-Golay (3)'), ('Savitzky-Golay (0)', 'Savitzky-Golay (4)'), ('Savitzky-Golay (0)', 'Savitzky-Golay (5)'), ('Savitzky-Golay (0)', 'Savitzky-Golay (6)'), ('Savitzky-Golay (0)', 'Gaussian (1, 2)'), ('Savitzky-Golay (0)', 'Gaussian (2, 1)'), ('Savitzky-Golay (0)', 'Gaussian (3, 1)'), ('Savitzky-Golay (0)', 'Gaussian (4, 1)'), ('Savitzky-Golay (0)', 'Gaussian (5, 1)'), ('Savitzky-Golay (1)', 'Savitzky-Golay (2)'), ('Savitzky-Golay (1)', 'Savitzky-Golay (3)'), ('Savitzky-Golay (1)', 'Savitzky-Golay (4)'), ('Savitzky-Golay (1)', 'Savitzky-Golay (5)'), ('Savitzky-Golay (1)', 'Savitzky-Golay (6)'), ('Savitzky-Golay (1)', 'Gaussian (1, 2)'), ('Savitzky-Golay (1)', 'Gaussian (2, 1)'), ('Savitzky-Golay (1)', 'Gaussian (3, 1)'), ('Savitzky-Golay (1)', 'Gaussian (4, 1)'), ('Savitzky-Golay (1)', 'Gaussian (5, 1)'), ('Savitzky-Golay (2)', 'Savitzky-Golay (3)'), ('Savitzky-Golay (2)', 'Savitzky-Golay (4)'), ('Savitzky-Golay (2)', 'Savitzky-Golay (5)'), ('Savitzky-Golay (2)', 'Savitzky-Golay (6)'), ('Savitzky-Golay (2)', 'Gaussian (1, 2)'), ('Savitzky-Golay (2)', 'Gaussian (2, 1)'), ('Savitzky-Golay (2)', 'Gaussian (3, 1)'), ('Savitzky-Golay (2)', 'Gaussian (4, 1)'), ('Savitzky-Golay (2)', 'Gaussian (5, 1)'), ('Savitzky-Golay (3)', 'Savitzky-Golay (4)'), ('Savitzky-Golay (3)', 'Savitzky-Golay (5)'), ('Savitzky-Golay (3)', 'Savitzky-Golay (6)'), ('Savitzky-Golay (3)', 'Gaussian (1, 2)'), ('Savitzky-Golay (3)', 'Gaussian (2, 1)'), ('Savitzky-Golay (3)', 'Gaussian (3, 1)'), ('Savitzky-Golay (3)', 'Gaussian (4, 1)'), ('Savitzky-Golay (3)', 'Gaussian (5, 1)'), ('Savitzky-Golay (4)', 'Savitzky-Golay (5)'), ('Savitzky-Golay (4)', 'Savitzky-Golay (6)'), ('Savitzky-Golay (4)', 'Gaussian (1, 2)'), ('Savitzky-Golay (4)', 'Gaussian (2, 1)'), ('Savitzky-Golay (4)', 'Gaussian (3, 1)'), ('Savitzky-Golay (4)', 'Gaussian (4, 1)'), ('Savitzky-Golay (4)', 'Gaussian (5, 1)'), ('Savitzky-Golay (5)', 'Savitzky-Golay (6)'), ('Savitzky-Golay (5)', 'Gaussian (1, 2)'), ('Savitzky-Golay (5)', 'Gaussian (2, 1)'), ('Savitzky-Golay (5)', 'Gaussian (3, 1)'), ('Savitzky-Golay (5)', 'Gaussian (4, 1)'), ('Savitzky-Golay (5)', 'Gaussian (5, 1)'), ('Savitzky-Golay (6)', 'Gaussian (1, 2)'), ('Savitzky-Golay (6)', 'Gaussian (2, 1)'), ('Savitzky-Golay (6)', 'Gaussian (3, 1)'), ('Savitzky-Golay (6)', 'Gaussian (4, 1)'), ('Savitzky-Golay (6)', 'Gaussian (5, 1)'), ('Gaussian (1, 2)', 'Gaussian (2, 1)'), ('Gaussian (1, 2)', 'Gaussian (3, 1)'), ('Gaussian (1, 2)', 'Gaussian (4, 1)'), ('Gaussian (1, 2)', 'Gaussian (5, 1)'), ('Gaussian (2, 1)', 'Gaussian (3, 1)'), ('Gaussian (2, 1)', 'Gaussian (4, 1)'), ('Gaussian (2, 1)', 'Gaussian (5, 1)'), ('Gaussian (3, 1)', 'Gaussian (4, 1)'), ('Gaussian (3, 1)', 'Gaussian (5, 1)')]\n",
      "Time required :  14.34 seconds\n"
     ]
    }
   ],
   "source": [
    "dissim = importlib.import_module('fonctions_dissimilarite')\n",
    "importlib.reload(dissim)\n",
    "\n",
    "# Get the list of close preprocessings with Kennard-Stone dissimilarity\n",
    "start_time = time.time()\n",
    "dict_KS, close_preprocessings_KS = dissim.compare_preprocessings(preprocessings, Xcal, distance_fn=dissim.dissim_KS, normalize_dissim=False)\n",
    "elapsed_time_KS = time.time() - start_time\n",
    "print(\"Number of close pairs found : \", len(close_preprocessings_KS))\n",
    "print(\"KS dissimilarity : \", close_preprocessings_KS)\n",
    "print(\"Time required : \", round(elapsed_time_KS,2), \"seconds\")\n",
    "print(\"-\" * 50)\n",
    "\n",
    "# Get the list of close preprocessings with meta-attributes dissimilarity\n",
    "start_time = time.time()\n",
    "dict_meta, close_preprocessings_meta = dissim.compare_preprocessings(preprocessings, Xcal, distance_fn=dissim.dissim_meta_att_var, normalize_dissim=True)\n",
    "elapsed_time_meta = time.time() - start_time\n",
    "print(\"Number of close pairs found : \", len(close_preprocessings_meta))\n",
    "print(\"Meta-attributes dissimilarity : \", close_preprocessings_meta)\n",
    "print(\"Time required : \", round(elapsed_time_meta,2) , \"seconds\")"
   ]
  },
  {
   "cell_type": "markdown",
   "id": "dee87c32",
   "metadata": {},
   "source": [
    "#### With a threshold based on the proportion of preprocessing pairs to consider being close"
   ]
  },
  {
   "cell_type": "markdown",
   "id": "64349b36",
   "metadata": {},
   "source": [
    "The tests below are not performed on the same database than above."
   ]
  },
  {
   "cell_type": "code",
   "execution_count": null,
   "id": "2f1e17d8",
   "metadata": {},
   "outputs": [
    {
     "name": "stdout",
     "output_type": "stream",
     "text": [
      "Number of close pairs found :  7\n",
      "Kennard-Stone dissimilarity :  [('Savitzky-Golay (1)', 'Gaussian (1, 2)'), ('Savitzky-Golay (2)', 'Savitzky-Golay (3)'), ('Savitzky-Golay (4)', 'Savitzky-Golay (5)'), ('Savitzky-Golay (4)', 'Savitzky-Golay (6)'), ('Savitzky-Golay (5)', 'Savitzky-Golay (6)'), ('Gaussian (2, 1)', 'Gaussian (3, 1)'), ('Gaussian (3, 1)', 'Gaussian (5, 1)')]\n",
      "Time required :  2.16 seconds\n",
      "--------------------------------------------------\n",
      "Number of close pairs found :  7\n",
      "Meta-attributes dissimilarity :  [('Savitzky-Golay (0)', 'Savitzky-Golay (1)'), ('Savitzky-Golay (0)', 'Savitzky-Golay (2)'), ('Savitzky-Golay (0)', 'Savitzky-Golay (3)'), ('Savitzky-Golay (0)', 'Savitzky-Golay (4)'), ('Savitzky-Golay (4)', 'Savitzky-Golay (5)'), ('Savitzky-Golay (4)', 'Savitzky-Golay (6)'), ('Savitzky-Golay (5)', 'Savitzky-Golay (6)')]\n",
      "Time required :  13.35 seconds\n"
     ]
    }
   ],
   "source": [
    "dissim = importlib.import_module('fonctions_dissimilarite')\n",
    "importlib.reload(dissim)\n",
    "\n",
    "# Get the list of close preprocessings with Kennard-Stone dissimilarity\n",
    "start_time = time.time()\n",
    "dict_KS, close_preprocessings_KS = dissim.compare_preprocessings(preprocessings, Xcal, distance_fn=dissim.dissim_KS, normalize_dissim=False, threshold=(\"proportion\", 0.1))\n",
    "elapsed_time_KS = time.time() - start_time\n",
    "print(\"Number of close pairs found : \", len(close_preprocessings_KS))\n",
    "print(\"KS dissimilarity : \", close_preprocessings_KS)\n",
    "print(\"Time required : \", round(elapsed_time_KS,2), \"seconds\")\n",
    "print(\"-\" * 50)\n",
    "\n",
    "# Get the list of close preprocessings with meta-attributes dissimilarity\n",
    "start_time = time.time()\n",
    "dict_meta, close_preprocessings_meta = dissim.compare_preprocessings(preprocessings, Xcal, distance_fn=dissim.dissim_meta_att_var, normalize_dissim=True, threshold=(\"proportion\", 0.1))\n",
    "elapsed_time_meta = time.time() - start_time\n",
    "print(\"Number of close pairs found : \", len(close_preprocessings_meta))\n",
    "print(\"Meta-attributes dissimilarity : \", close_preprocessings_meta)\n",
    "print(\"Time required : \", round(elapsed_time_meta,2) , \"seconds\")"
   ]
  }
 ],
 "metadata": {
  "kernelspec": {
   "display_name": ".venv",
   "language": "python",
   "name": "python3"
  },
  "language_info": {
   "codemirror_mode": {
    "name": "ipython",
    "version": 3
   },
   "file_extension": ".py",
   "mimetype": "text/x-python",
   "name": "python",
   "nbconvert_exporter": "python",
   "pygments_lexer": "ipython3",
   "version": "3.11.9"
  }
 },
 "nbformat": 4,
 "nbformat_minor": 5
}
